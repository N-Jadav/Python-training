{
 "cells": [
  {
   "cell_type": "code",
   "execution_count": 1,
   "id": "de524d34-b278-4dfc-a69d-fc842da66634",
   "metadata": {},
   "outputs": [
    {
     "data": {
      "text/plain": [
       "bool"
      ]
     },
     "execution_count": 1,
     "metadata": {},
     "output_type": "execute_result"
    }
   ],
   "source": [
    "# Booleans are operators that convey True or False values\n",
    "type(False)"
   ]
  },
  {
   "cell_type": "code",
   "execution_count": 2,
   "id": "6b176b4b-6f86-4612-8c8d-28cc73af4983",
   "metadata": {},
   "outputs": [
    {
     "data": {
      "text/plain": [
       "False"
      ]
     },
     "execution_count": 2,
     "metadata": {},
     "output_type": "execute_result"
    }
   ],
   "source": [
    "1>2"
   ]
  },
  {
   "cell_type": "code",
   "execution_count": 3,
   "id": "33c96b07-e586-41b8-8bdc-13698dbd0f5f",
   "metadata": {},
   "outputs": [
    {
     "data": {
      "text/plain": [
       "False"
      ]
     },
     "execution_count": 3,
     "metadata": {},
     "output_type": "execute_result"
    }
   ],
   "source": [
    "1 == 3"
   ]
  },
  {
   "cell_type": "code",
   "execution_count": 5,
   "id": "dbaecfbd-3588-4192-aba4-eb1bbc0cc52a",
   "metadata": {},
   "outputs": [
    {
     "data": {
      "text/plain": [
       "True"
      ]
     },
     "execution_count": 5,
     "metadata": {},
     "output_type": "execute_result"
    }
   ],
   "source": [
    "'Hello' == 'Hello'"
   ]
  },
  {
   "cell_type": "code",
   "execution_count": 6,
   "id": "b711d109-6f9e-4a09-8a0d-9bc0c8442e9c",
   "metadata": {},
   "outputs": [],
   "source": [
    "b = None #Datatype None to assign nothing to a variable"
   ]
  },
  {
   "cell_type": "code",
   "execution_count": null,
   "id": "d098588b-bab3-4b97-a9c0-3deb6947b885",
   "metadata": {},
   "outputs": [],
   "source": []
  }
 ],
 "metadata": {
  "kernelspec": {
   "display_name": "Python 3 (ipykernel)",
   "language": "python",
   "name": "python3"
  },
  "language_info": {
   "codemirror_mode": {
    "name": "ipython",
    "version": 3
   },
   "file_extension": ".py",
   "mimetype": "text/x-python",
   "name": "python",
   "nbconvert_exporter": "python",
   "pygments_lexer": "ipython3",
   "version": "3.11.7"
  }
 },
 "nbformat": 4,
 "nbformat_minor": 5
}
