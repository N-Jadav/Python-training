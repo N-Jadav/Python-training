{
 "cells": [
  {
   "cell_type": "code",
   "execution_count": 1,
   "id": "c564f97b-a828-433f-aa17-14a4970968a4",
   "metadata": {},
   "outputs": [
    {
     "name": "stdout",
     "output_type": "stream",
     "text": [
      "Hello!\n",
      "Hello!!\n",
      "Don't say Hello again!!\n"
     ]
    }
   ],
   "source": [
    "print('Hello!')\n",
    "\n",
    "print(\"Hello!!\")\n",
    "\n",
    "#If there is a ' in the string then use \"\n",
    "print(\"Don't say Hello again!!\")"
   ]
  },
  {
   "cell_type": "code",
   "execution_count": 2,
   "id": "adb1806c-f68e-4e72-bdbe-e3c7539ebfa6",
   "metadata": {},
   "outputs": [
    {
     "name": "stdout",
     "output_type": "stream",
     "text": [
      "m\n",
      "h\n"
     ]
    }
   ],
   "source": [
    "str = \"I am learning Python\"\n",
    "\n",
    "print(str[3])\n",
    "\n",
    "# Reverse indexing, it starts from last character like -1, -2,...\n",
    "print(str[-3])"
   ]
  },
  {
   "cell_type": "code",
   "execution_count": 4,
   "id": "786e9da6-576b-4e24-8679-4729e46e704d",
   "metadata": {},
   "outputs": [
    {
     "name": "stdout",
     "output_type": "stream",
     "text": [
      "Hello \n",
      " world!!\n",
      "Hello \t world!!\n"
     ]
    }
   ],
   "source": [
    "#New line\n",
    "print(\"Hello \\n world!!\")\n",
    "\n",
    "#Tab\n",
    "print(\"Hello \\t world!!\")"
   ]
  },
  {
   "cell_type": "code",
   "execution_count": 5,
   "id": "35b0ae33-9d17-451c-bca5-ec47e349d5ba",
   "metadata": {},
   "outputs": [
    {
     "data": {
      "text/plain": [
       "5"
      ]
     },
     "execution_count": 5,
     "metadata": {},
     "output_type": "execute_result"
    }
   ],
   "source": [
    "#Length of string\n",
    "\n",
    "len(\"Hello\")"
   ]
  },
  {
   "cell_type": "code",
   "execution_count": 11,
   "id": "cbb357a3-97e7-4c0b-91d4-3b59b15ab389",
   "metadata": {},
   "outputs": [
    {
     "name": "stdout",
     "output_type": "stream",
     "text": [
      "cde\n"
     ]
    }
   ],
   "source": [
    "#Slicing of string\n",
    "mystring = \"abcdefghijk\"\n",
    "\n",
    "# Slicing [start:stop:jump]\n",
    "#Jump means, how many characters to skip in-between or to jump over\n",
    "print(mystring[2:5:1])"
   ]
  },
  {
   "cell_type": "code",
   "execution_count": 13,
   "id": "2557790f-010e-4772-9c2c-e14ae27b58be",
   "metadata": {},
   "outputs": [
    {
     "name": "stdout",
     "output_type": "stream",
     "text": [
      "cdefghijk\n"
     ]
    }
   ],
   "source": [
    "#Print from c till last character using slice\n",
    "print(mystring[2:])"
   ]
  },
  {
   "cell_type": "code",
   "execution_count": 15,
   "id": "99f32121-7844-427f-b9ae-fb79ee1062ad",
   "metadata": {},
   "outputs": [
    {
     "name": "stdout",
     "output_type": "stream",
     "text": [
      "abcd\n"
     ]
    }
   ],
   "source": [
    "#Print from start till e\n",
    "print(mystring[:4])"
   ]
  },
  {
   "cell_type": "code",
   "execution_count": 17,
   "id": "3da1892d-9ccd-4f6e-811b-6723f0dd2d04",
   "metadata": {},
   "outputs": [
    {
     "name": "stdout",
     "output_type": "stream",
     "text": [
      "bdfhj\n"
     ]
    }
   ],
   "source": [
    "#Print from b till j and print alternate character ---> b,d,f,h,j\n",
    "print(mystring[1:10:2])"
   ]
  },
  {
   "cell_type": "code",
   "execution_count": null,
   "id": "0eea0cf5-d7b9-497a-9853-8610ec840bbc",
   "metadata": {},
   "outputs": [],
   "source": []
  }
 ],
 "metadata": {
  "kernelspec": {
   "display_name": "Python 3 (ipykernel)",
   "language": "python",
   "name": "python3"
  },
  "language_info": {
   "codemirror_mode": {
    "name": "ipython",
    "version": 3
   },
   "file_extension": ".py",
   "mimetype": "text/x-python",
   "name": "python",
   "nbconvert_exporter": "python",
   "pygments_lexer": "ipython3",
   "version": "3.11.7"
  }
 },
 "nbformat": 4,
 "nbformat_minor": 5
}
