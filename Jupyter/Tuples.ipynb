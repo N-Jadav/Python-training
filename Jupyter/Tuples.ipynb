{
 "cells": [
  {
   "cell_type": "code",
   "execution_count": 3,
   "id": "f37c221e-c5fa-482e-beaf-84afc35df1e4",
   "metadata": {},
   "outputs": [
    {
     "name": "stdout",
     "output_type": "stream",
     "text": [
      "3\n"
     ]
    }
   ],
   "source": [
    "#Tupels are similar to lists, but they are immutable\n",
    "my_tuple = (1,2,3)\n",
    "\n",
    "print(my_tuple[2])\n",
    "\n",
    "#Not allowed \n",
    "#my_tuple[2] = 4"
   ]
  },
  {
   "cell_type": "code",
   "execution_count": 4,
   "id": "3b99c634-3baa-48a7-96e2-9d63d93330c5",
   "metadata": {},
   "outputs": [
    {
     "name": "stdout",
     "output_type": "stream",
     "text": [
      "one 2\n"
     ]
    }
   ],
   "source": [
    "my_tuple = ('one', 2)\n",
    "\n",
    "#indexing ans reverse indexing are same as lists\n",
    "print(my_tuple[0], my_tuple[-1])"
   ]
  },
  {
   "cell_type": "code",
   "execution_count": 6,
   "id": "a20deca3-fa90-4fc7-bd82-b5465c0fd205",
   "metadata": {},
   "outputs": [
    {
     "name": "stdout",
     "output_type": "stream",
     "text": [
      "2\n",
      "0\n"
     ]
    }
   ],
   "source": [
    "t = ('a', 'a', 'b')\n",
    "\n",
    "#finding out count of 'a'\n",
    "print(t.count('a'))\n",
    "\n",
    "#finding out the very first index of element\n",
    "print(t.index('a'))"
   ]
  },
  {
   "cell_type": "code",
   "execution_count": null,
   "id": "b5694da4-feaf-482a-9f60-8947a65c3041",
   "metadata": {},
   "outputs": [],
   "source": []
  }
 ],
 "metadata": {
  "kernelspec": {
   "display_name": "Python 3 (ipykernel)",
   "language": "python",
   "name": "python3"
  },
  "language_info": {
   "codemirror_mode": {
    "name": "ipython",
    "version": 3
   },
   "file_extension": ".py",
   "mimetype": "text/x-python",
   "name": "python",
   "nbconvert_exporter": "python",
   "pygments_lexer": "ipython3",
   "version": "3.11.7"
  }
 },
 "nbformat": 4,
 "nbformat_minor": 5
}
