{
 "cells": [
  {
   "cell_type": "code",
   "execution_count": 3,
   "id": "f8d9c2c7-dee9-4362-bc56-f3d1bd3e7d11",
   "metadata": {},
   "outputs": [
    {
     "name": "stdout",
     "output_type": "stream",
     "text": [
      "Neerali\n"
     ]
    }
   ],
   "source": [
    "#Dictionaries are Unordered mappings (key:value pairs) of objects\n",
    "my_dict = {'name': 'Neerali', 'age': '27'}\n",
    "\n",
    "print(my_dict['name'])"
   ]
  },
  {
   "cell_type": "code",
   "execution_count": 5,
   "id": "4fbb2b58-17c4-49d4-8d8b-bae929e3e269",
   "metadata": {},
   "outputs": [
    {
     "name": "stdout",
     "output_type": "stream",
     "text": [
      "1 2\n"
     ]
    }
   ],
   "source": [
    "#Dictionaries can hold list or another dictionaries as well\n",
    "d = {'k1':123, 'k2':[1,2,3], 'k3': {'1': '2'}}\n",
    "\n",
    "print(d['k2'][0], d['k3']['1'])"
   ]
  },
  {
   "cell_type": "code",
   "execution_count": 6,
   "id": "4f4189c4-5b9f-4803-92eb-408ade9c43ef",
   "metadata": {},
   "outputs": [
    {
     "name": "stdout",
     "output_type": "stream",
     "text": [
      "{'k1': 123, 'k2': [1, 2, 3], 'k3': {'1': 'New Value'}}\n"
     ]
    }
   ],
   "source": [
    "d['k3']['1'] = 'New Value'\n",
    "\n",
    "print(d)"
   ]
  },
  {
   "cell_type": "code",
   "execution_count": 8,
   "id": "752ec5c3-1ed6-404d-8664-73f4e8b4993e",
   "metadata": {},
   "outputs": [
    {
     "name": "stdout",
     "output_type": "stream",
     "text": [
      "{'k1': 123, 'k2': [1, 2, 3], 'k3': {'1': 'NEW VALUE'}}\n"
     ]
    }
   ],
   "source": [
    "d['k3']['1'] = d['k3']['1'].upper()\n",
    "print(d)"
   ]
  },
  {
   "cell_type": "code",
   "execution_count": 9,
   "id": "70ad6bf0-d75f-4320-9de4-b6189ee850a3",
   "metadata": {},
   "outputs": [
    {
     "name": "stdout",
     "output_type": "stream",
     "text": [
      "{'k1': 123, 'k2': [1, 2, 3], 'k3': {'1': 'NEW VALUE'}, 'k4': 400}\n"
     ]
    }
   ],
   "source": [
    "#Adding new key:value pair to dictionary\n",
    "\n",
    "d['k4'] = 400\n",
    "print(d)"
   ]
  },
  {
   "cell_type": "code",
   "execution_count": 10,
   "id": "d16c93a8-61da-43fb-a43b-e7563bf341b6",
   "metadata": {},
   "outputs": [
    {
     "name": "stdout",
     "output_type": "stream",
     "text": [
      "dict_keys(['k1', 'k2', 'k3', 'k4'])\n"
     ]
    }
   ],
   "source": [
    "#Get all keys\n",
    "print(d.keys())"
   ]
  },
  {
   "cell_type": "code",
   "execution_count": 11,
   "id": "412a0a51-2975-403e-96cd-91332643a8dd",
   "metadata": {},
   "outputs": [
    {
     "name": "stdout",
     "output_type": "stream",
     "text": [
      "dict_values([123, [1, 2, 3], {'1': 'NEW VALUE'}, 400])\n"
     ]
    }
   ],
   "source": [
    "#Get all values\n",
    "print(d.values())"
   ]
  },
  {
   "cell_type": "code",
   "execution_count": 12,
   "id": "7d01e23e-922f-4afd-8de9-2d34d7cc4eb3",
   "metadata": {},
   "outputs": [
    {
     "name": "stdout",
     "output_type": "stream",
     "text": [
      "dict_items([('k1', 123), ('k2', [1, 2, 3]), ('k3', {'1': 'NEW VALUE'}), ('k4', 400)])\n"
     ]
    }
   ],
   "source": [
    "#Get all the key-value pairs\n",
    "print(d.items())"
   ]
  },
  {
   "cell_type": "code",
   "execution_count": null,
   "id": "e6ca4a12-930e-4874-80c8-6ed216979129",
   "metadata": {},
   "outputs": [],
   "source": []
  }
 ],
 "metadata": {
  "kernelspec": {
   "display_name": "Python 3 (ipykernel)",
   "language": "python",
   "name": "python3"
  },
  "language_info": {
   "codemirror_mode": {
    "name": "ipython",
    "version": 3
   },
   "file_extension": ".py",
   "mimetype": "text/x-python",
   "name": "python",
   "nbconvert_exporter": "python",
   "pygments_lexer": "ipython3",
   "version": "3.11.7"
  }
 },
 "nbformat": 4,
 "nbformat_minor": 5
}
