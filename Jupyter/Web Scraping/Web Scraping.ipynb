{
 "cells": [
  {
   "cell_type": "code",
   "execution_count": 7,
   "id": "85713921-9f15-4b26-bad4-52f279cf3de3",
   "metadata": {},
   "outputs": [],
   "source": [
    "# Web scraping is general term for technologies involving automating the gathering of data from a website\n",
    "# lxml, bs4 and requests are the libraries for web scraping\n",
    "import requests\n",
    "import bs4"
   ]
  },
  {
   "cell_type": "code",
   "execution_count": 9,
   "id": "9289374f-171f-48e6-8b15-214be174b7db",
   "metadata": {},
   "outputs": [],
   "source": [
    "## Reaching out to the website\n",
    "result = requests.get(\"https://www.iana.org/help/example-domains\")"
   ]
  },
  {
   "cell_type": "code",
   "execution_count": 10,
   "id": "c0da666e-9417-4a42-a9d9-9214fa10be32",
   "metadata": {},
   "outputs": [
    {
     "data": {
      "text/plain": [
       "'\\n<!doctype html>\\n<html>\\n<head>\\n\\t<title>Example Domains</title>\\n\\n\\t<meta charset=\"utf-8\" />\\n\\t<meta http-equiv=\"Content-type\" content=\"text/html; charset=utf-8\" />\\n\\t<meta name=\"viewport\" content=\"width=device-width, initial-scale=1\" />\\n\\t\\n\\t<link rel=\"stylesheet\" href=\"/_css/2022/iana_website.css\"/>\\n\\t<link rel=\"shortcut icon\" type=\"image/ico\" href=\"/_img/bookmark_icon.ico\"/>\\n\\n\\t<script type=\"text/javascript\" src=\"/_js/jquery.js\"></script>\\n\\t<script type=\"text/javascript\" src=\"/_js/iana.js\"></script>\\n\\n\\t\\n</head>\\n\\n<body>\\n\\n<header>\\n    <div id=\"header\">\\n        <div id=\"logo\">\\n            <a href=\"/\"><img src=\"/_img/2022/iana-logo-header.svg\" alt=\"Homepage\"/></a>\\n        </div>\\n        <div class=\"navigation\">\\n            <ul>\\n                <li><a href=\"/domains\">Domains</a></li>\\n                <li><a href=\"/protocols\">Protocols</a></li>\\n                <li><a href=\"/numbers\">Numbers</a></li>\\n<!--                <li><a href=\"/news\">News</a></li>-->\\n                <li><a href=\"/about\">About</a></li>\\n            </ul>\\n        </div>\\n    </div>\\n</header>\\n\\n<div id=\"body\">\\n\\n\\n<article class=\"hemmed sidenav\">\\n\\n    <main>\\n    \\n<div class=\"help-article\">\\n\\n<h1>Example Domains</h1>\\n<p>As described in <a href=\"/go/rfc2606\">RFC 2606</a> and <a href=\"/go/rfc6761\">RFC 6761</a>, a\\nnumber of domains such as example.com and example.org are maintained\\nfor documentation purposes. These domains may be used as illustrative\\nexamples in documents without prior coordination with us. They are not\\navailable for registration or transfer.</p>\\n<p>We provide a web service on the example domain hosts to provide basic\\ninformation on the purpose of the domain. These web services are\\nprovided as best effort, but are not designed to support production\\napplications. While incidental traffic for incorrectly configured\\napplications is expected, please do not design applications that require\\nthe example domains to have operating HTTP service.</p>\\n<h2>Further Reading</h2>\\n<ul>\\n<li><a href=\"/domains/reserved\">IANA-managed Reserved Domains</a></li>\\n</ul>\\n\\n<div class=\"last-updated\">Last revised 2017-05-13.</div>\\n\\n\\n</div>\\n\\n    </main>\\n\\n    <nav id=\"sidenav\">\\n    \\n    </nav>\\n\\n</article>\\n\\n\\n</div>\\n\\n<footer>\\n    <div id=\"footer\">\\n        <table class=\"navigation\">\\n            <tr>\\n                <td class=\"section\"><a href=\"/domains\">Domain&nbsp;Names</a></td>\\n                <td class=\"subsection\">\\n                    <ul>\\n                        <li><a href=\"/domains/root\">Root Zone Registry</a></li>\\n                        <li><a href=\"/domains/int\">.INT Registry</a></li>\\n                        <li><a href=\"/domains/arpa\">.ARPA Registry</a></li>\\n                        <li><a href=\"/domains/idn-tables\">IDN Repository</a></li>\\n                    </ul>\\n                </td>\\n            </tr>\\n            <tr>\\n                <td class=\"section\"><a href=\"/numbers\">Number&nbsp;Resources</a></td>\\n                <td class=\"subsection\">\\n                    <ul>\\n                        <li><a href=\"/abuse\">Abuse Information</a></li>\\n                    </ul>\\n                </td>\\n            </tr>\\n            <tr>\\n                <td class=\"section\"><a href=\"/protocols\">Protocols</a></td>\\n                <td class=\"subsection\">\\n                    <ul>\\n                        <li><a href=\"/protocols\">Protocol Registries</a></li>\\n                        <li><a href=\"/time-zones\">Time Zone Database</a></li>\\n                    </ul>\\n                </td>\\n            </tr>\\n            <tr>\\n                <td class=\"section\"><a href=\"/about\">About&nbsp;Us</a></td>\\n                <td class=\"subsection\">\\n                    <ul>\\n                        <li><a href=\"/performance\">Performance</a></li>\\n                        <li><a href=\"/reports\">Reports</a></li>\\n                        <li><a href=\"/reviews\">Reviews</a></li>\\n                        <li><a href=\"/about/excellence\">Excellence</a></li>\\n<!--                        <li><a href=\"/news\">News</a></li>-->\\n                        <li><a href=\"/contact\">Contact Us</a></li>\\n                    </ul>\\n                </td>\\n            </tr>\\n        </table>\\n\\n        <div id=\"custodian\">\\n            <p>The IANA functions coordinate the Internet’s globally unique identifiers, and\\n                are provided by <a href=\"http://pti.icann.org\">Public Technical Identifiers</a>, an affiliate of\\n                <a href=\"http://www.icann.org/\">ICANN</a>.</p>\\n        </div>\\n\\n        <div id=\"legalnotice\">\\n            <ul>\\n                <li><a href=\"https://www.icann.org/privacy/policy\">Privacy Policy</a></li>\\n                <li><a href=\"https://www.icann.org/privacy/tos\">Terms of Service</a></li>\\n            </ul>\\n        </div>\\n\\n    </div>\\n</footer>\\n\\n\\n\\n</body>\\n\\n</html>\\n'"
      ]
     },
     "execution_count": 10,
     "metadata": {},
     "output_type": "execute_result"
    }
   ],
   "source": [
    "## Return all the details as a giant string\n",
    "result.text"
   ]
  },
  {
   "cell_type": "code",
   "execution_count": 11,
   "id": "9c1ef66f-9da2-4452-8512-34c2f728f55c",
   "metadata": {},
   "outputs": [
    {
     "data": {
      "text/plain": [
       "<!DOCTYPE html>\n",
       "<html>\n",
       "<head>\n",
       "<title>Example Domains</title>\n",
       "<meta charset=\"utf-8\"/>\n",
       "<meta content=\"text/html; charset=utf-8\" http-equiv=\"Content-type\"/>\n",
       "<meta content=\"width=device-width, initial-scale=1\" name=\"viewport\"/>\n",
       "<link href=\"/_css/2022/iana_website.css\" rel=\"stylesheet\"/>\n",
       "<link href=\"/_img/bookmark_icon.ico\" rel=\"shortcut icon\" type=\"image/ico\"/>\n",
       "<script src=\"/_js/jquery.js\" type=\"text/javascript\"></script>\n",
       "<script src=\"/_js/iana.js\" type=\"text/javascript\"></script>\n",
       "</head>\n",
       "<body>\n",
       "<header>\n",
       "<div id=\"header\">\n",
       "<div id=\"logo\">\n",
       "<a href=\"/\"><img alt=\"Homepage\" src=\"/_img/2022/iana-logo-header.svg\"/></a>\n",
       "</div>\n",
       "<div class=\"navigation\">\n",
       "<ul>\n",
       "<li><a href=\"/domains\">Domains</a></li>\n",
       "<li><a href=\"/protocols\">Protocols</a></li>\n",
       "<li><a href=\"/numbers\">Numbers</a></li>\n",
       "<!--                <li><a href=\"/news\">News</a></li>-->\n",
       "<li><a href=\"/about\">About</a></li>\n",
       "</ul>\n",
       "</div>\n",
       "</div>\n",
       "</header>\n",
       "<div id=\"body\">\n",
       "<article class=\"hemmed sidenav\">\n",
       "<main>\n",
       "<div class=\"help-article\">\n",
       "<h1>Example Domains</h1>\n",
       "<p>As described in <a href=\"/go/rfc2606\">RFC 2606</a> and <a href=\"/go/rfc6761\">RFC 6761</a>, a\n",
       "number of domains such as example.com and example.org are maintained\n",
       "for documentation purposes. These domains may be used as illustrative\n",
       "examples in documents without prior coordination with us. They are not\n",
       "available for registration or transfer.</p>\n",
       "<p>We provide a web service on the example domain hosts to provide basic\n",
       "information on the purpose of the domain. These web services are\n",
       "provided as best effort, but are not designed to support production\n",
       "applications. While incidental traffic for incorrectly configured\n",
       "applications is expected, please do not design applications that require\n",
       "the example domains to have operating HTTP service.</p>\n",
       "<h2>Further Reading</h2>\n",
       "<ul>\n",
       "<li><a href=\"/domains/reserved\">IANA-managed Reserved Domains</a></li>\n",
       "</ul>\n",
       "<div class=\"last-updated\">Last revised 2017-05-13.</div>\n",
       "</div>\n",
       "</main>\n",
       "<nav id=\"sidenav\">\n",
       "</nav>\n",
       "</article>\n",
       "</div>\n",
       "<footer>\n",
       "<div id=\"footer\">\n",
       "<table class=\"navigation\">\n",
       "<tr>\n",
       "<td class=\"section\"><a href=\"/domains\">Domain Names</a></td>\n",
       "<td class=\"subsection\">\n",
       "<ul>\n",
       "<li><a href=\"/domains/root\">Root Zone Registry</a></li>\n",
       "<li><a href=\"/domains/int\">.INT Registry</a></li>\n",
       "<li><a href=\"/domains/arpa\">.ARPA Registry</a></li>\n",
       "<li><a href=\"/domains/idn-tables\">IDN Repository</a></li>\n",
       "</ul>\n",
       "</td>\n",
       "</tr>\n",
       "<tr>\n",
       "<td class=\"section\"><a href=\"/numbers\">Number Resources</a></td>\n",
       "<td class=\"subsection\">\n",
       "<ul>\n",
       "<li><a href=\"/abuse\">Abuse Information</a></li>\n",
       "</ul>\n",
       "</td>\n",
       "</tr>\n",
       "<tr>\n",
       "<td class=\"section\"><a href=\"/protocols\">Protocols</a></td>\n",
       "<td class=\"subsection\">\n",
       "<ul>\n",
       "<li><a href=\"/protocols\">Protocol Registries</a></li>\n",
       "<li><a href=\"/time-zones\">Time Zone Database</a></li>\n",
       "</ul>\n",
       "</td>\n",
       "</tr>\n",
       "<tr>\n",
       "<td class=\"section\"><a href=\"/about\">About Us</a></td>\n",
       "<td class=\"subsection\">\n",
       "<ul>\n",
       "<li><a href=\"/performance\">Performance</a></li>\n",
       "<li><a href=\"/reports\">Reports</a></li>\n",
       "<li><a href=\"/reviews\">Reviews</a></li>\n",
       "<li><a href=\"/about/excellence\">Excellence</a></li>\n",
       "<!--                        <li><a href=\"/news\">News</a></li>-->\n",
       "<li><a href=\"/contact\">Contact Us</a></li>\n",
       "</ul>\n",
       "</td>\n",
       "</tr>\n",
       "</table>\n",
       "<div id=\"custodian\">\n",
       "<p>The IANA functions coordinate the Internet’s globally unique identifiers, and\n",
       "                are provided by <a href=\"http://pti.icann.org\">Public Technical Identifiers</a>, an affiliate of\n",
       "                <a href=\"http://www.icann.org/\">ICANN</a>.</p>\n",
       "</div>\n",
       "<div id=\"legalnotice\">\n",
       "<ul>\n",
       "<li><a href=\"https://www.icann.org/privacy/policy\">Privacy Policy</a></li>\n",
       "<li><a href=\"https://www.icann.org/privacy/tos\">Terms of Service</a></li>\n",
       "</ul>\n",
       "</div>\n",
       "</div>\n",
       "</footer>\n",
       "</body>\n",
       "</html>"
      ]
     },
     "execution_count": 11,
     "metadata": {},
     "output_type": "execute_result"
    }
   ],
   "source": [
    "## To make the text readable bs4 library can be used\n",
    "## Let's grab title \n",
    "soup = bs4.BeautifulSoup(result.text, 'lxml')\n",
    "soup"
   ]
  },
  {
   "cell_type": "code",
   "execution_count": 12,
   "id": "bfcfaf5d-702b-4810-9529-d5c75ba3d4d2",
   "metadata": {},
   "outputs": [
    {
     "data": {
      "text/plain": [
       "[<title>Example Domains</title>]"
      ]
     },
     "execution_count": 12,
     "metadata": {},
     "output_type": "execute_result"
    }
   ],
   "source": [
    "soup.select('title')"
   ]
  },
  {
   "cell_type": "code",
   "execution_count": 13,
   "id": "0e55318d-6eae-459e-a963-1eb083ef8c92",
   "metadata": {},
   "outputs": [
    {
     "data": {
      "text/plain": [
       "'Example Domains'"
      ]
     },
     "execution_count": 13,
     "metadata": {},
     "output_type": "execute_result"
    }
   ],
   "source": [
    "soup.select('title')[0].getText()"
   ]
  },
  {
   "cell_type": "code",
   "execution_count": 15,
   "id": "8c632791-94ae-4874-888a-e904b4ffe9c4",
   "metadata": {},
   "outputs": [
    {
     "data": {
      "text/plain": [
       "[<p>As described in <a href=\"/go/rfc2606\">RFC 2606</a> and <a href=\"/go/rfc6761\">RFC 6761</a>, a\n",
       " number of domains such as example.com and example.org are maintained\n",
       " for documentation purposes. These domains may be used as illustrative\n",
       " examples in documents without prior coordination with us. They are not\n",
       " available for registration or transfer.</p>,\n",
       " <p>We provide a web service on the example domain hosts to provide basic\n",
       " information on the purpose of the domain. These web services are\n",
       " provided as best effort, but are not designed to support production\n",
       " applications. While incidental traffic for incorrectly configured\n",
       " applications is expected, please do not design applications that require\n",
       " the example domains to have operating HTTP service.</p>,\n",
       " <p>The IANA functions coordinate the Internet’s globally unique identifiers, and\n",
       "                 are provided by <a href=\"http://pti.icann.org\">Public Technical Identifiers</a>, an affiliate of\n",
       "                 <a href=\"http://www.icann.org/\">ICANN</a>.</p>]"
      ]
     },
     "execution_count": 15,
     "metadata": {},
     "output_type": "execute_result"
    }
   ],
   "source": [
    "# Let's grab paragraph\n",
    "site_paragraphs = soup.select('p')\n",
    "site_paragraphs"
   ]
  },
  {
   "cell_type": "code",
   "execution_count": 16,
   "id": "30b2985b-59df-4736-b334-0c2e910aeaec",
   "metadata": {},
   "outputs": [
    {
     "data": {
      "text/plain": [
       "'As described in RFC 2606 and RFC 6761, a\\nnumber of domains such as example.com and example.org are maintained\\nfor documentation purposes. These domains may be used as illustrative\\nexamples in documents without prior coordination with us. They are not\\navailable for registration or transfer.'"
      ]
     },
     "execution_count": 16,
     "metadata": {},
     "output_type": "execute_result"
    }
   ],
   "source": [
    "site_paragraphs[0].getText()"
   ]
  },
  {
   "cell_type": "code",
   "execution_count": 18,
   "id": "81f8fc77-9940-4b58-ad91-d904da1c213e",
   "metadata": {},
   "outputs": [],
   "source": [
    "## Let's grab more elements by class\n",
    "res = requests.get('https://en.wikipedia.org/wiki/Grace_Hopper')"
   ]
  },
  {
   "cell_type": "code",
   "execution_count": 20,
   "id": "8ab04d9c-24f3-4470-afd6-ca90f5762f52",
   "metadata": {},
   "outputs": [],
   "source": [
    "soup = bs4.BeautifulSoup(res.text, 'lxml')"
   ]
  },
  {
   "cell_type": "code",
   "execution_count": 22,
   "id": "99856430-c501-4af8-a390-fd5257bbfaa6",
   "metadata": {},
   "outputs": [
    {
     "data": {
      "text/plain": [
       "[<div class=\"vector-toc-text\">(Top)</div>,\n",
       " <div class=\"vector-toc-text\">\n",
       " <span class=\"vector-toc-numb\">1</span>Early life and education</div>,\n",
       " <div class=\"vector-toc-text\">\n",
       " <span class=\"vector-toc-numb\">2</span>Career</div>,\n",
       " <div class=\"vector-toc-text\">\n",
       " <span class=\"vector-toc-numb\">2.1</span>World War II</div>,\n",
       " <div class=\"vector-toc-text\">\n",
       " <span class=\"vector-toc-numb\">2.2</span>UNIVAC</div>,\n",
       " <div class=\"vector-toc-text\">\n",
       " <span class=\"vector-toc-numb\">2.3</span>COBOL</div>,\n",
       " <div class=\"vector-toc-text\">\n",
       " <span class=\"vector-toc-numb\">2.4</span>Standards</div>,\n",
       " <div class=\"vector-toc-text\">\n",
       " <span class=\"vector-toc-numb\">3</span>Retirement</div>,\n",
       " <div class=\"vector-toc-text\">\n",
       " <span class=\"vector-toc-numb\">4</span>Post-retirement</div>,\n",
       " <div class=\"vector-toc-text\">\n",
       " <span class=\"vector-toc-numb\">5</span>Anecdotes</div>,\n",
       " <div class=\"vector-toc-text\">\n",
       " <span class=\"vector-toc-numb\">6</span>Death</div>,\n",
       " <div class=\"vector-toc-text\">\n",
       " <span class=\"vector-toc-numb\">7</span>Dates of rank</div>,\n",
       " <div class=\"vector-toc-text\">\n",
       " <span class=\"vector-toc-numb\">8</span>Awards and honors</div>,\n",
       " <div class=\"vector-toc-text\">\n",
       " <span class=\"vector-toc-numb\">8.1</span>Military awards</div>,\n",
       " <div class=\"vector-toc-text\">\n",
       " <span class=\"vector-toc-numb\">8.2</span>Other awards</div>,\n",
       " <div class=\"vector-toc-text\">\n",
       " <span class=\"vector-toc-numb\">9</span>Legacy</div>,\n",
       " <div class=\"vector-toc-text\">\n",
       " <span class=\"vector-toc-numb\">9.1</span>Places</div>,\n",
       " <div class=\"vector-toc-text\">\n",
       " <span class=\"vector-toc-numb\">9.2</span>Programs</div>,\n",
       " <div class=\"vector-toc-text\">\n",
       " <span class=\"vector-toc-numb\">9.3</span>In popular culture</div>,\n",
       " <div class=\"vector-toc-text\">\n",
       " <span class=\"vector-toc-numb\">9.3.1</span>Grace Hopper Celebration of Women in Computing</div>,\n",
       " <div class=\"vector-toc-text\">\n",
       " <span class=\"vector-toc-numb\">10</span>See also</div>,\n",
       " <div class=\"vector-toc-text\">\n",
       " <span class=\"vector-toc-numb\">11</span>Notes</div>,\n",
       " <div class=\"vector-toc-text\">\n",
       " <span class=\"vector-toc-numb\">12</span>References</div>,\n",
       " <div class=\"vector-toc-text\">\n",
       " <span class=\"vector-toc-numb\">13</span>Obituary notices</div>,\n",
       " <div class=\"vector-toc-text\">\n",
       " <span class=\"vector-toc-numb\">14</span>Further reading</div>,\n",
       " <div class=\"vector-toc-text\">\n",
       " <span class=\"vector-toc-numb\">15</span>External links</div>]"
      ]
     },
     "execution_count": 22,
     "metadata": {},
     "output_type": "execute_result"
    }
   ],
   "source": [
    "## Selecting element with class name 'vector-toc-text'\n",
    "soup.select('.vector-toc-text')"
   ]
  },
  {
   "cell_type": "code",
   "execution_count": 24,
   "id": "5136d2de-4d3d-4e92-90c9-5077f0272eb6",
   "metadata": {},
   "outputs": [
    {
     "name": "stdout",
     "output_type": "stream",
     "text": [
      "(Top)\n",
      "\n",
      "1Early life and education\n",
      "\n",
      "2Career\n",
      "\n",
      "2.1World War II\n",
      "\n",
      "2.2UNIVAC\n",
      "\n",
      "2.3COBOL\n",
      "\n",
      "2.4Standards\n",
      "\n",
      "3Retirement\n",
      "\n",
      "4Post-retirement\n",
      "\n",
      "5Anecdotes\n",
      "\n",
      "6Death\n",
      "\n",
      "7Dates of rank\n",
      "\n",
      "8Awards and honors\n",
      "\n",
      "8.1Military awards\n",
      "\n",
      "8.2Other awards\n",
      "\n",
      "9Legacy\n",
      "\n",
      "9.1Places\n",
      "\n",
      "9.2Programs\n",
      "\n",
      "9.3In popular culture\n",
      "\n",
      "9.3.1Grace Hopper Celebration of Women in Computing\n",
      "\n",
      "10See also\n",
      "\n",
      "11Notes\n",
      "\n",
      "12References\n",
      "\n",
      "13Obituary notices\n",
      "\n",
      "14Further reading\n",
      "\n",
      "15External links\n"
     ]
    }
   ],
   "source": [
    "# Print text from all the sub elements in the class\n",
    "for item in soup.select('.vector-toc-text'):\n",
    "    text = item.getText()\n",
    "    print(text)"
   ]
  },
  {
   "cell_type": "code",
   "execution_count": 28,
   "id": "3822fefe-0d3f-4277-aac0-cc991ef86234",
   "metadata": {},
   "outputs": [
    {
     "data": {
      "text/plain": [
       "[<img alt=\"\" aria-hidden=\"true\" class=\"mw-logo-icon\" height=\"50\" src=\"/static/images/icons/wikipedia.png\" width=\"50\"/>,\n",
       " <img alt=\"Wikipedia\" class=\"mw-logo-wordmark\" src=\"/static/images/mobile/copyright/wikipedia-wordmark-en.svg\" style=\"width: 7.5em; height: 1.125em;\"/>,\n",
       " <img alt=\"The Free Encyclopedia\" class=\"mw-logo-tagline\" height=\"13\" src=\"/static/images/mobile/copyright/wikipedia-tagline-en.svg\" style=\"width: 7.3125em; height: 0.8125em;\" width=\"117\"/>,\n",
       " <img class=\"mw-file-element\" data-file-height=\"3000\" data-file-width=\"2400\" decoding=\"async\" height=\"300\" src=\"//upload.wikimedia.org/wikipedia/commons/thumb/a/ad/Commodore_Grace_M._Hopper%2C_USN_%28covered%29.jpg/240px-Commodore_Grace_M._Hopper%2C_USN_%28covered%29.jpg\" srcset=\"//upload.wikimedia.org/wikipedia/commons/thumb/a/ad/Commodore_Grace_M._Hopper%2C_USN_%28covered%29.jpg/360px-Commodore_Grace_M._Hopper%2C_USN_%28covered%29.jpg 1.5x, //upload.wikimedia.org/wikipedia/commons/thumb/a/ad/Commodore_Grace_M._Hopper%2C_USN_%28covered%29.jpg/480px-Commodore_Grace_M._Hopper%2C_USN_%28covered%29.jpg 2x\" width=\"240\"/>,\n",
       " <img alt=\"\" class=\"mw-file-element\" data-file-height=\"650\" data-file-width=\"1235\" decoding=\"async\" height=\"12\" src=\"//upload.wikimedia.org/wikipedia/en/thumb/a/a4/Flag_of_the_United_States.svg/23px-Flag_of_the_United_States.svg.png\" srcset=\"//upload.wikimedia.org/wikipedia/en/thumb/a/a4/Flag_of_the_United_States.svg/35px-Flag_of_the_United_States.svg.png 1.5x, //upload.wikimedia.org/wikipedia/en/thumb/a/a4/Flag_of_the_United_States.svg/46px-Flag_of_the_United_States.svg.png 2x\" width=\"23\"/>,\n",
       " <img alt=\"\" class=\"mw-file-element\" data-file-height=\"520\" data-file-width=\"660\" decoding=\"async\" height=\"18\" src=\"//upload.wikimedia.org/wikipedia/commons/thumb/e/e9/Flag_of_the_United_States_Navy.svg/23px-Flag_of_the_United_States_Navy.svg.png\" srcset=\"//upload.wikimedia.org/wikipedia/commons/thumb/e/e9/Flag_of_the_United_States_Navy.svg/35px-Flag_of_the_United_States_Navy.svg.png 1.5x, //upload.wikimedia.org/wikipedia/commons/thumb/e/e9/Flag_of_the_United_States_Navy.svg/46px-Flag_of_the_United_States_Navy.svg.png 2x\" width=\"23\"/>,\n",
       " <img class=\"mw-file-element\" data-file-height=\"583\" data-file-width=\"622\" decoding=\"async\" height=\"23\" src=\"//upload.wikimedia.org/wikipedia/commons/thumb/2/23/US-O7_insignia.svg/25px-US-O7_insignia.svg.png\" srcset=\"//upload.wikimedia.org/wikipedia/commons/thumb/2/23/US-O7_insignia.svg/38px-US-O7_insignia.svg.png 1.5x, //upload.wikimedia.org/wikipedia/commons/thumb/2/23/US-O7_insignia.svg/50px-US-O7_insignia.svg.png 2x\" width=\"25\"/>,\n",
       " <img class=\"mw-file-element\" data-file-height=\"2448\" data-file-width=\"3264\" decoding=\"async\" height=\"165\" src=\"//upload.wikimedia.org/wikipedia/commons/thumb/a/aa/Harvard_Mark_I_sign-up.agr.jpg/220px-Harvard_Mark_I_sign-up.agr.jpg\" srcset=\"//upload.wikimedia.org/wikipedia/commons/thumb/a/aa/Harvard_Mark_I_sign-up.agr.jpg/330px-Harvard_Mark_I_sign-up.agr.jpg 1.5x, //upload.wikimedia.org/wikipedia/commons/thumb/a/aa/Harvard_Mark_I_sign-up.agr.jpg/440px-Harvard_Mark_I_sign-up.agr.jpg 2x\" width=\"220\"/>,\n",
       " <img class=\"mw-file-element\" data-file-height=\"1200\" data-file-width=\"782\" decoding=\"async\" height=\"261\" src=\"//upload.wikimedia.org/wikipedia/commons/thumb/2/21/Grace_Murray_Hopper%2C_in_her_office_in_Washington_DC%2C_1978%2C_%C2%A9Lynn_Gilbert.jpg/170px-Grace_Murray_Hopper%2C_in_her_office_in_Washington_DC%2C_1978%2C_%C2%A9Lynn_Gilbert.jpg\" srcset=\"//upload.wikimedia.org/wikipedia/commons/thumb/2/21/Grace_Murray_Hopper%2C_in_her_office_in_Washington_DC%2C_1978%2C_%C2%A9Lynn_Gilbert.jpg/255px-Grace_Murray_Hopper%2C_in_her_office_in_Washington_DC%2C_1978%2C_%C2%A9Lynn_Gilbert.jpg 1.5x, //upload.wikimedia.org/wikipedia/commons/thumb/2/21/Grace_Murray_Hopper%2C_in_her_office_in_Washington_DC%2C_1978%2C_%C2%A9Lynn_Gilbert.jpg/340px-Grace_Murray_Hopper%2C_in_her_office_in_Washington_DC%2C_1978%2C_%C2%A9Lynn_Gilbert.jpg 2x\" width=\"170\"/>,\n",
       " <img class=\"mw-file-element\" data-file-height=\"450\" data-file-width=\"513\" decoding=\"async\" height=\"193\" src=\"//upload.wikimedia.org/wikipedia/commons/thumb/3/37/Grace_Hopper_and_UNIVAC.jpg/220px-Grace_Hopper_and_UNIVAC.jpg\" srcset=\"//upload.wikimedia.org/wikipedia/commons/thumb/3/37/Grace_Hopper_and_UNIVAC.jpg/330px-Grace_Hopper_and_UNIVAC.jpg 1.5x, //upload.wikimedia.org/wikipedia/commons/thumb/3/37/Grace_Hopper_and_UNIVAC.jpg/440px-Grace_Hopper_and_UNIVAC.jpg 2x\" width=\"220\"/>,\n",
       " <img class=\"mw-file-element\" data-file-height=\"2389\" data-file-width=\"3000\" decoding=\"async\" height=\"175\" src=\"//upload.wikimedia.org/wikipedia/commons/thumb/2/20/Grace_Hopper_being_promoted_to_Commodore.JPEG/220px-Grace_Hopper_being_promoted_to_Commodore.JPEG\" srcset=\"//upload.wikimedia.org/wikipedia/commons/thumb/2/20/Grace_Hopper_being_promoted_to_Commodore.JPEG/330px-Grace_Hopper_being_promoted_to_Commodore.JPEG 1.5x, //upload.wikimedia.org/wikipedia/commons/thumb/2/20/Grace_Hopper_being_promoted_to_Commodore.JPEG/440px-Grace_Hopper_being_promoted_to_Commodore.JPEG 2x\" width=\"220\"/>,\n",
       " <img class=\"mw-file-element\" data-file-height=\"2285\" data-file-width=\"2889\" decoding=\"async\" height=\"237\" src=\"//upload.wikimedia.org/wikipedia/commons/thumb/f/ff/First_Computer_Bug%2C_1945.jpg/300px-First_Computer_Bug%2C_1945.jpg\" srcset=\"//upload.wikimedia.org/wikipedia/commons/thumb/f/ff/First_Computer_Bug%2C_1945.jpg/450px-First_Computer_Bug%2C_1945.jpg 1.5x, //upload.wikimedia.org/wikipedia/commons/thumb/f/ff/First_Computer_Bug%2C_1945.jpg/600px-First_Computer_Bug%2C_1945.jpg 2x\" width=\"300\"/>,\n",
       " <img class=\"mw-file-element\" data-file-height=\"420\" data-file-width=\"245\" decoding=\"async\" height=\"103\" src=\"//upload.wikimedia.org/wikipedia/commons/thumb/3/38/US_Navy_O2_insignia.svg/60px-US_Navy_O2_insignia.svg.png\" srcset=\"//upload.wikimedia.org/wikipedia/commons/thumb/3/38/US_Navy_O2_insignia.svg/90px-US_Navy_O2_insignia.svg.png 1.5x, //upload.wikimedia.org/wikipedia/commons/thumb/3/38/US_Navy_O2_insignia.svg/120px-US_Navy_O2_insignia.svg.png 2x\" width=\"60\"/>,\n",
       " <img class=\"mw-file-element\" data-file-height=\"420\" data-file-width=\"245\" decoding=\"async\" height=\"103\" src=\"//upload.wikimedia.org/wikipedia/commons/thumb/0/02/US_Navy_O3_insignia.svg/60px-US_Navy_O3_insignia.svg.png\" srcset=\"//upload.wikimedia.org/wikipedia/commons/thumb/0/02/US_Navy_O3_insignia.svg/90px-US_Navy_O3_insignia.svg.png 1.5x, //upload.wikimedia.org/wikipedia/commons/thumb/0/02/US_Navy_O3_insignia.svg/120px-US_Navy_O3_insignia.svg.png 2x\" width=\"60\"/>,\n",
       " <img class=\"mw-file-element\" data-file-height=\"420\" data-file-width=\"245\" decoding=\"async\" height=\"103\" src=\"//upload.wikimedia.org/wikipedia/commons/thumb/8/87/U.S._Navy_O-4_insignia.svg/60px-U.S._Navy_O-4_insignia.svg.png\" srcset=\"//upload.wikimedia.org/wikipedia/commons/thumb/8/87/U.S._Navy_O-4_insignia.svg/90px-U.S._Navy_O-4_insignia.svg.png 1.5x, //upload.wikimedia.org/wikipedia/commons/thumb/8/87/U.S._Navy_O-4_insignia.svg/120px-U.S._Navy_O-4_insignia.svg.png 2x\" width=\"60\"/>,\n",
       " <img class=\"mw-file-element\" data-file-height=\"420\" data-file-width=\"245\" decoding=\"async\" height=\"103\" src=\"//upload.wikimedia.org/wikipedia/commons/thumb/b/be/US_Navy_O5_insignia.svg/60px-US_Navy_O5_insignia.svg.png\" srcset=\"//upload.wikimedia.org/wikipedia/commons/thumb/b/be/US_Navy_O5_insignia.svg/90px-US_Navy_O5_insignia.svg.png 1.5x, //upload.wikimedia.org/wikipedia/commons/thumb/b/be/US_Navy_O5_insignia.svg/120px-US_Navy_O5_insignia.svg.png 2x\" width=\"60\"/>,\n",
       " <img class=\"mw-file-element\" data-file-height=\"420\" data-file-width=\"245\" decoding=\"async\" height=\"103\" src=\"//upload.wikimedia.org/wikipedia/commons/thumb/c/c0/US_Navy_O6_insignia.svg/60px-US_Navy_O6_insignia.svg.png\" srcset=\"//upload.wikimedia.org/wikipedia/commons/thumb/c/c0/US_Navy_O6_insignia.svg/90px-US_Navy_O6_insignia.svg.png 1.5x, //upload.wikimedia.org/wikipedia/commons/thumb/c/c0/US_Navy_O6_insignia.svg/120px-US_Navy_O6_insignia.svg.png 2x\" width=\"60\"/>,\n",
       " <img class=\"mw-file-element\" data-file-height=\"420\" data-file-width=\"245\" decoding=\"async\" height=\"103\" src=\"//upload.wikimedia.org/wikipedia/commons/thumb/d/d9/US_Navy_O7_insignia.svg/60px-US_Navy_O7_insignia.svg.png\" srcset=\"//upload.wikimedia.org/wikipedia/commons/thumb/d/d9/US_Navy_O7_insignia.svg/90px-US_Navy_O7_insignia.svg.png 1.5x, //upload.wikimedia.org/wikipedia/commons/thumb/d/d9/US_Navy_O7_insignia.svg/120px-US_Navy_O7_insignia.svg.png 2x\" width=\"60\"/>,\n",
       " <img alt=\"\" class=\"mw-file-element\" data-file-height=\"279\" data-file-width=\"1024\" decoding=\"async\" height=\"29\" src=\"//upload.wikimedia.org/wikipedia/commons/thumb/3/34/Defense_Distinguished_Service_Medal_ribbon.svg/106px-Defense_Distinguished_Service_Medal_ribbon.svg.png\" srcset=\"//upload.wikimedia.org/wikipedia/commons/thumb/3/34/Defense_Distinguished_Service_Medal_ribbon.svg/159px-Defense_Distinguished_Service_Medal_ribbon.svg.png 1.5x, //upload.wikimedia.org/wikipedia/commons/thumb/3/34/Defense_Distinguished_Service_Medal_ribbon.svg/212px-Defense_Distinguished_Service_Medal_ribbon.svg.png 2x\" width=\"106\"/>,\n",
       " <img alt=\"\" class=\"mw-file-element\" data-file-height=\"279\" data-file-width=\"1024\" decoding=\"async\" height=\"29\" src=\"//upload.wikimedia.org/wikipedia/commons/thumb/4/43/Legion_of_Merit_ribbon.svg/106px-Legion_of_Merit_ribbon.svg.png\" srcset=\"//upload.wikimedia.org/wikipedia/commons/thumb/4/43/Legion_of_Merit_ribbon.svg/159px-Legion_of_Merit_ribbon.svg.png 1.5x, //upload.wikimedia.org/wikipedia/commons/thumb/4/43/Legion_of_Merit_ribbon.svg/212px-Legion_of_Merit_ribbon.svg.png 2x\" width=\"106\"/>,\n",
       " <img alt=\"\" class=\"mw-file-element\" data-file-height=\"279\" data-file-width=\"1024\" decoding=\"async\" height=\"29\" src=\"//upload.wikimedia.org/wikipedia/commons/thumb/e/eb/Meritorious_Service_Medal_ribbon.svg/106px-Meritorious_Service_Medal_ribbon.svg.png\" srcset=\"//upload.wikimedia.org/wikipedia/commons/thumb/e/eb/Meritorious_Service_Medal_ribbon.svg/159px-Meritorious_Service_Medal_ribbon.svg.png 1.5x, //upload.wikimedia.org/wikipedia/commons/thumb/e/eb/Meritorious_Service_Medal_ribbon.svg/212px-Meritorious_Service_Medal_ribbon.svg.png 2x\" width=\"106\"/>,\n",
       " <img alt=\"\" class=\"mw-file-element\" data-file-height=\"56\" data-file-width=\"204\" decoding=\"async\" height=\"29\" src=\"//upload.wikimedia.org/wikipedia/commons/thumb/e/ee/Presidential_Medal_of_Freedom_%28ribbon%29.svg/106px-Presidential_Medal_of_Freedom_%28ribbon%29.svg.png\" srcset=\"//upload.wikimedia.org/wikipedia/commons/thumb/e/ee/Presidential_Medal_of_Freedom_%28ribbon%29.svg/159px-Presidential_Medal_of_Freedom_%28ribbon%29.svg.png 1.5x, //upload.wikimedia.org/wikipedia/commons/thumb/e/ee/Presidential_Medal_of_Freedom_%28ribbon%29.svg/212px-Presidential_Medal_of_Freedom_%28ribbon%29.svg.png 2x\" width=\"106\"/>,\n",
       " <img alt=\"\" class=\"mw-file-element\" data-file-height=\"279\" data-file-width=\"1024\" decoding=\"async\" height=\"29\" src=\"//upload.wikimedia.org/wikipedia/commons/thumb/e/e0/American_Campaign_Medal_ribbon.svg/106px-American_Campaign_Medal_ribbon.svg.png\" srcset=\"//upload.wikimedia.org/wikipedia/commons/thumb/e/e0/American_Campaign_Medal_ribbon.svg/159px-American_Campaign_Medal_ribbon.svg.png 1.5x, //upload.wikimedia.org/wikipedia/commons/thumb/e/e0/American_Campaign_Medal_ribbon.svg/212px-American_Campaign_Medal_ribbon.svg.png 2x\" width=\"106\"/>,\n",
       " <img alt=\"\" class=\"mw-file-element\" data-file-height=\"140\" data-file-width=\"512\" decoding=\"async\" height=\"29\" src=\"//upload.wikimedia.org/wikipedia/commons/thumb/0/06/World_War_II_Victory_Medal_ribbon.svg/106px-World_War_II_Victory_Medal_ribbon.svg.png\" srcset=\"//upload.wikimedia.org/wikipedia/commons/thumb/0/06/World_War_II_Victory_Medal_ribbon.svg/159px-World_War_II_Victory_Medal_ribbon.svg.png 1.5x, //upload.wikimedia.org/wikipedia/commons/thumb/0/06/World_War_II_Victory_Medal_ribbon.svg/212px-World_War_II_Victory_Medal_ribbon.svg.png 2x\" width=\"106\"/>,\n",
       " <img alt=\"Bronze star\" class=\"mw-file-element\" data-file-height=\"200\" data-file-width=\"214\" decoding=\"async\" height=\"17\" src=\"//upload.wikimedia.org/wikipedia/commons/thumb/4/40/Ribbonstar-bronze.svg/18px-Ribbonstar-bronze.svg.png\" srcset=\"//upload.wikimedia.org/wikipedia/commons/thumb/4/40/Ribbonstar-bronze.svg/27px-Ribbonstar-bronze.svg.png 1.5x, //upload.wikimedia.org/wikipedia/commons/thumb/4/40/Ribbonstar-bronze.svg/36px-Ribbonstar-bronze.svg.png 2x\" width=\"18\"/>,\n",
       " <img alt=\"\" class=\"mw-file-element\" data-file-height=\"279\" data-file-width=\"1024\" decoding=\"async\" height=\"29\" src=\"//upload.wikimedia.org/wikipedia/commons/thumb/0/0d/National_Defense_Service_Medal_ribbon.svg/106px-National_Defense_Service_Medal_ribbon.svg.png\" srcset=\"//upload.wikimedia.org/wikipedia/commons/thumb/0/0d/National_Defense_Service_Medal_ribbon.svg/159px-National_Defense_Service_Medal_ribbon.svg.png 1.5x, //upload.wikimedia.org/wikipedia/commons/thumb/0/0d/National_Defense_Service_Medal_ribbon.svg/212px-National_Defense_Service_Medal_ribbon.svg.png 2x\" width=\"106\"/>,\n",
       " <img alt=\"\" class=\"mw-file-element\" data-file-height=\"47\" data-file-width=\"166\" decoding=\"async\" height=\"30\" src=\"//upload.wikimedia.org/wikipedia/commons/thumb/e/e2/Armed_Forces_Reserve_Medal_with_two_bronze_hourglass_devices.png/106px-Armed_Forces_Reserve_Medal_with_two_bronze_hourglass_devices.png\" srcset=\"//upload.wikimedia.org/wikipedia/commons/thumb/e/e2/Armed_Forces_Reserve_Medal_with_two_bronze_hourglass_devices.png/159px-Armed_Forces_Reserve_Medal_with_two_bronze_hourglass_devices.png 1.5x, //upload.wikimedia.org/wikipedia/commons/e/e2/Armed_Forces_Reserve_Medal_with_two_bronze_hourglass_devices.png 2x\" width=\"106\"/>,\n",
       " <img alt=\"\" class=\"mw-file-element\" data-file-height=\"279\" data-file-width=\"1024\" decoding=\"async\" height=\"29\" src=\"//upload.wikimedia.org/wikipedia/commons/thumb/7/7f/U.S._Naval_Reserve_Medal_ribbon.svg/106px-U.S._Naval_Reserve_Medal_ribbon.svg.png\" srcset=\"//upload.wikimedia.org/wikipedia/commons/thumb/7/7f/U.S._Naval_Reserve_Medal_ribbon.svg/159px-U.S._Naval_Reserve_Medal_ribbon.svg.png 1.5x, //upload.wikimedia.org/wikipedia/commons/thumb/7/7f/U.S._Naval_Reserve_Medal_ribbon.svg/212px-U.S._Naval_Reserve_Medal_ribbon.svg.png 2x\" width=\"106\"/>,\n",
       " <img alt=\"\" class=\"mw-file-element\" data-file-height=\"48\" data-file-width=\"48\" decoding=\"async\" height=\"40\" src=\"//upload.wikimedia.org/wikipedia/en/thumb/f/f2/Edit-clear.svg/40px-Edit-clear.svg.png\" srcset=\"//upload.wikimedia.org/wikipedia/en/thumb/f/f2/Edit-clear.svg/60px-Edit-clear.svg.png 1.5x, //upload.wikimedia.org/wikipedia/en/thumb/f/f2/Edit-clear.svg/80px-Edit-clear.svg.png 2x\" width=\"40\"/>,\n",
       " <img alt=\"\" class=\"mw-file-element\" data-file-height=\"1944\" data-file-width=\"1911\" decoding=\"async\" height=\"28\" src=\"//upload.wikimedia.org/wikipedia/en/thumb/6/69/P_vip.svg/28px-P_vip.svg.png\" srcset=\"//upload.wikimedia.org/wikipedia/en/thumb/6/69/P_vip.svg/41px-P_vip.svg.png 1.5x, //upload.wikimedia.org/wikipedia/en/thumb/6/69/P_vip.svg/55px-P_vip.svg.png 2x\" width=\"28\"/>,\n",
       " <img alt=\"icon\" class=\"mw-file-element\" data-file-height=\"128\" data-file-width=\"128\" decoding=\"async\" height=\"28\" src=\"//upload.wikimedia.org/wikipedia/commons/thumb/8/8b/Nuvola_apps_kalzium.svg/28px-Nuvola_apps_kalzium.svg.png\" srcset=\"//upload.wikimedia.org/wikipedia/commons/thumb/8/8b/Nuvola_apps_kalzium.svg/42px-Nuvola_apps_kalzium.svg.png 1.5x, //upload.wikimedia.org/wikipedia/commons/thumb/8/8b/Nuvola_apps_kalzium.svg/56px-Nuvola_apps_kalzium.svg.png 2x\" width=\"28\"/>,\n",
       " <img alt=\"\" class=\"mw-file-element\" data-file-height=\"1376\" data-file-width=\"1024\" decoding=\"async\" height=\"40\" src=\"//upload.wikimedia.org/wikipedia/en/thumb/4/4a/Commons-logo.svg/30px-Commons-logo.svg.png\" srcset=\"//upload.wikimedia.org/wikipedia/en/thumb/4/4a/Commons-logo.svg/45px-Commons-logo.svg.png 1.5x, //upload.wikimedia.org/wikipedia/en/thumb/4/4a/Commons-logo.svg/59px-Commons-logo.svg.png 2x\" width=\"30\"/>,\n",
       " <img alt=\"\" class=\"mw-file-element\" data-file-height=\"355\" data-file-width=\"300\" decoding=\"async\" height=\"40\" src=\"//upload.wikimedia.org/wikipedia/commons/thumb/f/fa/Wikiquote-logo.svg/34px-Wikiquote-logo.svg.png\" srcset=\"//upload.wikimedia.org/wikipedia/commons/thumb/f/fa/Wikiquote-logo.svg/51px-Wikiquote-logo.svg.png 1.5x, //upload.wikimedia.org/wikipedia/commons/thumb/f/fa/Wikiquote-logo.svg/68px-Wikiquote-logo.svg.png 2x\" width=\"34\"/>,\n",
       " <img alt=\"\" class=\"mw-file-element\" data-file-height=\"1376\" data-file-width=\"1024\" decoding=\"async\" height=\"16\" src=\"//upload.wikimedia.org/wikipedia/en/thumb/4/4a/Commons-logo.svg/12px-Commons-logo.svg.png\" srcset=\"//upload.wikimedia.org/wikipedia/en/thumb/4/4a/Commons-logo.svg/18px-Commons-logo.svg.png 1.5x, //upload.wikimedia.org/wikipedia/en/thumb/4/4a/Commons-logo.svg/24px-Commons-logo.svg.png 2x\" width=\"12\"/>,\n",
       " <img alt=\"\" class=\"mw-file-element\" data-file-height=\"185\" data-file-width=\"180\" decoding=\"async\" height=\"16\" src=\"//upload.wikimedia.org/wikipedia/en/thumb/9/96/Symbol_category_class.svg/16px-Symbol_category_class.svg.png\" srcset=\"//upload.wikimedia.org/wikipedia/en/thumb/9/96/Symbol_category_class.svg/23px-Symbol_category_class.svg.png 1.5x, //upload.wikimedia.org/wikipedia/en/thumb/9/96/Symbol_category_class.svg/31px-Symbol_category_class.svg.png 2x\" width=\"16\"/>,\n",
       " <img alt=\"Edit this at Wikidata\" class=\"mw-file-element\" data-file-height=\"20\" data-file-width=\"20\" decoding=\"async\" height=\"10\" src=\"//upload.wikimedia.org/wikipedia/en/thumb/8/8a/OOjs_UI_icon_edit-ltr-progressive.svg/10px-OOjs_UI_icon_edit-ltr-progressive.svg.png\" srcset=\"//upload.wikimedia.org/wikipedia/en/thumb/8/8a/OOjs_UI_icon_edit-ltr-progressive.svg/15px-OOjs_UI_icon_edit-ltr-progressive.svg.png 1.5x, //upload.wikimedia.org/wikipedia/en/thumb/8/8a/OOjs_UI_icon_edit-ltr-progressive.svg/20px-OOjs_UI_icon_edit-ltr-progressive.svg.png 2x\" width=\"10\"/>,\n",
       " <img alt=\"\" height=\"1\" src=\"https://login.wikimedia.org/wiki/Special:CentralAutoLogin/start?type=1x1\" style=\"border: none; position: absolute;\" width=\"1\"/>,\n",
       " <img alt=\"Wikimedia Foundation\" height=\"31\" loading=\"lazy\" src=\"/static/images/footer/wikimedia-button.png\" srcset=\"/static/images/footer/wikimedia-button-1.5x.png 1.5x, /static/images/footer/wikimedia-button-2x.png 2x\" width=\"88\"/>,\n",
       " <img alt=\"Powered by MediaWiki\" height=\"31\" loading=\"lazy\" src=\"/static/images/footer/poweredby_mediawiki_88x31.png\" srcset=\"/static/images/footer/poweredby_mediawiki_132x47.png 1.5x, /static/images/footer/poweredby_mediawiki_176x62.png 2x\" width=\"88\"/>]"
      ]
     },
     "execution_count": 28,
     "metadata": {},
     "output_type": "execute_result"
    }
   ],
   "source": [
    "# Lets grab an image\n",
    "\n",
    "## This will grab all the img tags\n",
    "soup.select('img')"
   ]
  },
  {
   "cell_type": "code",
   "execution_count": 31,
   "id": "ec3e52a5-8ab2-4c97-a5d7-55f0ac3dc7b2",
   "metadata": {},
   "outputs": [
    {
     "data": {
      "text/plain": [
       "[<img class=\"mw-file-element\" data-file-height=\"3000\" data-file-width=\"2400\" decoding=\"async\" height=\"300\" src=\"//upload.wikimedia.org/wikipedia/commons/thumb/a/ad/Commodore_Grace_M._Hopper%2C_USN_%28covered%29.jpg/240px-Commodore_Grace_M._Hopper%2C_USN_%28covered%29.jpg\" srcset=\"//upload.wikimedia.org/wikipedia/commons/thumb/a/ad/Commodore_Grace_M._Hopper%2C_USN_%28covered%29.jpg/360px-Commodore_Grace_M._Hopper%2C_USN_%28covered%29.jpg 1.5x, //upload.wikimedia.org/wikipedia/commons/thumb/a/ad/Commodore_Grace_M._Hopper%2C_USN_%28covered%29.jpg/480px-Commodore_Grace_M._Hopper%2C_USN_%28covered%29.jpg 2x\" width=\"240\"/>,\n",
       " <img alt=\"\" class=\"mw-file-element\" data-file-height=\"650\" data-file-width=\"1235\" decoding=\"async\" height=\"12\" src=\"//upload.wikimedia.org/wikipedia/en/thumb/a/a4/Flag_of_the_United_States.svg/23px-Flag_of_the_United_States.svg.png\" srcset=\"//upload.wikimedia.org/wikipedia/en/thumb/a/a4/Flag_of_the_United_States.svg/35px-Flag_of_the_United_States.svg.png 1.5x, //upload.wikimedia.org/wikipedia/en/thumb/a/a4/Flag_of_the_United_States.svg/46px-Flag_of_the_United_States.svg.png 2x\" width=\"23\"/>,\n",
       " <img alt=\"\" class=\"mw-file-element\" data-file-height=\"520\" data-file-width=\"660\" decoding=\"async\" height=\"18\" src=\"//upload.wikimedia.org/wikipedia/commons/thumb/e/e9/Flag_of_the_United_States_Navy.svg/23px-Flag_of_the_United_States_Navy.svg.png\" srcset=\"//upload.wikimedia.org/wikipedia/commons/thumb/e/e9/Flag_of_the_United_States_Navy.svg/35px-Flag_of_the_United_States_Navy.svg.png 1.5x, //upload.wikimedia.org/wikipedia/commons/thumb/e/e9/Flag_of_the_United_States_Navy.svg/46px-Flag_of_the_United_States_Navy.svg.png 2x\" width=\"23\"/>,\n",
       " <img class=\"mw-file-element\" data-file-height=\"583\" data-file-width=\"622\" decoding=\"async\" height=\"23\" src=\"//upload.wikimedia.org/wikipedia/commons/thumb/2/23/US-O7_insignia.svg/25px-US-O7_insignia.svg.png\" srcset=\"//upload.wikimedia.org/wikipedia/commons/thumb/2/23/US-O7_insignia.svg/38px-US-O7_insignia.svg.png 1.5x, //upload.wikimedia.org/wikipedia/commons/thumb/2/23/US-O7_insignia.svg/50px-US-O7_insignia.svg.png 2x\" width=\"25\"/>,\n",
       " <img class=\"mw-file-element\" data-file-height=\"2448\" data-file-width=\"3264\" decoding=\"async\" height=\"165\" src=\"//upload.wikimedia.org/wikipedia/commons/thumb/a/aa/Harvard_Mark_I_sign-up.agr.jpg/220px-Harvard_Mark_I_sign-up.agr.jpg\" srcset=\"//upload.wikimedia.org/wikipedia/commons/thumb/a/aa/Harvard_Mark_I_sign-up.agr.jpg/330px-Harvard_Mark_I_sign-up.agr.jpg 1.5x, //upload.wikimedia.org/wikipedia/commons/thumb/a/aa/Harvard_Mark_I_sign-up.agr.jpg/440px-Harvard_Mark_I_sign-up.agr.jpg 2x\" width=\"220\"/>,\n",
       " <img class=\"mw-file-element\" data-file-height=\"1200\" data-file-width=\"782\" decoding=\"async\" height=\"261\" src=\"//upload.wikimedia.org/wikipedia/commons/thumb/2/21/Grace_Murray_Hopper%2C_in_her_office_in_Washington_DC%2C_1978%2C_%C2%A9Lynn_Gilbert.jpg/170px-Grace_Murray_Hopper%2C_in_her_office_in_Washington_DC%2C_1978%2C_%C2%A9Lynn_Gilbert.jpg\" srcset=\"//upload.wikimedia.org/wikipedia/commons/thumb/2/21/Grace_Murray_Hopper%2C_in_her_office_in_Washington_DC%2C_1978%2C_%C2%A9Lynn_Gilbert.jpg/255px-Grace_Murray_Hopper%2C_in_her_office_in_Washington_DC%2C_1978%2C_%C2%A9Lynn_Gilbert.jpg 1.5x, //upload.wikimedia.org/wikipedia/commons/thumb/2/21/Grace_Murray_Hopper%2C_in_her_office_in_Washington_DC%2C_1978%2C_%C2%A9Lynn_Gilbert.jpg/340px-Grace_Murray_Hopper%2C_in_her_office_in_Washington_DC%2C_1978%2C_%C2%A9Lynn_Gilbert.jpg 2x\" width=\"170\"/>,\n",
       " <img class=\"mw-file-element\" data-file-height=\"450\" data-file-width=\"513\" decoding=\"async\" height=\"193\" src=\"//upload.wikimedia.org/wikipedia/commons/thumb/3/37/Grace_Hopper_and_UNIVAC.jpg/220px-Grace_Hopper_and_UNIVAC.jpg\" srcset=\"//upload.wikimedia.org/wikipedia/commons/thumb/3/37/Grace_Hopper_and_UNIVAC.jpg/330px-Grace_Hopper_and_UNIVAC.jpg 1.5x, //upload.wikimedia.org/wikipedia/commons/thumb/3/37/Grace_Hopper_and_UNIVAC.jpg/440px-Grace_Hopper_and_UNIVAC.jpg 2x\" width=\"220\"/>,\n",
       " <img class=\"mw-file-element\" data-file-height=\"2389\" data-file-width=\"3000\" decoding=\"async\" height=\"175\" src=\"//upload.wikimedia.org/wikipedia/commons/thumb/2/20/Grace_Hopper_being_promoted_to_Commodore.JPEG/220px-Grace_Hopper_being_promoted_to_Commodore.JPEG\" srcset=\"//upload.wikimedia.org/wikipedia/commons/thumb/2/20/Grace_Hopper_being_promoted_to_Commodore.JPEG/330px-Grace_Hopper_being_promoted_to_Commodore.JPEG 1.5x, //upload.wikimedia.org/wikipedia/commons/thumb/2/20/Grace_Hopper_being_promoted_to_Commodore.JPEG/440px-Grace_Hopper_being_promoted_to_Commodore.JPEG 2x\" width=\"220\"/>,\n",
       " <img class=\"mw-file-element\" data-file-height=\"2285\" data-file-width=\"2889\" decoding=\"async\" height=\"237\" src=\"//upload.wikimedia.org/wikipedia/commons/thumb/f/ff/First_Computer_Bug%2C_1945.jpg/300px-First_Computer_Bug%2C_1945.jpg\" srcset=\"//upload.wikimedia.org/wikipedia/commons/thumb/f/ff/First_Computer_Bug%2C_1945.jpg/450px-First_Computer_Bug%2C_1945.jpg 1.5x, //upload.wikimedia.org/wikipedia/commons/thumb/f/ff/First_Computer_Bug%2C_1945.jpg/600px-First_Computer_Bug%2C_1945.jpg 2x\" width=\"300\"/>,\n",
       " <img class=\"mw-file-element\" data-file-height=\"420\" data-file-width=\"245\" decoding=\"async\" height=\"103\" src=\"//upload.wikimedia.org/wikipedia/commons/thumb/3/38/US_Navy_O2_insignia.svg/60px-US_Navy_O2_insignia.svg.png\" srcset=\"//upload.wikimedia.org/wikipedia/commons/thumb/3/38/US_Navy_O2_insignia.svg/90px-US_Navy_O2_insignia.svg.png 1.5x, //upload.wikimedia.org/wikipedia/commons/thumb/3/38/US_Navy_O2_insignia.svg/120px-US_Navy_O2_insignia.svg.png 2x\" width=\"60\"/>,\n",
       " <img class=\"mw-file-element\" data-file-height=\"420\" data-file-width=\"245\" decoding=\"async\" height=\"103\" src=\"//upload.wikimedia.org/wikipedia/commons/thumb/0/02/US_Navy_O3_insignia.svg/60px-US_Navy_O3_insignia.svg.png\" srcset=\"//upload.wikimedia.org/wikipedia/commons/thumb/0/02/US_Navy_O3_insignia.svg/90px-US_Navy_O3_insignia.svg.png 1.5x, //upload.wikimedia.org/wikipedia/commons/thumb/0/02/US_Navy_O3_insignia.svg/120px-US_Navy_O3_insignia.svg.png 2x\" width=\"60\"/>,\n",
       " <img class=\"mw-file-element\" data-file-height=\"420\" data-file-width=\"245\" decoding=\"async\" height=\"103\" src=\"//upload.wikimedia.org/wikipedia/commons/thumb/8/87/U.S._Navy_O-4_insignia.svg/60px-U.S._Navy_O-4_insignia.svg.png\" srcset=\"//upload.wikimedia.org/wikipedia/commons/thumb/8/87/U.S._Navy_O-4_insignia.svg/90px-U.S._Navy_O-4_insignia.svg.png 1.5x, //upload.wikimedia.org/wikipedia/commons/thumb/8/87/U.S._Navy_O-4_insignia.svg/120px-U.S._Navy_O-4_insignia.svg.png 2x\" width=\"60\"/>,\n",
       " <img class=\"mw-file-element\" data-file-height=\"420\" data-file-width=\"245\" decoding=\"async\" height=\"103\" src=\"//upload.wikimedia.org/wikipedia/commons/thumb/b/be/US_Navy_O5_insignia.svg/60px-US_Navy_O5_insignia.svg.png\" srcset=\"//upload.wikimedia.org/wikipedia/commons/thumb/b/be/US_Navy_O5_insignia.svg/90px-US_Navy_O5_insignia.svg.png 1.5x, //upload.wikimedia.org/wikipedia/commons/thumb/b/be/US_Navy_O5_insignia.svg/120px-US_Navy_O5_insignia.svg.png 2x\" width=\"60\"/>,\n",
       " <img class=\"mw-file-element\" data-file-height=\"420\" data-file-width=\"245\" decoding=\"async\" height=\"103\" src=\"//upload.wikimedia.org/wikipedia/commons/thumb/c/c0/US_Navy_O6_insignia.svg/60px-US_Navy_O6_insignia.svg.png\" srcset=\"//upload.wikimedia.org/wikipedia/commons/thumb/c/c0/US_Navy_O6_insignia.svg/90px-US_Navy_O6_insignia.svg.png 1.5x, //upload.wikimedia.org/wikipedia/commons/thumb/c/c0/US_Navy_O6_insignia.svg/120px-US_Navy_O6_insignia.svg.png 2x\" width=\"60\"/>,\n",
       " <img class=\"mw-file-element\" data-file-height=\"420\" data-file-width=\"245\" decoding=\"async\" height=\"103\" src=\"//upload.wikimedia.org/wikipedia/commons/thumb/d/d9/US_Navy_O7_insignia.svg/60px-US_Navy_O7_insignia.svg.png\" srcset=\"//upload.wikimedia.org/wikipedia/commons/thumb/d/d9/US_Navy_O7_insignia.svg/90px-US_Navy_O7_insignia.svg.png 1.5x, //upload.wikimedia.org/wikipedia/commons/thumb/d/d9/US_Navy_O7_insignia.svg/120px-US_Navy_O7_insignia.svg.png 2x\" width=\"60\"/>,\n",
       " <img alt=\"\" class=\"mw-file-element\" data-file-height=\"279\" data-file-width=\"1024\" decoding=\"async\" height=\"29\" src=\"//upload.wikimedia.org/wikipedia/commons/thumb/3/34/Defense_Distinguished_Service_Medal_ribbon.svg/106px-Defense_Distinguished_Service_Medal_ribbon.svg.png\" srcset=\"//upload.wikimedia.org/wikipedia/commons/thumb/3/34/Defense_Distinguished_Service_Medal_ribbon.svg/159px-Defense_Distinguished_Service_Medal_ribbon.svg.png 1.5x, //upload.wikimedia.org/wikipedia/commons/thumb/3/34/Defense_Distinguished_Service_Medal_ribbon.svg/212px-Defense_Distinguished_Service_Medal_ribbon.svg.png 2x\" width=\"106\"/>,\n",
       " <img alt=\"\" class=\"mw-file-element\" data-file-height=\"279\" data-file-width=\"1024\" decoding=\"async\" height=\"29\" src=\"//upload.wikimedia.org/wikipedia/commons/thumb/4/43/Legion_of_Merit_ribbon.svg/106px-Legion_of_Merit_ribbon.svg.png\" srcset=\"//upload.wikimedia.org/wikipedia/commons/thumb/4/43/Legion_of_Merit_ribbon.svg/159px-Legion_of_Merit_ribbon.svg.png 1.5x, //upload.wikimedia.org/wikipedia/commons/thumb/4/43/Legion_of_Merit_ribbon.svg/212px-Legion_of_Merit_ribbon.svg.png 2x\" width=\"106\"/>,\n",
       " <img alt=\"\" class=\"mw-file-element\" data-file-height=\"279\" data-file-width=\"1024\" decoding=\"async\" height=\"29\" src=\"//upload.wikimedia.org/wikipedia/commons/thumb/e/eb/Meritorious_Service_Medal_ribbon.svg/106px-Meritorious_Service_Medal_ribbon.svg.png\" srcset=\"//upload.wikimedia.org/wikipedia/commons/thumb/e/eb/Meritorious_Service_Medal_ribbon.svg/159px-Meritorious_Service_Medal_ribbon.svg.png 1.5x, //upload.wikimedia.org/wikipedia/commons/thumb/e/eb/Meritorious_Service_Medal_ribbon.svg/212px-Meritorious_Service_Medal_ribbon.svg.png 2x\" width=\"106\"/>,\n",
       " <img alt=\"\" class=\"mw-file-element\" data-file-height=\"56\" data-file-width=\"204\" decoding=\"async\" height=\"29\" src=\"//upload.wikimedia.org/wikipedia/commons/thumb/e/ee/Presidential_Medal_of_Freedom_%28ribbon%29.svg/106px-Presidential_Medal_of_Freedom_%28ribbon%29.svg.png\" srcset=\"//upload.wikimedia.org/wikipedia/commons/thumb/e/ee/Presidential_Medal_of_Freedom_%28ribbon%29.svg/159px-Presidential_Medal_of_Freedom_%28ribbon%29.svg.png 1.5x, //upload.wikimedia.org/wikipedia/commons/thumb/e/ee/Presidential_Medal_of_Freedom_%28ribbon%29.svg/212px-Presidential_Medal_of_Freedom_%28ribbon%29.svg.png 2x\" width=\"106\"/>,\n",
       " <img alt=\"\" class=\"mw-file-element\" data-file-height=\"279\" data-file-width=\"1024\" decoding=\"async\" height=\"29\" src=\"//upload.wikimedia.org/wikipedia/commons/thumb/e/e0/American_Campaign_Medal_ribbon.svg/106px-American_Campaign_Medal_ribbon.svg.png\" srcset=\"//upload.wikimedia.org/wikipedia/commons/thumb/e/e0/American_Campaign_Medal_ribbon.svg/159px-American_Campaign_Medal_ribbon.svg.png 1.5x, //upload.wikimedia.org/wikipedia/commons/thumb/e/e0/American_Campaign_Medal_ribbon.svg/212px-American_Campaign_Medal_ribbon.svg.png 2x\" width=\"106\"/>,\n",
       " <img alt=\"\" class=\"mw-file-element\" data-file-height=\"140\" data-file-width=\"512\" decoding=\"async\" height=\"29\" src=\"//upload.wikimedia.org/wikipedia/commons/thumb/0/06/World_War_II_Victory_Medal_ribbon.svg/106px-World_War_II_Victory_Medal_ribbon.svg.png\" srcset=\"//upload.wikimedia.org/wikipedia/commons/thumb/0/06/World_War_II_Victory_Medal_ribbon.svg/159px-World_War_II_Victory_Medal_ribbon.svg.png 1.5x, //upload.wikimedia.org/wikipedia/commons/thumb/0/06/World_War_II_Victory_Medal_ribbon.svg/212px-World_War_II_Victory_Medal_ribbon.svg.png 2x\" width=\"106\"/>,\n",
       " <img alt=\"Bronze star\" class=\"mw-file-element\" data-file-height=\"200\" data-file-width=\"214\" decoding=\"async\" height=\"17\" src=\"//upload.wikimedia.org/wikipedia/commons/thumb/4/40/Ribbonstar-bronze.svg/18px-Ribbonstar-bronze.svg.png\" srcset=\"//upload.wikimedia.org/wikipedia/commons/thumb/4/40/Ribbonstar-bronze.svg/27px-Ribbonstar-bronze.svg.png 1.5x, //upload.wikimedia.org/wikipedia/commons/thumb/4/40/Ribbonstar-bronze.svg/36px-Ribbonstar-bronze.svg.png 2x\" width=\"18\"/>,\n",
       " <img alt=\"\" class=\"mw-file-element\" data-file-height=\"279\" data-file-width=\"1024\" decoding=\"async\" height=\"29\" src=\"//upload.wikimedia.org/wikipedia/commons/thumb/0/0d/National_Defense_Service_Medal_ribbon.svg/106px-National_Defense_Service_Medal_ribbon.svg.png\" srcset=\"//upload.wikimedia.org/wikipedia/commons/thumb/0/0d/National_Defense_Service_Medal_ribbon.svg/159px-National_Defense_Service_Medal_ribbon.svg.png 1.5x, //upload.wikimedia.org/wikipedia/commons/thumb/0/0d/National_Defense_Service_Medal_ribbon.svg/212px-National_Defense_Service_Medal_ribbon.svg.png 2x\" width=\"106\"/>,\n",
       " <img alt=\"\" class=\"mw-file-element\" data-file-height=\"47\" data-file-width=\"166\" decoding=\"async\" height=\"30\" src=\"//upload.wikimedia.org/wikipedia/commons/thumb/e/e2/Armed_Forces_Reserve_Medal_with_two_bronze_hourglass_devices.png/106px-Armed_Forces_Reserve_Medal_with_two_bronze_hourglass_devices.png\" srcset=\"//upload.wikimedia.org/wikipedia/commons/thumb/e/e2/Armed_Forces_Reserve_Medal_with_two_bronze_hourglass_devices.png/159px-Armed_Forces_Reserve_Medal_with_two_bronze_hourglass_devices.png 1.5x, //upload.wikimedia.org/wikipedia/commons/e/e2/Armed_Forces_Reserve_Medal_with_two_bronze_hourglass_devices.png 2x\" width=\"106\"/>,\n",
       " <img alt=\"\" class=\"mw-file-element\" data-file-height=\"279\" data-file-width=\"1024\" decoding=\"async\" height=\"29\" src=\"//upload.wikimedia.org/wikipedia/commons/thumb/7/7f/U.S._Naval_Reserve_Medal_ribbon.svg/106px-U.S._Naval_Reserve_Medal_ribbon.svg.png\" srcset=\"//upload.wikimedia.org/wikipedia/commons/thumb/7/7f/U.S._Naval_Reserve_Medal_ribbon.svg/159px-U.S._Naval_Reserve_Medal_ribbon.svg.png 1.5x, //upload.wikimedia.org/wikipedia/commons/thumb/7/7f/U.S._Naval_Reserve_Medal_ribbon.svg/212px-U.S._Naval_Reserve_Medal_ribbon.svg.png 2x\" width=\"106\"/>,\n",
       " <img alt=\"\" class=\"mw-file-element\" data-file-height=\"48\" data-file-width=\"48\" decoding=\"async\" height=\"40\" src=\"//upload.wikimedia.org/wikipedia/en/thumb/f/f2/Edit-clear.svg/40px-Edit-clear.svg.png\" srcset=\"//upload.wikimedia.org/wikipedia/en/thumb/f/f2/Edit-clear.svg/60px-Edit-clear.svg.png 1.5x, //upload.wikimedia.org/wikipedia/en/thumb/f/f2/Edit-clear.svg/80px-Edit-clear.svg.png 2x\" width=\"40\"/>,\n",
       " <img alt=\"\" class=\"mw-file-element\" data-file-height=\"1944\" data-file-width=\"1911\" decoding=\"async\" height=\"28\" src=\"//upload.wikimedia.org/wikipedia/en/thumb/6/69/P_vip.svg/28px-P_vip.svg.png\" srcset=\"//upload.wikimedia.org/wikipedia/en/thumb/6/69/P_vip.svg/41px-P_vip.svg.png 1.5x, //upload.wikimedia.org/wikipedia/en/thumb/6/69/P_vip.svg/55px-P_vip.svg.png 2x\" width=\"28\"/>,\n",
       " <img alt=\"icon\" class=\"mw-file-element\" data-file-height=\"128\" data-file-width=\"128\" decoding=\"async\" height=\"28\" src=\"//upload.wikimedia.org/wikipedia/commons/thumb/8/8b/Nuvola_apps_kalzium.svg/28px-Nuvola_apps_kalzium.svg.png\" srcset=\"//upload.wikimedia.org/wikipedia/commons/thumb/8/8b/Nuvola_apps_kalzium.svg/42px-Nuvola_apps_kalzium.svg.png 1.5x, //upload.wikimedia.org/wikipedia/commons/thumb/8/8b/Nuvola_apps_kalzium.svg/56px-Nuvola_apps_kalzium.svg.png 2x\" width=\"28\"/>,\n",
       " <img alt=\"\" class=\"mw-file-element\" data-file-height=\"1376\" data-file-width=\"1024\" decoding=\"async\" height=\"40\" src=\"//upload.wikimedia.org/wikipedia/en/thumb/4/4a/Commons-logo.svg/30px-Commons-logo.svg.png\" srcset=\"//upload.wikimedia.org/wikipedia/en/thumb/4/4a/Commons-logo.svg/45px-Commons-logo.svg.png 1.5x, //upload.wikimedia.org/wikipedia/en/thumb/4/4a/Commons-logo.svg/59px-Commons-logo.svg.png 2x\" width=\"30\"/>,\n",
       " <img alt=\"\" class=\"mw-file-element\" data-file-height=\"355\" data-file-width=\"300\" decoding=\"async\" height=\"40\" src=\"//upload.wikimedia.org/wikipedia/commons/thumb/f/fa/Wikiquote-logo.svg/34px-Wikiquote-logo.svg.png\" srcset=\"//upload.wikimedia.org/wikipedia/commons/thumb/f/fa/Wikiquote-logo.svg/51px-Wikiquote-logo.svg.png 1.5x, //upload.wikimedia.org/wikipedia/commons/thumb/f/fa/Wikiquote-logo.svg/68px-Wikiquote-logo.svg.png 2x\" width=\"34\"/>,\n",
       " <img alt=\"\" class=\"mw-file-element\" data-file-height=\"1376\" data-file-width=\"1024\" decoding=\"async\" height=\"16\" src=\"//upload.wikimedia.org/wikipedia/en/thumb/4/4a/Commons-logo.svg/12px-Commons-logo.svg.png\" srcset=\"//upload.wikimedia.org/wikipedia/en/thumb/4/4a/Commons-logo.svg/18px-Commons-logo.svg.png 1.5x, //upload.wikimedia.org/wikipedia/en/thumb/4/4a/Commons-logo.svg/24px-Commons-logo.svg.png 2x\" width=\"12\"/>,\n",
       " <img alt=\"\" class=\"mw-file-element\" data-file-height=\"185\" data-file-width=\"180\" decoding=\"async\" height=\"16\" src=\"//upload.wikimedia.org/wikipedia/en/thumb/9/96/Symbol_category_class.svg/16px-Symbol_category_class.svg.png\" srcset=\"//upload.wikimedia.org/wikipedia/en/thumb/9/96/Symbol_category_class.svg/23px-Symbol_category_class.svg.png 1.5x, //upload.wikimedia.org/wikipedia/en/thumb/9/96/Symbol_category_class.svg/31px-Symbol_category_class.svg.png 2x\" width=\"16\"/>,\n",
       " <img alt=\"Edit this at Wikidata\" class=\"mw-file-element\" data-file-height=\"20\" data-file-width=\"20\" decoding=\"async\" height=\"10\" src=\"//upload.wikimedia.org/wikipedia/en/thumb/8/8a/OOjs_UI_icon_edit-ltr-progressive.svg/10px-OOjs_UI_icon_edit-ltr-progressive.svg.png\" srcset=\"//upload.wikimedia.org/wikipedia/en/thumb/8/8a/OOjs_UI_icon_edit-ltr-progressive.svg/15px-OOjs_UI_icon_edit-ltr-progressive.svg.png 1.5x, //upload.wikimedia.org/wikipedia/en/thumb/8/8a/OOjs_UI_icon_edit-ltr-progressive.svg/20px-OOjs_UI_icon_edit-ltr-progressive.svg.png 2x\" width=\"10\"/>]"
      ]
     },
     "execution_count": 31,
     "metadata": {},
     "output_type": "execute_result"
    }
   ],
   "source": [
    "## Grab the class of the image needed\n",
    "soup.select('.mw-file-element')"
   ]
  },
  {
   "cell_type": "code",
   "execution_count": 33,
   "id": "8ad5dc6d-7cf9-4bfa-9d50-6b159e39bcd6",
   "metadata": {},
   "outputs": [
    {
     "data": {
      "text/plain": [
       "<img class=\"mw-file-element\" data-file-height=\"3000\" data-file-width=\"2400\" decoding=\"async\" height=\"300\" src=\"//upload.wikimedia.org/wikipedia/commons/thumb/a/ad/Commodore_Grace_M._Hopper%2C_USN_%28covered%29.jpg/240px-Commodore_Grace_M._Hopper%2C_USN_%28covered%29.jpg\" srcset=\"//upload.wikimedia.org/wikipedia/commons/thumb/a/ad/Commodore_Grace_M._Hopper%2C_USN_%28covered%29.jpg/360px-Commodore_Grace_M._Hopper%2C_USN_%28covered%29.jpg 1.5x, //upload.wikimedia.org/wikipedia/commons/thumb/a/ad/Commodore_Grace_M._Hopper%2C_USN_%28covered%29.jpg/480px-Commodore_Grace_M._Hopper%2C_USN_%28covered%29.jpg 2x\" width=\"240\"/>"
      ]
     },
     "execution_count": 33,
     "metadata": {},
     "output_type": "execute_result"
    }
   ],
   "source": [
    "final_img = soup.select('.mw-file-element')[0]\n",
    "final_img"
   ]
  },
  {
   "cell_type": "code",
   "execution_count": 36,
   "id": "80ab5d09-efca-44e0-92aa-743e4fb1e258",
   "metadata": {},
   "outputs": [
    {
     "data": {
      "text/plain": [
       "['mw-file-element']"
      ]
     },
     "execution_count": 36,
     "metadata": {},
     "output_type": "execute_result"
    }
   ],
   "source": [
    "## This final_img can be treated like a dictionary, so we can grab src, class and all other elements from the tag\n",
    "final_img['class']"
   ]
  },
  {
   "cell_type": "code",
   "execution_count": 37,
   "id": "dbdd8552-3f6a-4f2a-884a-ce79cb19d99e",
   "metadata": {},
   "outputs": [
    {
     "data": {
      "text/plain": [
       "'//upload.wikimedia.org/wikipedia/commons/thumb/a/ad/Commodore_Grace_M._Hopper%2C_USN_%28covered%29.jpg/240px-Commodore_Grace_M._Hopper%2C_USN_%28covered%29.jpg'"
      ]
     },
     "execution_count": 37,
     "metadata": {},
     "output_type": "execute_result"
    }
   ],
   "source": [
    "final_img['src']"
   ]
  },
  {
   "cell_type": "markdown",
   "id": "cb1014cc-08fb-4738-9481-ce8f473eb593",
   "metadata": {},
   "source": [
    "<img src=\"//upload.wikimedia.org/wikipedia/commons/thumb/a/ad/Commodore_Grace_M._Hopper%2C_USN_%28covered%29.jpg/240px-Commodore_Grace_M._Hopper%2C_USN_%28covered%29.jpg\">"
   ]
  },
  {
   "cell_type": "code",
   "execution_count": 44,
   "id": "59f74b9f-14b0-494b-b31d-da27797fd1e4",
   "metadata": {},
   "outputs": [],
   "source": [
    "## Download image\n",
    "## Make a request to the image url with https\n",
    "img_link = requests.get('https://upload.wikimedia.org/wikipedia/commons/thumb/a/ad/Commodore_Grace_M._Hopper%2C_USN_%28covered%29.jpg/240px-Commodore_Grace_M._Hopper%2C_USN_%28covered%29.jpg')"
   ]
  },
  {
   "cell_type": "code",
   "execution_count": 45,
   "id": "741f3023-adbc-4be0-9fcb-8c2315a89ea6",
   "metadata": {},
   "outputs": [
    {
     "data": {
      "text/plain": [
       "b'\\xff\\xd8\\xff\\xe1\\x00rExif\\x00\\x00MM\\x00*\\x00\\x00\\x00\\x08\\x00\\x05\\x01\\x1a\\x00\\x05\\x00\\x00\\x00\\x01\\x00\\x00\\x00J\\x01\\x1b\\x00\\x05\\x00\\x00\\x00\\x01\\x00\\x00\\x00R\\x01(\\x00\\x03\\x00\\x00\\x00\\x01\\x00\\x02\\x00\\x00\\x01;\\x00\\x02\\x00\\x00\\x00\\x0f\\x00\\x00\\x00Z\\x02\\x13\\x00\\x03\\x00\\x00\\x00\\x01\\x00\\x01\\x00\\x00\\x00\\x00\\x00\\x00\\x00\\x00\\x00H\\x00\\x00\\x00\\x01\\x00\\x00\\x00H\\x00\\x00\\x00\\x01James S. Davis\\x00\\x00\\xff\\xe1\\x0bwhttp://ns.adobe.com/xap/1.0/\\x00<?xpacket begin=\\'\\xef\\xbb\\xbf\\' id=\\'W5M0MpCehiHzreSzNTczkc9d\\'?>\\n<x:xmpmeta xmlns:x=\\'adobe:ns:meta/\\' x:xmptk=\\'Image::ExifTool 9.74\\'>\\n<rdf:RDF xmlns:rdf=\\'http://www.w3.org/1999/02/22-rdf-syntax-ns#\\'>\\n\\n <rdf:Description rdf:about=\\'\\'\\n  xmlns:dc=\\'http://purl.org/dc/elements/1.1/\\'>\\n  <dc:description>\\n   <rdf:Alt>\\n    <rdf:li xml:lang=\\'x-default\\'>Commodore Grace M. Hopper, USN (covered).</rdf:li>\\n   </rdf:Alt>\\n  </dc:description>\\n </rdf:Description>\\n</rdf:RDF>\\n</x:xmpmeta>\\n                                                                                                    \\n                                                                                                    \\n                                                                                                    \\n                                                                                                    \\n                                                                                                    \\n                                                                                                    \\n                                                                                                    \\n                                                                                                    \\n                                                                                                    \\n                                                                                                    \\n                                                                                                    \\n                                                                                                    \\n                                                                                                    \\n                                                                                                    \\n                                                                                                    \\n                                                                                                    \\n                                                                                                    \\n                                                                                                    \\n                                                                                                    \\n                                                                                                    \\n                                                                                                    \\n                                                                                                    \\n                                                                                                    \\n                                                                                                    \\n<?xpacket end=\\'w\\'?>\\xff\\xdb\\x00C\\x00\\x04\\x03\\x03\\x04\\x03\\x03\\x04\\x04\\x03\\x04\\x05\\x04\\x04\\x05\\x06\\n\\x07\\x06\\x06\\x06\\x06\\r\\t\\n\\x08\\n\\x0f\\r\\x10\\x10\\x0f\\r\\x0f\\x0e\\x11\\x13\\x18\\x14\\x11\\x12\\x17\\x12\\x0e\\x0f\\x15\\x1c\\x15\\x17\\x19\\x19\\x1b\\x1b\\x1b\\x10\\x14\\x1d\\x1f\\x1d\\x1a\\x1f\\x18\\x1a\\x1b\\x1a\\xff\\xdb\\x00C\\x01\\x04\\x05\\x05\\x06\\x05\\x06\\x0c\\x07\\x07\\x0c\\x1a\\x11\\x0f\\x11\\x1a\\x1a\\x1a\\x1a\\x1a\\x1a\\x1a\\x1a\\x1a\\x1a\\x1a\\x1a\\x1a\\x1a\\x1a\\x1a\\x1a\\x1a\\x1a\\x1a\\x1a\\x1a\\x1a\\x1a\\x1a\\x1a\\x1a\\x1a\\x1a\\x1a\\x1a\\x1a\\x1a\\x1a\\x1a\\x1a\\x1a\\x1a\\x1a\\x1a\\x1a\\x1a\\x1a\\x1a\\x1a\\x1a\\x1a\\x1a\\x1a\\x1a\\xff\\xc0\\x00\\x11\\x08\\x01,\\x00\\xf0\\x03\\x01\"\\x00\\x02\\x11\\x01\\x03\\x11\\x01\\xff\\xc4\\x00\\x1d\\x00\\x00\\x01\\x05\\x01\\x01\\x01\\x01\\x00\\x00\\x00\\x00\\x00\\x00\\x00\\x00\\x00\\x07\\x03\\x04\\x05\\x06\\x08\\x02\\t\\x01\\x00\\xff\\xc4\\x00K\\x10\\x00\\x01\\x03\\x03\\x02\\x04\\x03\\x04\\x08\\x03\\x04\\x08\\x04\\x06\\x03\\x00\\x01\\x02\\x03\\x04\\x00\\x05\\x11\\x06!\\x07\\x121A\\x13Qa\\x14\"q\\x81\\x08\\x15#2B\\x91\\xa1\\xb1Rb\\xc1\\x163Cr$Sc\\x82\\x92\\xa2\\xb2\\xe1\\x17%\\xd1\\xf0\\t&\\'4T\\x83\\xa3\\xc2\\xf1\\xff\\xc4\\x00\\x1c\\x01\\x00\\x01\\x05\\x01\\x01\\x01\\x00\\x00\\x00\\x00\\x00\\x00\\x00\\x00\\x00\\x00\\x05\\x01\\x02\\x03\\x04\\x06\\x00\\x07\\x08\\xff\\xc4\\x00<\\x11\\x00\\x01\\x03\\x02\\x04\\x02\\x06\\x07\\x07\\x04\\x02\\x03\\x00\\x00\\x00\\x00\\x01\\x00\\x02\\x03\\x04\\x11\\x05\\x12!1AQ\\x13\"aq\\x91\\xb1\\x142\\x81\\xa1\\xc1\\xd1\\xf0\\x06#BRr\\xb2\\xe1%4b\\xf1$\\xc2s\\xb3\\xc3\\xff\\xda\\x00\\x0c\\x03\\x01\\x00\\x02\\x11\\x03\\x11\\x00?\\x00\\xec\\r\\x85\\r\\xb8\\xdb\\x16c\\x9a~\\xce\\xb6ZZ\\xa0\\xb7p\\xe6\\x92\\xa02\\x12\\xaeB\\x1b\\xc9\\xf2\\xce~tJF\\xe7\\t\\x04\\x9a\\xcf<S\\xd4\\xee\\xdd\\xb5u\\xc9\\x96]X\\x85n@\\x84\\x10\\x87\\x08K\\x8aO\\xbc\\xa2GC\\xef\\x1f\\xd2\\xa7\\xc3\\xe22T6\\xdc5SLCXP\\xd6\\xe8\\xf7\\x88\\xb2\\xca1\\xef\\x1fx\\xff\\x00J)\\xf0\\xa2\\xeb\\xa6\\xf4\\xfe\\xa2\\xb3}ml\\x9fp\\xbdH\\x9c\\xcchn\\x05\\xa0G\\x8eVyB\\xb9~\\xf1V\\xfd{P\\xa2#^\\xd3-!@\\xe395=\\x1a\\xe4\\xbbU\\xfe\\xc79\\xa4\\xf3\\xae\\x1d\\xc1\\xb9A$\\xe3%\\xb2\\x14\\x07\\xe9Z\\xb9\\xe2\\xe9\\xe1{y\\xa1\\xecvG\\x83\\xc9\\x1a\\xbe\\x91\\xba\\xafG^g\\xdct\\xfa\\x98\\xb8\\'QX$x\\x11%6\\x02\\x99R\\xcf)q\\x07\\x7f\\xbb\\xf2\\xc8\"\\xb3\\xbe\\xa1O\\xfa<v\\xc7u\\x13\\x9as{\\xba?y\\xd4\\xd3\\xe6\\xcdW4\\x89\\xb3\\x95)\\xd2<\\xd6\\xa2\\xa2?Zi\\xa8\\x8f\\xbe\\x84\\xff\\x00\\n\\t\\xc7\\xca\\xaaSS\\x8aZ|\\x80\\x93\\xf3\\xe3n\\xc5,\\xb2t\\xb2fV+\\x8e\\xab\\x9b\\xa8/\\x97\\x1dA\\xe3?\\x15\\xd5\\xa5\\xb5\\xb2\\x10\\xe9\\x05\\x9eD\\x04\\xa4\\x82:\\x1c$oP0\\xdezT\\x86d\\xcaqOH\\x90\\xa5:\\xeb\\x8a;\\xa9J9$\\xfa\\x93\\\\D<\\x96\\x99*\\xef\\xe0\\xa4~b\\x95\\x801\\xec`vn\\xae\\xc3\\x1bX\\x1a\\x1a6\\n\\x078\\x9b\\xdd\\x168S\\xadm\\xfav\\xdbv\\x89\\xa9.2aD\\x997\\xd9\\x18y\\xb1\\x9fg\\xe7mEJ\\xcfP3\\x83\\xe8h\\x7f:\\xce\\xbd?\\xa8$\\xdb]u\\x12C\\x0e\\x14\\xb6\\xfa\\x14\\x14\\x97\\x9b#(p\\x11\\xd7#\\x06\\xab\\xae\\xcaZ\\xe6\\xbf\\x18\\x9f\\xb1K\\xde \\x1f\\xccF3\\xf9\\n\\x90m^\\x14\\xc6\\x87@\\x08\\xc0\\xf4\\xc5EML#\\x92IA\\xf5\\x8e\\xa3\\xbb\\xe8\\xa7\\xbeB\\xe6\\xb5\\xa7\\x82#p\\x0e\\xdc\\xf5\\xca\\xe1\\xa9`GS)T\\x8bD\\xa8\\xc3\\xc4p$\\x02\\xb2\\x02I\\xf4\\x04\\xee{Q\\xa3N\\xf0>\\t\\xe1t\\r/\\xac\\xd4%;o\\xb9;,?ow\\x00\\x15o\\x80\\xb23\\xcaS\\xb1\\xdb\\xb6\\xd4\\x0b\\xe0\\xc2Ro\\xda\\xb5\\xa5\\x8d\\xbe\\xa2\\x9d\\x80{\\xe5\"\\xadv^0M\\xe1\\xcf\\t\\xf4\\xb5\\xabN\\x96&^$>\\xe4\\xd9\\xa2N\\\\J#\\xf3\\xab\\x91\\xa3\\xbeA8\\xc8\\xf2\\x02\\xb2U1O&!(\\x84\\xeb\\xd4\\xfd\\xae\\xd6\\xfe\\xc2\\x8bD\\xe8\\xdbN\\xc2\\xff\\x00\\xf2\\xf3\\x0b\\xe7\\x16\\xad\\xd3/\\x1a\\x9e\\x14\\xc8~\\xc8\\xcd\\x97\\xd8\\x9ay\\x13\\x1fq\\x0c\\xa5d\\xa4\\x83\\xcc\\xb3\\xef-XH\\x00o\\x8e\\x951\\xf4m\\xbc\\xa5\\x9dYr\\xb5\\xa5\\xcf\\xb2\\xbb[\\xcb\\xc8\\x07\\xf18\\xc9\\xce\\xdf\\xee\\xa8\\xfeUL\\xe2\\xdd\\xcd\\xab\\xfc\\xdd\\x1f|j+p\\xd1u\\xb2\\x17\\xccdn\\x96\\xdd\\x0f+\\x9b\\x1e{\\x9a\\x83\\xd2\\xda\\x85zcV\\xe9\\xeb\\xda\\x15\\xc8\\x98S\\xdb.\\xef\\xb7\\x84\\xb3\\xc8\\xe0>\\x9c\\xaa?\\x95^\\xc2\\xa2t\\x98;c<\\x01\\x16\\xfd.#\\xe0\\xab\\xd686\\xb0\\xbb\\x9d\\x8f\\x88\\x05n\"\\x83\\xd7\\xce\\xbaKdS\\xa7\\x1a\\tq\\\\\\xa7)\\xcf\\xbb\\xea;\\x1a\\xf8\\x13\\x93\\x81\\xf3\\xa1\\n\\xcaM-\\xe3\\xd4\\xd7A\\xa0v\\x03\\x19\\xa5\\xc3u\\xf7\\x93\\xae\\xd8\\xa4\\\\\\x92\\x11\\x81\\xed\\x8a\\xe81\\xee\\x90\\x06\\x07\\xa5.\\x80\\xac\\x80\\x06v\\xa5\\x83d\\xf6\\xa4\\\\\\x98\\x08\\xe1\\'\\xce\\xbe\\xfb/\\\\\\r\\xa9\\xf9o\\xd0\\xd7$nv\\xebH\\xb91\\xf6a\\xdc\\r\\xab\\xa1\\x1f|\\x01O9\\x0ew\\x15\\xd2Z\\xf7\\x86iW&\\x821;\\r\\xf1_\\x8c~O\\xbc\\x00\\xa9\\x00\\x90\\x90N3\\xb5$\\xa1\\xccw\\x1b\\xf4\\xe9J\\x9a\\x99\\xf8X\\xf8y\\xd7\\xef\\x04+\\xb6qN\\xfc<\\xf4\\x1b\\xf7\\xcd~Kd\\x8e\\x94\\xab\\x93a\\x18\\xf9\\n\\xeb\\xd9\\xf9\\x81\\xcf\\xa6)\\xe0o\\x00\\x1e\\xb5\\xfb\\x93\\x18\\xdb\\xa5*\\xe4\\x08\\xbe\\xdd\\x91`\\xb1\\xdc\\xae\\xaet\\x87\\x1dn\\'\\xd5X\\xf7G\\xe6Edr\\xe3\\x8a\\x86\\x95<\\xa2\\xb7\\xdfQq\\xc5\\x1e\\xaaR\\x8eI?3G\\xae9\\xdeD]=\\x0e\\xd0\\xda\\xb0\\xed\\xc1\\xef\\x11c\\xfd\\x9a7\\xfdI\\x1f\\x95\\x02\\x8a\\x07\"\\xdcW\\xddm\\x18\\x02\\xb4\\x98DV\\x8c\\xbf\\x9a\\xa1R\\xee\\xb0\\x0b\\xe5\\xb1\\xa0\\x82\\xa5+\\xae+\\x89*\\xcc\\xd6w\\xfb\\xa8Y\\xfc\\xf6\\xa71\\x87\\xd9\\x8cc\\xee\\xe4\\xd4\\xc6\\x9b\\xd1s\\xf5\\x84=M2\\xcb\\xf6\\xf2\\xecQZ\\x92\\xa8iNV\\xfbJQ\\x0b)\\xf5N\\xc7\\x1d\\xe8\\xdc\\xaflL\\xcc\\xe3`\\xaa\\xb4\\x17:\\xc1R\\x1b\\xfbK\\xea\\xbf\\x94\\x9f\\xd0T\\xb2\\xec35\\x0b\\xb7\\xa5[\\x92\\x16m\\x90\\x0c\\xb7\\x11\\x83\\x92\\xdaq\\xceG\\xc0+?#Q\\xf6\\xe8R\\x03\\xc6\\xe2\\xecw\\x91\\x0eB\\xd6\\x86\\x1fSd!\\xc2\\x929\\x82O|df\\xb4g\\x03\\xb8m{\\xb5]n\\x1a\\x9e\\xed\\x18{$\\xd8NEb\\x18\\xc2\\xd6\\xe2\\x1c\\xe5\\xca\\xd7\\x83\\x84\\xa7\\x94\\x11\\x83\\xb9\\xcfAB\\xaaj\\x1b\\x053\\x9f}I6\\xedV\"\\x8c\\xc9 hY\\xd5\\xb2\\x05\\x96B\\xba\\xe4 g\\xe5N\\xa0\\x0c\\x96<\\xc3\\x1bU\\xcf\\x8c\\xd6\\xbbE\\x8a\\xff\\x00&\\xd7\\xa6`&\\xdfo\\x87\\x0e3^\\x18\\xc9+_)*Y\\'u\\x12OZ\\xa6\\xc0\\x1c\\xafF\\x1c\\xc0\\x156\\x94\\x8ec\\xb6I\\x02\\x88S\\xc8%\\x8cH6 \\x15\\x0c\\x8d\\xc8\\xe2\\xd3\\xc1F$\\x03w\\x91\\xberS\\x9a\\x92\\x92\\x9eY\\r\\x11\\xd4`\\xfe\\xb5r\\xe3\\x16\\x84\\x1a\\'\\x883\\x13\\x01\\x82\\xd5\\x9e\\xe0\\x86\\xdf\\x84\\xa0=\\xdd\\xd0\\n\\xd0?\\xca\\xa2G\\xe5T\\xf9[<\\xc9\\xf4\\xfe\\xb4\\xea9[=?H\\xdd\\x8e\\xbe\\xf4\\x92\\xb4\\xb1\\xf9O\\x05~\\xe0\\xa2\\xd3\\xfd\\xb1\\xbf!_\\xe3\\xd8\\xe6\\x00q\\xfc\\x947\\x83\\xbcGrI\\xf7\\xc0\\xc9\\xf2\\xc5\\x12\\xb8,\\x8f\\x0f^\\xbb\\x96\\xd5\\xe1\\xbdi\\x9c\\x90q\\xb1\\x01\\xbd\\xfe8\\xa1\\xac?v\\x04\\xb3\\xd7\\x94\\x85Pj}1:\\x8f\\xd3\\x1f\\xff\\x00O\\x92\\xbb\\'\\xf6\\xd1\\xf7\\xbb\\xfe\\xa8\\x83\\xae\\x14N\\x87\\xe1;\\xa4`\\x9b|\\xd6I\\xc7^WF?z\\xab\\xbc\\x81&3\\x8d\\x7f\\xacl\\x81\\xf1\\xabV\\xad\\x1e/\\x0b8n\\xf2\\xb1\\x96\\xa5\\xcfe\\'\\xf9J\\x81\\xaa\\x9bj\\xe4 \\x1d\\x8aN\\xdf\\n\\xec\\x14e\\xa7\\x91\\xbc\\xa4\\x97\\xff\\x00c\\x92V\\xeb#O6\\xb7\\xf6\\x85\\xbb8qy:\\x97\\x87\\xfaf\\xea\\xe1\\xe7rE\\xb9\\xa0\\xe9\\xcf\\xf8\\x88\\x1c\\x8a\\xfdSV\\xa4\\xb6\\x05\\x07>\\x8cWQ;\\x87s-\\x8a9v\\xd1su\\xb03\\xd1\\xb7@q?\\xa9U\\x1b\\x10\\xd6q\\x8a\\x07P\\xce\\x8eW7\\x91V\\x98s0\\x14\\x9a[\\xce\\xfd\\x85~\\xf0\\xf9\\x8f\\xa1\\xa7^\\x16E~\\xe4\\x07\\xe1U\\xd3\\x92I@\\xef\\xfbR\\x80\\x03\\xda\\xba\\r\\xfb\\xd9\\xae\\xc3t\\x8b\\x92\\\\\\xa9#\\xbek\\xf1F:R\\xa9G\\xbb\\xd3\\x19\\xae\\x8a\\x06k\\xac\\xb9 \\x06\\xf8\\xae\\xb9??JU(\\xdf\\x15\\xd7(\\x07p)l\\xb9!\\xcb\\xe7\\xbe;W\\xee\\\\\\x8cR\\xc0\\x01\\xb1\\xe9]\\x16\\x86\\xe4\\x0c\\xf7\\xa4\\\\\\x9b\\x84\\xf6\"\\x94Ci\\x18\\'q\\xdcR\\xa9H\\xd8\\x11\\x9c\\x1a\\xe8 d\\x8e\\x86\\x95rD\\xa3\\x19\\x1d\\xab\\xf1l(\\x1fN\\xb4\\xe04k\\xf2PRF:\\x1e\\xd4\\xa9\\x16e\\xfe\\xc4\\xb3\\xc6\\x1b\\x16\\xaf\\x8c\\x97\\x13\\x02U\\xba\\xf7\\x1d\\xabe\\xc1\\xc6\\x8a\\x93\\xca\\x86\\xc2]\\x03\\xf8\\x92IWN\\xe0Po\\x8dV\\xad=\\xa4.\\xf14\\x8e\\x93\\xe6\\x90mL\\x85]\\'8r\\xeb\\xf2\\x17\\x83\\x85c`\\x121\\xee\\x8e\\x99\\xad\\x05\\xc3\\x1e3\\xaa\\xe1\\xa0\\xf5l\\xedAj\\xb7F\\x8b\\xa6\\xa3\\xb6\\xb6c\\xc3\\n@x\\xaf \\x03\\x92w*\\xef@\\x9e*\\xea\\xbd%\\xc4,]-\\x16i\\xbasQ\\xadI\\x12P\\x12\\x97Y\\x96\\x91\\xddJ\\x1b\\x85\\x8e\\xc7\\x1b\\xf7\\xa2\\xf8{j\\x99PX\\xf6\\x9c\\xa3\\x80\\xd4\\x02@\\xdf\\x9e\\x9e\\x17\\xba\\x8a~\\x88\\xc4\\x1c\\xd2.|\\xae\\x87\\x91S\\x88\\xc8\\xc8\\xea+@}\\x1b4\\xcc{R\\xee\\xba\\x9am\\xfa\\x1bR\\xaeQ\\xd7\\x16%\\xad\\xb7\\x92\\\\X\\x04\\x10\\xb5\\x8c\\xe4\\x1c\\xa7a@~@\\xdbhH\\xe8)m\\x0btf\\xc3\\xa8\\xacWi\\x18B#\\xdc\\x9by\\xc5\\xe3\\xa2\\n\\xf0\\xa3\\xf9\\x1a9\\x88@\\xea\\x8awF\\xd3m9^\\xf6\\xe0\\xa8\\xd3\\xc8#\\x908\\x84D\\xe3\\xb4\\xb6\\x8d\\xe2\\xc3h\\x8a\\x96P\\xcd\\xba3\\xcaR\\x1b\\xc0\\xe5[\\x8b\\x04\\xe5#a\\xd3\\xa7\\xaej\\x0f\\xe8\\xf7zb\\xc3\\xc57\\xe6Nx\\xb3n\\x8fl\\x9a\\xf3\\xe0\\xac\\x84\\x9eVT\\xa1\\x91\\xd0\\x9c\\x8d\\xaa\\xa1v\\xba\\xfdw\\xaa\\xb5E\\xd3\\x9f\\xc5L\\x8b\\x93\\xcbB\\xcfts\\x1eO\\xf9qU\\xf8\\x0b!w\\x17\\x02\\x88\\xcbd\\x12\\x0e3\\xb1\\xdb\\xe1U)\\xe9\\xafB\\xc8\\x1d\\xc4\\x1f}\\xca\\x95\\xf2\\xfd\\xf9x\\xe6\\x9e\\xdd\\xaf3\\xb5\\x04\\x05\\xdcn\\xf2\\x17*c\\xea\\x1c\\xee(\\xef\\x8d\\xf0>U}\\xe1\\x1e\\xa8\\xb0\\xe9m@\\x87u.\\x9an\\xfc\\xa9,\\xb6\\xd4WJ\\x81TU\\x95\\x00\\x14\\x94+\\xdd;\\x91\\xeb\\xe5CF\\x15\\xcdah\\x7f6*r\\xce\\xf8\\x89s\\xb7\\xc9Zy\\xd1\\x1c\\xb2\\xf2\\x92\\x0e\\n\\x82\\\\J\\x88\\xfd*\\xf7B\\xd9i\\xfa;ia\\xb6\\x8a\\x0c\\xe5\\xaf\\xcd\\xc6\\xe8\\xb7\\xf4\\x9e\\x0bcX\\xd9!\\x19A\\xf1\\x1e\\x1a\\x94\\xa6\\xf2\\n\\x9aR\\xd4\\x0f\\xbd\\x8f1\\x8a\\x0eLekr:[B\\x9cZ\\x88JP\\x84\\x95\\x15\\x1e\\xc0\\x01\\xd4\\xd3\\xddk\\xa8\\xa4\\xea\\xcdu{\\xbeO8z{\\xc1\\xee\\\\\\xfd\\xc4\\xf4JG\\xc0\\x00)x7\\x89\\xfa~}\\xbe\\xe7f\\x92bN\\x8e\\xe73N\\x84\\x85`\\xfc\\x0e\\xc6\\x9dA\\x03\\xe9\\xa8\\x84[\\xb8\\x03\\xe3\\xbaZ\\x89\\x04\\x93\\x17p+H\\xf0\\xbbB>\\xd7\\x0f,s.\\x10\\\\\\xb6\\xdf\\xa2;4!\\x12PP\\xb2\\xdc\\xac\\xa0\\x05\\x0e\\xa0d%[\\xd6z\\xd6:6&\\x84vm\\x84\\\\\\xfe\\xb5\\xbc4\\xd2\\x95<\\xb4\\x8eVX8\\xf7[\\x1d\\xca\\xbb\\x93\\xf0\\xda\\xb5n\\x8f\\xe2#w]\\x03b\\xb9\\xea\\xd7\\x1b7\\xbb\\x8a^\\x9a\\xe2c\\xb6q\\xec\\xd1\\xd4y\\xdc\\xc6{\\xec>&\\xb2\\xce\\xb8\\x83lF\\xa8\\xbbM\\xd3w$]l\\xd7\\x92\\xe4\\xc8\\xcf\\x87\\n\\x96\\x92\\xac\\xf3\\xb6\\xb0}\\xe0\\xa4\\x93\\xdf\\xb6+\\x1d\\x85:Wb\\x93\\xe76\\xbd\\xb4\\xe1{\\xbfK\\xfbOz/T\\x18)#\\xcb\\xf5\\xa0\\xfe\\x13\\x9dB\\xa0\\xbe\\t\\xf0\\xfd\\xe4\\xe7\\xdc\\xbaKI\\xf2\\xce\\xdf\\xfaT-\\xaa\\xd2\\xe5\\xf2\\xf7i\\xb6\\xc6ZZv\\xe5%\\xb8\\xa8Z\\xba%K8\\x04\\xfaT\\xbd\\xe1*w\\x80\\xba+\\x1f\\x82\\xf13\\x1f\\x95\\x13\\xb8#\\xc2km\\xfe\\xe1h\\xbcH\\xd6\\xf6u\\xbf\\x02Kr\\xd1m\\x89\\x95>T\\x93\\x9eU\\xf3\\xf2\\xe3\\xe4\\x0f\\xc6\\x88P\\xd46\\x9a\\x92g\\xb8\\xfe9m\\xa7\\x1c\\xeeU\\xea#2J\\xc6\\x8f\\xca\\xdf\\xda\\x13\\xbf\\xa3d\\xa9\\x1as\\x89\\x9a\\x97I]\\x92\\xa6%\\xc9\\x8e\\xa4-\\xa3\\xff\\x00\\xe4FY\\xcf\\xe6\\x85\\x12=1Z\\xa9)\\xa1w\\x12\\x9b\\xd3\\x1c:\\x90\\xf7\\x11\\xde\\xb0\\xfbE\\xfc\\xc9\\x8e\\xc2\\xe5\\xa4\\xab\\x08J\\x94\\x10\\xa76\\xd9>\\xe6A=\\xf0\\x05\\x16\\x14\\x10T\\x14\\xca\\x82\\xdbX\\nB\\x87E$\\x8c\\x83\\xf9\\x1a\\x1d,\\xfe\\x94zkZ\\xfa\\x1e\\xf0\\x05\\xec\\xa6\\x11\\xf4=K\\xff\\x00\\xa4\\x90Mv\\x10N)\\xcb,\\xa9\\xd5\\x04\\xa0\\x15(\\xf4\\x00u5S\\xd5\\\\O\\xd0\\xfa\\x1eK\\x915^\\xa9\\xb7\\xc0\\x9c\\xdf\\xf7\\x90\\xd0T\\xfb\\xe9\\xf8\\xa1\\xb0yO\\xa2\\x885\\r\\x97+2[$oK\\x86zmB\\xb8\\x1fI^\\x15\\xce\\n-\\xea\\x19\\x8c\\x84\\xab\\x94\\xa9\\xfbC\\xc8H\\xf5\\xc8\\x06\\x89\\xb6\\x0b\\xf5\\x9bU[M\\xc3K]\\xe1^a$\\xf2\\xad\\xd8\\x8e\\xf3\\xf2\\x1f%\\xa4\\xe1I>\\x84\\n[\\x14\\x97\\x05(Z\\x18\\xe9_\\n;\\xf4\\xa7$o\\xf2\\xaf\\xde\\x1eE\"T\\xdd(\\x1b\\xd7\\xd2\\xde\\xe7l\\xd3\\xa4\\xb01\\xd3\\x7fZ\\xfb\\xe1dt\\xae\\\\\\x98\\x11\\xbfJ\\xe9 \\xe4\\xe0o\\xde\\x9d)\\x9c\\xff\\x00JL7\\xbd6\\xc9\\x12\\\\\\x9b\\xfe\\xd4\\xaaRH\\x19\\x14\\xa2\\x11\\xcc1\\xde\\x96C|\\xa3\\xce\\x9c\\xb96-\\xec6\\xc8\\xaf\\xc1$|)\\xc1\\xc6\\xe6\\xbf\\x006\\xda\\xb9\"\\xf3V\\x1d\\xdad[U\\xce\\xd3\\x19~\\x1cK\\xa2\\xd9\\\\\\xa1\\xdd~\\x11%#\\xe1\\x93L|$\\x85\\x8c\\xf5\\xf8\\xd2\\x9fs\\xdf#\\x1c\\xa8*\\xc7\\x95\\'\\x17\\x99\\xe6\\xd0\\xeb\\x9f\\x8bq^\\x86\\xc6\\xb4^\\xc3\\x7f\\xf4\\x83\\x12l\\xba} $z\\xd4p@m\\x84\\xa3\\x1bl\\x05HJV\\x061\\xb8\\xce*:ZV\\x96\\xd8)\\x05YX+ g\\x18\\xa7\\x94\\x81G\\xc0\\x1c\\x90\\xee\\n\\xf3ug\\xf5\\xa4\\xa2\\x00\"MX#t\\x9f\\xd8\\xd7m\\x1eK\\\\\\xa5y\\xb8\\xac\\x9f\\x9d\\x1e pbG\\x10\\xb8\\x1f\\xa3.\\xba23#P\\xa5\\xe7\\xa1\\xcaB\\x96\\x1aK\\xec\\x97U\\x87\\x14Oty\\xff\\x00\\t\\xefB\\xe6\\x9d\\x94\\xc1\\xa5\\xfa\\x03\\xa7\\x9a\\xb0\\xc8\\xdd%\\xc3P\\x0e0\\t\\xb0\\xa4\\x9cl\\xa1R\\xec\\xa7\\x01\\xb0\\x7f\\xd4\\nSU\\xe9\\xc74\\x9c\\xa9\\xd6\\x17f19\\xd8O!\\xb7\\x1e\\x8f\\x9eB\\xacd\\x81\\x9d\\xf6\\'\\x15)q\\xb0\\xcd\\xb6Zl7\\xa9(O\\xb0\\xde\\x19xGROE4\\xb0\\x95$\\xf9\\x1d\\xc1\\xf8U\\xa8dfV\\xeb\\xb8\\x16\\xed\\xd2\\xfeJ74\\xdc\\xf6*\\xdc\\xed\\xaeK\\xed\\x96\\x93Oe\\x1f\\xf46\\x95\\x8f\\xbaE2\\xb8}\\xa4\\xb0\\xe23\\xca\\xa4\\x14\\x83\\xe6E;S\\x81\\xcbb<\\xc6\\xc6\\xad\\xc6t*3\\xc1\\x10\\xf8Qr\\x93p\\x97\\x7f\\xf6\\xb7\\x8a\\xd1\\x07JKb*{6\\xd89\\xc0\\xf9\\x92~t4\\xb7\\xb6\\x11\\x19.\\xa7bF\\xe7\\xe5D.\\r \\x9b\\x9e\\xa4o9.i\\xb9\\xa0\\x0f\\xf7A\\xaa\\x04\"\\r\\xb1\\x19\\xfe\\x1a\\xceR\\x801\\x1a\\x9093\\xc9\\xc8\\x84\\xba\\xd3F{]\\xf0W=N}\\x9b\\x83\\x1c:\\x8e3\\x97\\x9f\\x9c\\xf1\\x1f\\xfe\\xcc\\x7fZ[\\x84\\xb3\\xa0\\xda\\xf8\\x8f\\xa6\\xa7\\xde\\xddDkd\\x19\\n\\x93!\\xe5u\\tCj8\\x1e\\xa4\\xec\\x07\\xad|\\xd6\\x89\\x1f\\xf8g\\xc2\\xf4\\'t\\x96f\\x93\\xfeo\\x14f\\xaa\\x08A8?\\x03Q\\xe1l\\x12Q\\xc8\\xdf\\xcc\\xf9G\\x8c\\x8f\\t\\xd5N\\xcb3O \\xcf\\xda\\xd4_\\x9f\\xf4\\x82\\xd4W\\xcb\\x8d\\xfe=\\xf9\\x88\\xd7=-{.#\\xea\\x99-\\x84\\xf8\\r\\x1d\\x92\\x10\\xe2w\\n\\x03\\x07;\\xefZ_\\x81\\x9a\\x81:\\xa7\\x85\\xd6)\\x0bZ\\x96\\xfc\\x04\\xaa\\xdc\\xff\\x00:\\xb2\\xac\\xb2yS\\x9fR\\x8e]\\xfb\\xd6\\x14(\\x0e\\x03\\xbe\\xe0\\xe4Q\\x9b\\x80\\xfcY\\xb7\\xf0\\xbe\\x16\\xae\\x1a\\x99\\xfc\\xdb]\\x8e\\xd4\\xa8\\x8c\\xe4\\xe5r\\x92\\xa0\\x82\\x90w\\xc6Prv\\xfc4\\xea\\xea8`\\xa6.\\x8d\\xb6\\xb7/\\r\\xb9\\xfb\\xcadS>I\\x00q\\xbd\\xd1\\x87\\xe93\\xaen\\xda?LX,\\xbaz\\xe0\\x9b,\\xddO%\\xe4=p.\\x96\\xcch\\x8dr\\x05\\x9ed\\xe5H\\x05N$\\x15\\x00O*T\\x06\\xf5Z\\xd0\\xdc&\\xe1\\xa5\\xa7H\\xa5\\xe9:7\\\\j\\xd3q\\xf0T\\xce\\xb5\\xb7!\\xb8\\xcabZ\\x9fJ\\x1b\\xf6X\\xce\\xba\\x97\\x1bO:\\xd0B\\x9dAR\\xf2T\\xa1\\xc9\\xb8\\x07\\xf1O\\x8as8\\xb9\\xa9\\xa0\\xdefCz\\xde\\xc3\\x16\\xc1\\x12#%\\x9eD\\xf8%\\xd5\\xa8\\xad\\x1dr\\tQ\\x1c\\xc4\\x92Jz\\xf6\\xad\\xb3\\xc1\\x1b\\x93\\xd6\\x9d\\x1d\\xa5ej9\\x12\\xed0\\xe5X`\\xa7\\xebt%,\\xa5N:\\xb5\\x00\\x8f\\x08\\x07\\x12yP\\x98\\xe9[\\xcb\\xc6\\n\\x80\\xe6\\x19)\\x19\\x1a\\x8a\\x87\\xc4\"\\xb6\\x99\\x8d\\x8d\\xff\\x00\\xde\\xff\\x00VW\\x83\\x03\\xdc\\xedom\\x92\\x1a\\xa7Jii\\xba\\x92\\xc5t\\xfe\\xc2\\xea^)j\\x18\\xf67,\\xb0\\xa3\\xdc\\x9c\\x8c\\xd4\\x00\\xb8\\x8b\\xc3\\xce\\xc8q\\\\\\xa9\\x0e\\xa9O\\x1c9\\xca\\xa4\\xaf\\x04\\xb6\\x0e\\xc6\\xb36\\xb7\\xb9@\\xe0\\xbf\\x13\\x9b\\xbch\\x0bT\\xfd-q\\x85\\xc8\\xed\\xce\\xc6\\xa9\\xed\\xcc\\x82\\xe4u{\\xc5\\xb6\\xa4$\\xf3\\xa9\\xb5\\xa4\\x10[q\\x00\\xa1XR\\x0e0\\x06\\xed\\xd7\\xb6\\xe2\\xcd\\xae\\xe1e`\\xdf\\xb5e\\xcetb\\xf30_u\\xc6\\x98p!H>\\x1f\\xb46\\x84\\xa1\\x95\\x9ce\\x1c\\xcbNOS\\x8c\\xd7\\x9e|tusx\\xa1\\xae\\x1az\\xf5*xns\\x91\\x83\\xb2\\x90\\xcf\\x88P\\x84\\x84\\xe3\\xec\\xd2\\x94\\xe1\\'\\x98\\x02\\x00\\xcfS\\x92k\\xa1\\x99\\xe6\\xac\\xc4\\x08\\xb0n\\xbd\\xf7\\x1f_E5\\xcd\\x1d\\x1e~7^\\x947\\xa1\\xadw8\\x8cM\\xb3\\xce\\x90\\xd3\\x12[K\\xad\\x15\\x00\\xe2J\\x14\\x01\\x18\\xce\\x0fC\\xe7P\\xf7\\r\\x17t\\x81\\x954\\x84Mho\\x96\\xb6W\\xcd\\'\\xfaf\\x80\\xfa{\\xe9\\xb1\\x1fL\\xc9:w\\x88:>U\\x86U\\xac&+\\xac\\xc7W\\x8cZ(@\\xd9@{\\xc9\\xed\\xb7.\\x06z\\xed\\xb9\\xe3M\\xf1\\xe7Ak\\xd8\\x1c\\xdagP\\xc7zB\\xf6K<\\xf8p+\\x1d\\x08\\xec}\\x0e3\\xda\\x9ejX\\x07X\\x16\\xf7\\xec{\\x8e\\xa0\\xfb\\nV\\xc7!\\xdb^\\xef\\x96\\xea\\x11#\\x19J\\x81J\\x81\\xdc\\x11\\x82\\x0f\\xc2\\xb9P\\xf3\\xe9_n\\x97\\xc4;<\\xfd`\\x82\\xcb\\xa4\\xf2\\x97\\x08\\xc6~5\\xd2\\x9b#\\x04n\\x926#\\xbdN\\xc7\\x89\\x05\\xc2s\\x98ZuH\\x9e\\x95\\xf0\\xa7\\x98t\\xa5\\x127\\xa5<1\\x8e\\x84S\\x93\\x13|``m\\x8a\\xfd\\x9d\\xbeT\\xe1L\\xe4\\xec)4\\xb0H\\xe9\\x9cW$I`u\\x15\\xf7\\xcfo\\xfbR\\xe9\\x8f\\x91\\x9e\\xff\\x00\\n\\xec43\\xb0\\xc6Gjr\\xe5\\xe6~\\xb5\\xd3\\xd7M\\x1bq\\x9dh\\xbf1\\xe0\\xcaB=\\xc5\\x8d\\xd2\\xf2;-\\x07\\xb8?\\xa5G%B;1\\x90@\\xe8\\x01\\xf4\\xda\\xb6o\\x10te\\xb7\\x88v\\x1fa\\xbd!1d\\xb3\\x95\\xc4\\x96\\x84\\xe5l\\xb9\\xdb~\\xe9=\\xc5d;\\xfe\\x9a\\xb9\\xe9}B\\xbbV\\xa1d1&:\\tI\\x1fu\\xf4\\x9e\\x8bA\\xee\\x9f\\xdb\\xa5j\\xb0\\xfa\\xf1R2\\xbbG\\x0fz\\xa7SLc\\xeb\\r\\x94L\\xc5m\\xb5X8~R\\xfe\\xb1\\xb6\\xc3r?\\xb5E\\x92\\x87\\x9b\\x98\\x82\\x9c\\xa44PwQ\\xec2\\x06\\xf5^\\x9c\\x93\\x84\\xa6\\xa7!q^~\\x92\\xb6\\xdb\\xed6\\xfbm\\xa1\\x98\\x8e<\\x95I}Q\\x8a\\xdepsnT\\xa2w\\xdb\\xa6\\xdbU\\xacA\\xcf\\xf4g\\x06\\x0b\\x92-\\xbd\\xad\\xda\\xab\\xc0\\x1b\\xd2\\x02\\xe3\\xa2\\x86\\x90\\xe5\\xa3K_\\xe7xv\\xe4_m\\x10g(5\\x1aK\\xa5!\\xd0\\x0e\\xdc\\xc5=p\\x7f<V\\xc5\\xd2\\\\k\\xb3L\\xe1D\\xbd[x\\xb5\\x1b,Kt\\xc4[\\x9b\\x89\\x15a\\xd2V\\xa09y\\x06\\x00\\xe8zc\\xa0\\xacM\\xa8\\xdfL\\xc9\\x179\\r\\x1ef\\xdf\\x98\\xb7\\x12q\\x8c\\xa4\\xa8\\x91\\xfab\\xac\\r_\\xa5\\xbb\\xa6#\\xe9\\xc4\\xe16\\xf6\\xae&\\xe0\\xbc\\x1d\\xd6\\xe9l g\\xd0\\x00\\x7f:\\xa1=\\x00\\xably\\xf7\\x16\\xb9\\xbf\\x0e=\\x97\\xf6+\\x11\\xcea.\\xb6\\xda\\xff\\x00\\t\\xc9\\xd3\\xd1\\xf5\\xd6\\xb4\\x9b\\x03EM`\\xc4\\x991O2\\xfd\\xcd\\xe0\\xc1\\xf7\\x8eU\\x9em\\xc9\\n\\'a\\xbdl\\x1bG\\x04\\xec\\xc9\\xd0ZsK\\xebF\\xd1{f\\xd0\\xf2\\xa5\\xf8\\x8c\\x854\\x0b\\x8aQ8\\xd8\\xe4\\xa4\\x83\\x823\\xbe\\xd5\\x80R\\x94\\xae\\nB\\xc76_#\\xfej\\xd2M\\xf1v\\xef\\xa1\\xf8Y\\xa1\\xad\\x1aVrY\\xbc\\xba\\xa7\\xe6\\xcd[\\x89\\x0fr\\xb0\\x1cR[iA^{\\x9cy\\n\\xaf]KQ#bd\\x0f\\xe4\\x07\\xb0\\x1do\\xfcqRS\\xc9\\x1bK\\x8b\\xc7\\xd5\\xc6\\x96B\\xee/j\\x96u&\\xb0X\\x81\\x05\\x16{=\\xb0\\xb9\\n\\x04\\x04\\xb2\\x19\\xf0P\\x93\\x82T\\x9f\\xe2Q\\x199\\xf4\\xab\\x86\\x89\\xe1\\x93\\xda\\xdb\\x81\\xb3\\xe5ZZh^\\xd9\\xd4\\x1c\\xd1\\x94\\xe9\\xe4\\x0e3\\xc8\\x94\\xa9<\\xc7\\xb6\\xf9\\xf8\\x8a\\xa4\\xeb\\xfdt\\xf6\\xa2\\xd51u*m\\xb0\\xa1^\\x1cF&\\x04\\xb4\\x1c\\x8e\\xfa\\xc0\\xc0s\\xc3WE\\x11\\xd7\\xe1\\x9a\\xd1\\xba\\x0f\\x89p\\x17\\xc1\\x887\\xadv\\xfb\\x16f$\\\\\\xfe\\xaf\\x8c\\xa8\\xad\\x10\\x92\\xa4\\x9d\\xdc\\xe5\\x1d\\x00\\xdf>T\\xb5RTSSF\\xd8\\x99cq\\xc6\\xfa\\xf2\\xb7\\x1b\\xf3]\\x13c\\x96W\\x17\\x1d5\\xfa\\xecB\\x8d\\x0b\\xa7[\\xd2\\xfcA\\xbc\\xd8\\xc5\\xcd\\x8b\\x9c\\xa6\\xac\\x13\\x1b\\x92\\xe4t\\x10\\xd2\\x1d-\\xe4\\xa1$\\xee\\xacw;P\\x82\\xd6\\x9e{h\\xeb\\x8eZ,\\xe8\\x0b*\\xb4\\xf7\\x19%\\xda\\x979\\xa9\\xcd\\xbd\\x0ej\\xa3Nm\\xc0\\xe2%6\\xe3EHp(u\\xc8;\\xfa\\xe6\\x846\\xc7\\xd4\\xc4\\x0e^U)x#\\x00f\\x9bF\\xeb\\xe2\\x13k{\\xb23~z\\xc9\\xf2N\\x98\\x7f\\xc7f\\x96\\xeb;\\xfe\\xa8\\x93|\\x80\\xfd\\xdb\\x86|3n\\xde\\xca\\x9e\\x90fM\\x88\\x84\\xa7\\xaa\\x96T\\x08\\x15G\\xca\\xb0S\\xb8P$\\x10{\\x11\\xb5\\x1d4\\x0e\\x90\\xbeM\\xd2<?S\\xb1\\x93\\r\\xebV\\xa4U\\xc1^3\\x80\\xe62\\xb7\\x04\\x01\\x9d\\xc9\\xedV>%\\xf0\\xc7A\\xe8\\xa7/Z\\xd3P\\xc8\\x9917\\x19\\x05v\\xeb\\x1bj\\x0c\\xa1rV2RH\\xf7\\x8a3\\x95\\x1e\\x98\\x15C\\r\\xc4c\\x89\\xf2@E\\xfa\\xf2Z\\xda\\xdc\\x99\\x1cm\\xefST\\xd39\\xe1\\xb2\\r:\\xad\\xdf\\xb1\\xa0|\\x16lR\\xbd\\x92#\\xaf\\xafp\\xda\\n\\x8e{\\x9e\\xdf\\xadHp\\xea\\xf5i\\x93\\xa8\\xa1\\xca\\xd5Z}\\x17\\xe6b\\x92\\xe3p\\xd2\\xf2R\\xdb\\xc7\\x95\\\\\\xcd\\xa9\\xb5\\x05\\x05\\x95\\x02\\x00\\xdc\\x14\\x90\\x0e\\x0e\\xe0\\xc0_\\xe6\\x13os!\\r{C\\xb8\\xe5F\\xc9H\\xceH\\x1e\\x9bUM\\xd9\\xcaO \\x8e\\xa54RB\\xb2\\x93\\x83\\x91\\xd0\\xe7\\xd3\\xb5\\x10\\xc5\\x1f\\xd2}\\xc96\\x04kco%F\\x0e\\xa9\\xce\\xb5\\xed\\x93Up\\x89\\xb1m\\x81\\xc4\\x0e\\x1e\\xb9\\x01\\xc4\\xa6Lg\\x8c\\x99\\x12%1jaN\\x07Dx\\xed\\xa5kqn\\x05/\\x9f\\x9f\\r\\x04\\x97\\x1c\\xe5\\xfe\\n_V\\xf1kL-\\x96 p\\xafPq\\x0bL@e\\xb0\\xcf\\xb3\\xa1\\xf6\\x93\\x104\\x91\\xca\\x12\\x86\\xc2\\xc3\\xa9\\xcf*NJ\\xfb\\x9d\\xb2Md\\x81\\xa9\\xe5-\\xc4\\xbb-\\x88\\xb2\\xddJy|G\\x1b\\xc2\\x88\\xcfr\\x923\\xf14\\xb8\\xd5\\x04\\x1es\\x19\\xce\\x7fI\\x8e%?\\x0c\\x026\\xf9\\xd6N<:&\\xb8=\\xce$\\x8e\\x04\\xdcx\\x1b\\xf9\\xa2\\x06\\xa0\\x9b\\x86\\x8b}v-/\\xa15\\xfd\\x8a\\xc6\\xda\\xda\\xd6\\x125\\x9d\\xee9%\\xe1\\n%\\xf5P\\xe2\\x87\\x82H\\x05H*\\xca\\xf2\\x0e\\n\\x8a\\x80\\xc1\\xdd\\x07\\x02\\x897>*\\xf0\\xd7RjHPl\\x1c=\\xb1\\xcf\\x875\\xd7e8\\xab\\x95\\xbf\\xd9\\xe5\\xb58\\x90\\xaep\\xf3~(w\\x9b\\x99xJ\\x92\\x90\\x14\\x13\\x93\\x8cV\\x1e\\x1a\\xb6sk\\xe7\\x8e\\xdbM,\\x1c\\x82V\\xe3\\x98\\xf9-DSY\\x1a\\x8e\\xed)*K\\x93\\x9eJ\\x15\\xd5\\r\\x1f\\r\\'\\xe4\\x9cS\\xe6\\xa0\\x82W\\x97\\xdc\\x83\\xd8l\\x9a\\xd9\\xdc\\xd0\\x06\\xebc_\\xb8\\xd5\\x07G2t\\xa6\\xb0\\xb6h[\\xee\\x93\\xb81\\xcf8iI\\xee\\xb12X?\\xdd\\xfbIH\\x04\\xb9\\x8f\\xbe\\x95\\x81\\xccTI#ps\\xf6\\xb4\\xe25\\xa2\\xef\\xaa\\xcd\\xe7L\\xd9ci\\x96Yi\\x0c\\xc3\\x85h\\xf7\\x10\\xcaS\\x93\\xef,\\x04\\x85\\xa8\\x92I*\\n\\xce\\xc3\\xa0\\x02\\x84\\xd9\\xc1\\xc9\\xae\\xd2\\xe7\\x9dIOG\\x04\\x04\\x905;\\xeal}\\x97\\xb2k\\xe7s\\x91\\xc27\\xd2{\\x8aL\\xa9\\xbf\\x07U\\xdcdGBB\\x04y\\x89a\\xf6\\xc8\\x1d\\x8a\\x0b{\\x8f\\x9e}k`}\\x1c\\xb8\\xd0\\xc7\\x17\\xf4\\xfd\\xc6\\x14\\xf8\\xcd[\\xb5\\x1d\\x97\\x95r#\\xb4\\xa2[z:\\xce\\x12\\xeb`\\xee\\x00W\\xba\\xa4\\xe4\\xf2\\x95\\'}\\xf0<\\xd9iy\\x1b\\xfe\\xd4K\\xe0\\x9f\\x12\\x1e\\xe1_\\x10-:\\xa1)S\\x90\\xd8Q\\x8fse=_\\x84\\xe7\\xba\\xea}H\\x1e\\xf0\\xfed\\x8a\\xb9\\xd1\\xb0l,\\x9a$q\\xdc\\xafO<\\x1c\\x13\\x9d\\xb7\\xae\\xc2v;d\\xfa\\xd3\\xb7Ym./\\xc2q.\\xb6wmi\\xe8\\xb4\\x9d\\xc2\\x87\\xc4\\x10k\\x8eN^\\x9b\\xd4\\nD\\x8f\\x87\\xe9_y7\\xae\\xfam\\xde\\xbe\\x8d\\x88\\xee)W.y6\\xf2\\xcd&[;S\\x81\\x82\\x0e<\\xfa\\xd2\\x81\\x04\\x8f\"7\\xa7\\x04\\x887,\\x8eL,\\x03\\xefw\\xaa\\x8f\\x11\\xb45\\xbb]\\xda\\xdd\\x8f/1\\xe5\\xc6G<)i\\x19SJ\\xf2\\xf5I\\xee*\\xd1=\\xd4\\xa9\\x00\\xe7rF=i\\to}\\x82\\xc1NJ\\xc6\\rU\\x8d\\xe5\\x849\\xa6\\xc4#B \\xe1b\\xb0\\xde\\xa2\\xb5\\xcf\\xd3\\xf3\\xdc\\xb7^X1\\xe60\\xbf\\x7f\\xbaV\\x93\\xd1i=\\xc1\\xaa^\\xa0p\\xb9*;~H\\x1d\\xfc\\xcdm\\x9e&p\\xed\\xad{bm\\xb8\\xc1\\r^b\\x82\\xb8o\\x11\\x8ec\\x8d\\xdbQ\\xf2?\\xa1\\xde\\xb1E\\xde+\\xf1\\xb5\\x1f\\xb2Na\\xc8\\xf2Xt4\\xebN\\x0c)\\n\\x07pEjc\\xad\\x15pX\\xfa\\xd7\\x00\\xf8\\xee\\x80\\xd4\\xd3z;\\xee6R\\xb3Q\\x88+\\xfc\\xeaF\\x19)\\n=\\xf0?j\\x96\\xd1Z}\\xbdi\\xaa-\\x1ai\\xf7\\xfd\\x95\\x179+g\\xc6\\x03t\\x1eE\\x10~\\x19\\x02\\xa4\\xa0p\\xe3R\\xbdx\\xbd\\xdb\\r\\xbc\\xb4\\xab\\x1a\\xdc\\x179N\\x1eF#\\x84\\x8c\\xf3\\x15\\x9d\\x8eF\\x08\\x03s\\x91E\\x8dDQ\\xbc\\xb5\\xce\\xb1\\x00\\x1fe\\xec\\xa8\\x069\\xc2\\xe0!\\xc4c\\xfe\\x86\\x83\\x8e\\x8f\\x93\\x8f\\x9dY\\xd8\\xca\\x9cp\\xa8\\xe4\\xec\\x06{mU\\xe8Q\\x9c\\\\\\x04>\\x86\\xd6\\xa8\\xa6_\\x85\\xe2\\xf2\\x9e^l\\x93\\xcb\\x9f<o\\x8a\\x9e\\xf1\\x03hR\\xc9\\xdb\\xc4\\xebVa#*\\x8d\\xca&\\xff\\x00\\xf7\\xd8\\xdf\\xce\\xa5\\x95u\\x95?H\\xda\\xedo\\xbb\\x98V\\xc4<c46\\tS\\x8a\\xe6Z\\x8f\\x99=>\\x02\\xa1\\xaf\\xea\\xcf\\xb3\\x11\\xe6jF\\xd8\\x02\\xadH\\x1ei\\xc6\\xf4\\xe65\\xaeq$m\\xf2\\\\I\\x01Z8\\x16\\xbf\\xfe\\xa5\\xd9\\x92\\x06\\xde\\x0c\\x94c\\xc8xJ\\xaa\\x95\\xa4r\\xc7tg8qc\\xf55o\\xe0r<>([\\x92\\xae\\xbe\\x0c\\xacm\\xd3\\xec\\x95TxO\\x86!\\xb8N\\xe7\\xc4_\\xcfsY\\xf8\\x8f\\xf5i\\xbf\\xf1\\xc7\\xfb\\xa5D\\x1d\\xfd\\xa3?S\\xbc\\x9a\\x8e\\xfc\\x14\\xba\\xb7\\x0bG\\t\\xb3&*\\x15\\xba\\xd9\\xa8^zb\\xb9\\xb0\\x14\\xca#\\xf3\\x94\\x9fL\\xe3o<S]Q\\xc78\\\\U\\xd3\\x17+6\\xb0\\xb2&\\x0f+\\xa6E\\x9at_yl\\xa9\\'\\xdcK\\xa9\\xf5O\\xbaH\\xf3\\xe9Th\\xa5C\\xe8\\xfbq$\\xf2\\x95\\xead\\x15\\x01\\xb70-\\xf4?\\x95S\\xe1\\xe1-\\x00\\xad\\x81\\xda\\x87\\xe1\\x94q\\xcd<\\xf2\\xbfq!\\xb7f\\xc7\\xe2\\xacT\\xcc\\xe6G\\x1bF\\xd9~j\\x1fQ\\xbf\\xe23\\x18$\\xe4\\x05+8=\\xf0)\\xee\\x89\\xe1\\xed\\xd7Z\\xdd\\x04h\\xcd\\x98\\xd1\\x92\\x80\\xeb\\xd2\\x1cN\\xc8A\\xe8@\\xeeOaR(\\xb4\\xc5\\x92\\x95\\x16\"\\xaaZ\\xa3+\\xc6-\\xa7\\x7f\\x13\\x1dR}?}\\xa8\\xe3\\xc2\\xf6\\xa4\\xdb\\xed\\xee\\xad\\\\\\xae\\\\e\\xa4<\\xf1)\\xcf\\xbcrq\\x8f!\\xd0|*\\x1cbS\\x14\\xce-\\xdfD\\x94P\\x89\\x08\\xcc4Q\\x16\\xef\\xa3\\x85\\xa1i\\x01\\xfb\\x84\\xa7W\\xdf $S\\x97~\\x8c\\xf6\\xdf\\xf0g<\\x95g\\xee\\x93\\xbe(\\x95\\x02\\xff\\x00!\\xb9\\x1c\\xb3\\xddq\\xa2\\x0f\\xdc\\xf0\\xd2\\x12\\x7f\\xf7\\xf1\\xab\\xa4K\\x8ci\\x86?\\x84<D\\xa8\\x94\\x85c`\\xaf*\\xcb\\xf4\\xd2qr\\xd3\\xb2\\x08\\x1d\\xa0b\\x05\\xc4\\xfa2[y\\x90^\\x92\\xf3\\xa8>G\\x19\\xa9\\xb6\\xfe\\x8e\\x96\\x06\\x12\\x90\\xb8NH?\\x88\\xe4\\xd1.\\xed%\\xcbcE%KJB\\xbe\\xcd)\\xdc\\x9e\\xf4>wW\\xbb\\x1eqD\\x99*\\x86\\xd8V\\xfe#\\x84\\xe4|\\x07\\xedI\\xd2=\\xfa\\\\\\xa5{!\\x8f\\xf0\\x85\\tq\\xfa<\\xe9\\x97\\x18W+R\"\\xa8m\\xce\\xdb\\xd9\\xdf\\xe7CMI\\xf4v\\xbaA*^\\x9e\\x9c\\xcc\\xf4\\x83\\xfd\\xd3\\xdff\\xb1\\xf3\\xe8\\x7fJ\\xd1vmEa\\xbc\\xbc\\x98\\xd6\\xdb\\x9a=\\xb4\\xecYB\\x17\\xcc\\xb3\\xe8\\x9c\\x12v\\xeb\\x8a\\xed\\x89qnO\\xae;3\\xa3\\x19ADxA\\xc1\\xcc~\\x00\\xeejF\\xcb<G[\\xfbUWEM8\\xb0\\xb5\\xfb\\x08X\\x8a\\xf3\\xa7.\\xda]\\xf0\\xd5\\xea\\x1b\\x91T\\xa2@$lH\\xea3\\xe7I\\xb0\\xbc\\xb2\\xe2A\\xfb\\xe8Rq\\xf2\\xadq\\xaclQ/\\xe8z\\xd9s\\x8e\\x95)\\xc4s\\'\\x98u\\xc7q\\xdf5\\x97\\xae\\x9am\\xfb\\x15\\xd9\\xd8\\xef\\xb6\\xf3,!G\\ny\\x07\\x18\\xce2\\x0fq\\xebE\\xe0\\xa8\\x12\\x0b\\x1d\\xd0)\\xa01;M\\x97\\xaa\\xbc5\\x9d\\xf5\\xb7\\r4<\\xf2K\\x8a\\x93\\xa7m\\xebR\\x89\\xea\\xa1\\x1d\\tW\\xfc\\xc95g\\xe4\\xd8mTN\\x006\\xe1\\xe0o\\x0eC\\xe1A\\x7fQ\\xb5\\xd4o\\xcb\\xe29\\xcb\\xfab\\x88\\xe1\\x91\\x80qO;\\xa6\\x03\\xa2d\\xa6\\x87\\x97\\xc6\\x92()\\xdf\\x15$\\xa6\\xc6v\\xdbm\\xe9\\x057\\xb5r[\\xa6\\x99\\x00\\x11\\x8c\\x1a\\xfaVq\\xd2\\x95q\\xbd\\xf6\\xa4\\x8aq\\x90?jT\\x97A\\x17\\xc1\\x0c\\xb2\\x95c9\\xcf\\xce\\x91\\x99\\x80\\xc8\\xf55\\xd2\\x94\\xa5E\\x85\\xe2c\\x98\\xaf\\x07\\x14\\x9c\\xcd\\x9b\\xf3\\xf7\\xaa\\x88Z\\x80\\x17i\\xdb\\xc2\\xc1\\xc1\\x00\\x1a\\xcd\\xdc{\\xd2\\xac\\\\\\xaf\\xad\\xdeb6\\x86\\xa7CB\\x97)Co\\x19\\xb4\\x9d\\x89\\xf3P\\xfd\\xabI\\x009\\x93\\x8d\\x81;zm@\\xae-+\\xec\\xb5\\x1a\\xfa\\x84\\xc3\\xe5\\x1f5\\n|/-\\x9d\\x96\\xe6<\\xd4\\x13\\xb1\\xaf\\x8d\\xe1\\xdc\\x8a\\xaf\\xf0.\\xd3\\xa2\\x18\\xbbZo\\x9a\\x87V4\\xd5\\xfd\\x899\\x87mZV\\xd2P\\xe1\\xd9$\\xab\\x1e\\xf9\\xdf`\\x08\\x1b\\xd1\\xeb\\x8e\\x96\\x8b\\xed\\xe3\\x87\\x97X\\xbaa\\xe6d8\\xcb\\x88\\x93q\\x8a\\xd1\\xcb\\xce\\xb0\\x072\\x93\\xca7\\xe6\\xd8\\x1d\\xfa\\x81\\x8a\\xc3\\xf6\\xe9\\x89\\x81u\\xb4It\\xfd\\x9cy\\xcd<\\xbco\\xee\\xa5@\\x9f\\xda\\xad\\x1a\\xb7[\\xce\\xbck+\\xf6\\xab\\xb7\\xcc\\x95\\nD\\xd9\\x0bq\\xa7\\x19t\\xb6\\xa4\\xb6=\\xd4\\r\\x8f\\xf0\\x81\\xb7\\xadi\\xa6\\xa0\\x92J\\xc10}\\xed\\xae\\xa3M\\x0e\\x83Kh\\xb3q\\xd45\\x90\\x96\\x11\\xbf/4R\\xe0W\\x0fN\\xb3\\xe0\\xc6\\xa5\\xb7\\xdd\\xda0[\\xb9\\xdc\\x84\\x9b\\\\\\xc7\\x13\\xb0u\\xa4\\xe0,w\\xe5\\n\\xcaO\\xc4\\xd5/\\x8bZgO\\xe8\\x01k\\xd3\\x96\\xb9/]o\\xdc\\xe9~\\xe95g\\x95\\r\\xe4{\\xad!\\x03\\xa6z\\x9c\\xe4\\xe3\\x15g\\xe0?\\x14di>\\x19j\\x89\\xb7\\xd4\\xa6\\xeb\\x12\\xdb)\\xa6\\xed\\xf1\\x1d_)[\\xaf)EI\\n\\xeb\\x8e\\xaa\\xf4\\xaa7\\x195\\x1e\\x9b\\xd5\\xfa\\x82\\xdd}\\xd3\\x08~\\x0c\\xa9\\xbb\\\\\\xe0>\\x9d\\xd2\\xea@\\x01\\xc4\\xa8l\\xa0\\xa1\\xb7\\xca\\xa2\\xa25\"\\xa9\\xc5\\xd7\\xc9~\\x1b^\\xc2\\xd7\\xe3\\xb7\\xb2\\xe9\\xd2\\xf4]\\x03m\\xeb|.~>\\xe5F\\x9f\\x11\\xf9\\xef\\xb1\\x1e#Jy\\xec8\\xb0\\x84\\xf5!)*8\\xf3\\xd8\\x1d\\xaa[\\xeaK\\xcd\\xafHF\\xbc\\xcd\\x86aA\\x90\\xb0\\xd4e\\xbeBT\\xf1\\xeb\\x94\\xa3\\xa9\\x00w\\xa6\\xf6\\x99\\x88\\x85\\xabm/>\\xe8a\\xb6\\x94\\xe1S\\x84\\xe0\\x01\\xc8w\\xa9\\xee$9s\\x9e\\xdd\\x86[\\xd2\\x9b\\x99d\\\\P\\xd4\\x02\\xca\\xb2\\x86\\xd4>\\xfaO\\xf3\\x1e\\xb9\\xf2\\xf8QsT\\xf1Z \\x16\\x00\\x8b\\xdf\\xe0;\\x7f\\x95HF\\xd3\\x16t\\xeb\\x81\\xce/\\xff\\x00\\x12\\xad\\xae\\xba\\xb0T\\x98\\xd2\\xd4I=~\\xc4\\xd5\\x02\\xdc<x\\x89\\n\\xd8eD\\xfef\\xaf<\\x17_/\\x12 a<\\xc0F\\x96\\x0f\\xa0\\xf0U\\xbdQm\\x0b-\\xc2\\'\\xa8\\x04\\xf6\\xf5\\xa1\\xd1\\x1f\\xea\\xd3~\\x88\\xff\\x00t\\x8a\\xd3\\xbf\\xb4g\\xeaw\\x93U\\xf2B\\xc3\\\\\\ru\\'d\\xafS\\xa0g\\xe0\\xc9\\xcdV-P\\x1d\\xb8\\xb6\\x85\\xb8\\x0b,\\x01\\xd4\\xf5W\\xc0U\\xb01\\xe3pr\\xce\\x89)!.\\xea\\'\\xdf\\x00\\xf4P\\r\\xe3\\xf2\\xde\\x9a\\xc3\\x1e\\xe2\\xbe@Vm\\xb8\\x9b\\xe03\\xb6\\x1d\\xcb\\xdd\\xaf.\\x1f\\x05\\xbb\\xc1\\xb0\\x08\\xeb\\xccsT\\xfa\\xa0\\x0b\\x0e|u\\xec\\xf3\\xf3\\x99\\xb4F6h\\x8b\\x91\\x1a\\'\\xb4\\xa5 \\xf3!\\x0e\\xf2/\\x03\\xb88P\\xc6q\\x9c\\x83W\\x1b<ae\\x84.\\x17\\x8b\\x9c\\xc5\\xe4\\x8fib\\xde\\xe8\\x8e\\x90\\x07T\\x85`\\x9d\\x86F\\x7fLUB=\\xdd\\xfbR\\xdbr2\\x1b_)\\x1c\\xfc\\xe3\\xefz\\x7fJ L\\xd3\\x8c\\xdf\\x9e\\xb6\\xa5\\x87\\x8bQ\\'(8\\xb0\\x9e\\xa5\\x04g\\x1e]\\xf1B\\x9d;\\x88\\xd7~\\'\\x89V\\xb1\\xbc5\\xd0\\xd4\\x89\\x07\\xa8E\\x80\\xe0\\xdbp\\x03\\x87\\x03\\xdfuV\\xd4Z\\xcfIF\\x91m\\xb8Zl\\xf7\\xe8\\xd2\\x1dqAK~\\xe2\\xd4\\xa1\\xe1\\x92@)\\xcbi\\xf9\\xf3|\\x8d\\x14t%\\xf1\\x87\\xa27\"\\xcf\\xe3\\\\\\x98\\x96O\\xd9-\\x92\\x85\\xa1\\xd4\\x1d\\xc1H\\xfb\\xa7\\xf4\\xa9f4\\xd5\\x92\\xce\"\\xb4\\xc3,\\xa1\\xe4\\x9c2\\x946\\x95\\x1c\\xfa\\x0c\\x1c\\x13\\xe9\\x8a\\x92\\xb5F\\x125+\\xceGh0\\xdctx>\\xe6\\x00S\\xa7\\x05gn\\xb8\\xc0\\x1f\\x1c\\xd43H\\xd9\\x00\\r\\xd0\\xa1p\\xd3:7\\x12\\xe2\\xa2\\xf5\\x10sS8\\xbf\\xae\\x12\\xf4H\\xcc\\x10\\x03\\r\\xb8\\xa6R\\xa3\\xdc,\\x8f{\\xe5\\x9a\\x89\\xb8qr\\xfbe\\xd27\\x9b^\\x8a\\xd1v;R\\x17\\x17\\xc0\\x8f2\\x15\\xbc\"Z\\xbb)\\xceus\\x15|\\xf7=\\xb1D{\\xb5\\xbd\\xb1!\\xb5\\xbd\\x1d\\xb5\"X\\xe5yc\\xbb\\xa8\\xe9\\xb7|\\xa7\\xf5\\x15\\x13v\\xb3Di\\xb5\\xa1\\xe8%\\xf8\\xc9\\xdd\\'\\x93\\xa6\\xf4\\xc8\\xa5|z\\x15$\\xb4\\xcc\\x90\\x9e|\\xf8\\xa0\\x95\\xae\\xe3\\xaa\\xf5|\\x06aj\\xcbJd\\xa9\\xceE31\\xf6R\\x87\\x1b\\xdc\\x02\\t\\x00\\x1c\\x1d\\xf6\\xc6\\x08\\xa9y\\xfc=\\xb8\\xdd[2Q\\n\\xdc\\x84\\xe0\\x06\\\\[\\x8aK\\xa5 lU\\x8d\\x8fS\\xd4m\\x9a1[ \\xc51\\xd2\\xd31\\xc3*V\\xca*\\x18\\xe5\\x1e\\xb9\\xa4\\xaf~\\xcdlm\\xa1\\x1f\\x1c\\xa1\\'\\x98\\x8cc?\\xfb\\xefNt\\xce\\xfc:\\x05\\x03\\xa9Y{\\xbfSm\\xca\\x06?\\xa7\\xb5E\\xbd>\\x0f\\xb42\\xb7\\x9b\\xfe\\xe8.R\\xb9A\\xcf\\x99\\x07\\x02\\xa7u\\x14K%\\xdbN7c\\xd67\\x19pf\\xc9i)j|h\\xcaSQ\\xa4u\\x03\\x9c\\xf69)# \\x90{\\x1a\\xb4\\xdc\\x9a\\x13\\x9b\\xf6\\x96\\xd0T\\xa4\\xe0\\x10\\x91\\xd4f\\xa0\\xd7v\\x8d\\xac\\xf4|\\xd4\\xb3\\x01\\xd8\\x12\\xd0P\\x991\\\\\\xdf\\x95A`(\\xfcz\\xefJfv\\xe3t\\xd8h\\xe3.\\xb3\\x85\\xc1[\\x86\\xc1k\\x85j\\xb0Y\\xad\\xf6us\\xdba\\xdb\\xa31\\r^l\\xa5\\xa4\\x84\\x1f\\x89\\x18\\'\\xd4\\x9a\\x91\\xf0\\x89I\\xc0\\x07\\x14\\xcfL\\xc004\\xe5\\x8e!W\\x88X\\xb7\\xc7AW\\x99\\xf0\\xd2O\\xcbz\\x95\\xe5\\xc2OC\\x8a\\xd1\\rE\\xca\\xca\\xba\\xc0\\xd8&\\xbe\\x11\\x1di53\\xdcu\\xa7\\xaaN<\\xbao\\\\\\x11\\xf3\\xa7$\\xba\\x8fSY\\xcfL\\xd2\\x0bd\\x0c\\xd3\\xe7[\\x05D\\x803H\\xa9\\x07\\xc8\\x1c\\x1a\\xe4\\xab\\x1c\\xf0\\xdb\\x89\\x11\\xf5K\\x0c\\xc1\\xbc\\xa9,\\xde\\xd8\\xdc\\'\\xa2e\\x006)\\xf2W\\x98\\xfc\\xaa\\xfd8r!\\xb4\\x12\\x14\\xbc\\x02\\xacv\\xacb\\xcc\\x97\\x19[/GqL\\xbc\\xda\\xc2\\xd0\\xb4\\x1c)*\\x1d\\x085\\xa48w\\xc4X\\xfa\\xad\\xa6\\xa0^\\x94\\x86/M\\x81\\xbfA%#\\xf1\\'\\xf9\\xb1\\xd4|\\xc5\\x07\\x8eO\\xc2W\\xa8bxY\\x88\\x19\\xe0\\x1d^#\\x97\\xf1\\xe4\\x88\\xe9h\\x90\\x8d\\xb1\\xbe\\xdf\\x95\\x01x\\xbc\\x8f\\x06\\xc9\\xa9\\xde\\xef\\xc8\\x94~k\\x15\\xa3\\x1e\\r\\x94\\xb2\\xa6~\\xe1\\xc9\\x1b\\xd6p\\xe3\\x8b\\xa1\\xad-w\\x19\\xdd\\xd9\\x0c\\xa4\\xff\\x00\\xc7\\xff\\x00j\\xb1\\x0e\\xb5Q\\x8f\\xf2\\x1ek\\x1b<\\x87\\xa2wqY\\xa6F\\xe9g\\xcf\\xc4\\xc58\\x94\\xaeX\\x0f\\xef\\xd0cz\\xf8\\xf47\\xd5\\x1d2\\xdbij\\x8a\\xdb\\xc9C\\x8e\\x01\\x94\\xa1J\\x04\\xa4\\x13\\xdb84\\xde\\xe2\\xbc\\xc2^\\xfd\\xc6\\xd5\\xe8Y\\xac\\xd7\\x15\\x92\\xe2\\x17VYn\\xa6\\xdc#\\x17T#\\xa9\\xef\\x17\\xc3\\xcf\\xbaV\\x069\\xb1\\xe7\\x8a\\xe1\\xc7K\\xf3P\\xa1\\x93\\xca\\xaaJ\\xcc2\\xd3\\x7f<W\\xe5\\xbe\\x10\\xe1H\\x00\\x14\\x9e\\xd4\\x90\\x90!gp\\\\w+\\x8b\\xbb\\x9e,\\xc6\\xf0v\\x1d)\\xdc\\x17\\x1cK(l8\\xb0\\xc9_1o\\x98\\xf2\\x93\\xe7\\x8e\\x99\\xa8\\xa9\\x0b\\xe7\\x90\\x15\\x9e\\xf5+gfM\\xc2lh6\\xa8\\xae\\xcf\\x9e\\xfa\\xb9Y\\x8e\\xd2J\\x94\\xa5\\x1aX\\x9e\\xc0\\xe7\\xb9\\xc7K\\xae \\xd8\\x00\\xae\\x9c ZQ\\xc4\\x8bp$\\xe5l\\xcaH\\x03\\xb9-+\\x15`\\xb0\\xf0^L]\\x0e\\xbb\\xbd\\xd9kr\\xec\\xe2\\x8a\\xa3\\xdb\\xdb\\xc1\\x08BI*\\xe7\\xfe%\\x106\\x03aD\\x9e\\x1ap\\xb1\\x1a\\x16\\xdb\"m\\xf5\\xb6\\x9f\\xd4rRB\\xd6=\\xe1\\x15\\x1f\\xea\\xd2|\\xfc\\xc8\\xf8U\\xd6\\xc6R\\x9b<WO\\xddi\\x87\\x14s\\xeaM`\\xabkK\\xb1\\tL&\\xc0\\xb1\\xa2\\xfd\\xc5\\xff\\x005\\xa9\\xa1\\x84G\\x1co\\x90_+\\x89\\xb1\\xdb\\x86\\xfe\\x08I\\xa9\\xe0Bc\\x84:ml4B\\xd4\\xb5?\\xcf\\xceO\\xda)E*\\xf4\\xc6\\x05P\\xe0\\xa9%\\xac\\x03\\x93\\x9a-k\\xe0\\xc3\\\\,\\xb40\\xd2\\x1bi\\xa4\\xa5|\\x88O\\xe1>.\\xc0P~\\xda\\xac\\xe4f\\xb28c\\xcb\\xe2y?\\x98\\xafS\\xc2$/$\\x9e$\\xfc\\x13\\xf7\\x7f\\xbb\\xf9\\xd13\\x87rL\\xcd75\\x1b;\"\\xd9!\\xb2\\xc8^F\\x10\\xe0;dz\\xa4\\xfet3pe\\xb3W\\xae\\x13(9:\\xed\\x11n\\xa9\\x05\\xc8\\xc9u(\\x0b\\xe5\\nR\\x15\\x90\\x0f\\x9e\\xc4\\xd1B.\\xad\\xe3q\\x87\\xd1?\\x98\\xb1\\xf7\\xfc\\x91\\x12\\xddu\\xb9\"+\\xafG\\xb5\\x08\\xd2\\x86y\\xe5=$r61\\xd5\\'\\xef\\x13V]\\r.\\xd8\\xcaT\\x87\\xae->\\xa4\\xa8\\x95\\xad+\\x04s\\xf7H\\x03\\xa5U\\xee\\xce\\xa1i\\x8dk[\\x98D\\xa9\\x01\\x0b\\xc1\\xc7\\xb9\\xf7\\x94?-\\xbet\\xed\\xfd\\x07i\\xba.[\\x8cB\\x16\\xd92\\x13\\xe2.D!\\xe1\\xac\\xa8t;l\\x7f*\\x85\\xa0\\x03u\\xe7\\xf76\\x16V\\xdda\\xa8\\xf4\\xd0\\xb7*-\\xd6\\xf0\\xd5\\xbd+q<\\x8ex\\x81*B\\xff\\x00\\n\\x92O\\xe2\\xcfJi\\xa6g;\\xa9\\xe2x\\xd0.\\x8d\\xa9\\xb8\\x8f\\xae4\\xa6\\xb9\\x01\\x0b[g\\x19\\x07\\xb6v?:\\xad\\xc5\\xe1e\\x91\\x96\\xa3\\xa2\\xe9\\x1f\\xebu\\xa1\\\\\\xe9zby\\x94\\x15\\xff\\x00\\xbe\\xd4\\xbc\\xe7Q\\xa2nf\\xe5oBZ\\x854\\xa53\\x12\\xd0\\xf7P\\xbca.c\\xd4l~\\x02\\x9eCN\\xa9C\\x8f\\x15i\\xbb\\xc9\\x9b\\x18\\x04!iK}HN\\xe5X\\xf35Qt\\xbd%K\\xf6\\x82pU\\xb2H\\xdb\\xa7\\xfd\\xaaew\\xa4OCj\\xc1P9\\xdf\\x19\\xcd3\\x96\\xb4,\\xa4\\xa58\\x00t\\xec\\rFS$MaIi\\xa7\\x99\\x82\\xb7\\x1b\\xf6\\x87R\\xa7\\x03}O(\\xdb W\\xd6\\xed\\xdc\\xf7[\\x83\\xce4\\x10\\xe4\\x91\\xcc\\xe8F\\x08\\t\\x03bH\\xfcG\\x14\\xba\\x9f\\xb6M\\x80\\xea\\xa6\\xb9\\rNEx2\\xf0V\\tl\\xf4\\xc1\\x1dFsN\\x19\\xb8G\\xfa\\xaeC\\x90y\\x1bh \\xb4\\xc2\\xb968\\xea~\\x1bb\\x9e\\x06\\xba\\xec\\xa1t\\x9d\\x1cg\\x99[\\x0e\\xdc\\x9eH\\x16\\xf4\\x9d\\xb1\\r\\x90>M\\xa6\\x9cc)84\\xde\\xcf\\xe2.\\xd1iS\\xe3\\x0e\\xaa\\x0cr\\xb1\\x8e\\x87\\xc2Ni\\xd9\\x1e\\xe9\\xc6\\xfd\\xebR6X\\xde)5\\x0c|}k\\x82;\\xe3&\\x96#s\\x8f*IC\\x18\\xef\\xde\\x95rEh\\xcezRJA\\x18\\xcf\\x958Q$\\x9cu>\\xb5\\xc1$\\x91\\x9c`\\xd7.^I\\xb6s\\x8c\\x8e\\xf5\"\\xcb\\xabm\\xf6\\x1ea\\xc5\\xb6\\xebD-\\x0bI\\xc1J\\x87B*)\\x95{\\xea\\x1eU!\\x1dY\\x07\\x1d\\xab:\\xbe\\x86\\x86\\xce\\x16+Op\\xc7\\\\;\\xaa\\xec\\xca\\xf6\\xf2\\x91:\"\\x83r0q\\xccH\\xd9x\\xed\\x9f\\xde\\x84\\x9cwuk\\xb5=\\x15\\x84-\\xc7\\x1c\\x9e\\xcaR\\x84\\'*Q\\xdc\\xe0\\x01\\xd6\\xab\\x9a?T\\xc8\\xd2\\x17\\xa4Oa\\x05\\xe6T\\x92\\xdc\\x86s\\x80\\xe2\\x0f\\xf5\\x1dE2\\xe2~\\xa9M\\xee\\xde\\xc4\\x9b{\\xce\\xa4\\xfbpR\\\\I(RyRq\\xd3\\xa1\\x19\\xa2\\x147\\x92\\xaa>\\xc2\\xbc\\xdf\\xed\\x1e\\x1f\\xe8y\\xe4`\\xea;\\xdd\\xd8\\xae\\xbc\"\\xe1\\xad\\xcd\\x16\\rQ\\x07[\\xda\\xdc\\x83o\\xbc2\\xd2XC\\xc0x\\x80\\xa4+\\xed9\\x7f\\t\\x19I\\x19\\xf2\\xa1/\\x17\\xed\\xf6\\xcd56>\\x9a\\xb1\\xa0)\\xbbsI2\\xa4\\xac}\\xa4\\x87\\x963\\xcc\\xa3\\xe8\\x9c`\\r\\x86j\\xef\\xc2\\x0e\\'\\\\\\xed.jY7\\xcb\\x9c\\xa9\\xf1m\\xb6\\x85\\xc8\\x8e\\xcc\\xb7\\xca\\xd2^\\n\\x01 gs\\x92\\xa0*\\x81\\xc5]g\\x07^{\\x05\\xdf\\xea\\xd3k\\xbe\\x84x\\x13\\xd0\\xd1\\xcb\\x0f\\x01\\xbaV\\x9e\\xe0\\xf5\\x04\\x1c\\xf6\\xdfj<\\xc6T\\xb6\\xaaG\\xc9\\xab{6\\xbd\\xb4\\xd0\\xf6i\\xde\\xb0\\xae1\\x18Z\\x1b\\xbfoz\\x8b\\x89\\xa6gZ\\xf4\\xd4\\x1b\\xd5\\xc0\\xb1\\x1a4\\xc5\\x11\\x11\\xb5/.<;\\xa8$tH\\xf35[+*uG\\xbesD\\re\\x16;zoD\\xcf\\xb5\\xcb3a9f\\xf0\\x17\\xbf\\xf72R\\xac\\xb8\\x82;\\x1f{\\xe6\\x00\\xa1\\xe6p\\xf1\\xce\\xdbf\\x8bS\\xc8\\xe7\\xd3\\xb0\\xb8\\xfd\\r>\\n\\x9b\\xda\\x1a\\xe2\\x02\\xfd\\xe1;\"B[\\x8c\\x9egU\\xd2\\xb6w\\xd1\\xefF\\xd9,\\x1aR-\\xce\\xd8\\xd8\\x91w\\x99\\xee\\xcc\\x96\\xe0\\xca\\xd2\\xae\\xed\\xa3\\xf8R?^\\xf5\\x8f\\xac\\xdb\\xdd\\xd9\\xff\\x00*\\xbfcZ\\xc7\\xe8\\xf1ylG\\x91oq\\x7fu\\xcd\\xd2O\\x9f\\xddW\\xee?*\\xcf\\xe2\\x13\\x1e\\x9f\\xa3\\xbe\\x8bGG\\x87\\x89(\\rP\\xdc:\\xde\\xcb\\x0f\\x89D\\x8b\\xd26\\x94G\\x9a\\xaa\\xa0\\xcc\\x90\\xd6\\x97lt*o\\x97\\xf55q\\xbe\\x14\\xa3\\xda\\x12|\\xc9\"\\x87M\\xa8\\xc9\\xb6[\\xd8%A\\'\\x9b$v\\xdc\\xd6RrD\\xee\\xb7\\xe5\\x1ee\\x10\\x84u\\x07z\\xe7]\\xd9\\x0b\\xbc/\\xb4\\x80U\\xef\\xc7vB<\\xb0\\x1c\\xcd\\x01m\\xc7\\xdf\\xdf\\xbdh\\xbb\\x94\\xd7\\xae\\xf68\\xf6\\xb7\\xa6!\\xb8p\\xd81\\x9b\\x01\\x9f{\\x94\\x9d\\xf3\\xbdgb\\xc1\\x81t~1W7\\x84\\xf2\\x9b\\xe6\\x1d\\xf0H\\xcd\\x02\\xc1d%\\x920\\x9e7\\xf1[\\x9c&@\\x1d\\x95I\\xbd\\xb3x\\x14\\xefM,\\xa6\\xef\\x11\\xbf\\x10\\xb2\\x97\\x9em\\x95\\xb9\\xfc!j\\t*\\xf9g?*b\\xa2H94\\x93O)\\x84\\xa9\\xd4\\x1fy\\x1c\\xaa\\x07=\\xc1\\x06\\xb4KS;\\x04\\xb1\\xb9\\x87b\\x08\\xf1Z\"\\xf3\\xa7\\x81\\x9f\\xedK_:\\xe0\\xa9m$\\r\\x82\\xd7\\x9eB}:\\x1f\\xce\\x99\\xd8S\\xae\\xddx\\xb9\\x1ad&\\xd29\\x8ac\\x9ee$ \\xf4\\x05\\\\\\xbd|\\xfdj\\xe7\\xc4+D\\x9d7\\xad\\'\\xdb\\xdfO$\\x19\\xbc\\xb78n\\x10p\\xe3.\\x0ee\\x01\\xea\\x16T\\x9c|*\\xa3\\xfd\\x9fU\\xe6ID\\xbb\\xc4\\xc81\\xf9>\\xe4\\'\\xcbEG=\\xcd@o\\x1c\\x85\\xae^Q\\x0b\\xc3\\x83\\\\\\x05\\xf4S*\\xb7k\\x154\\xa7\\x1e\\xbfEC\\xa3\\xef\\xf3\\xc4J\\x90\\t\\xed\\xcd\\x91\\xb7\\xcb4\\xd3\\xeak\\xc4\\xc6\\x9cM\\xce\\xe3n\\x9b\\xcc\\x08W\\x83\\tH\\xdb\\xcb%x\\xfd+\\xb8\\xdc<\\x8c\\xcb\\x87\\xd8\\xef\\xb7b\\xb1\\xefr\\xbb(>\\x8c\\xf9\\x14\\x91\\xfdji\\xa8\\x7fU\\xf2\\xaaL\\x94\\xbb\\xc9\\xbf/&\\x101\\xe9\\xde\\x98\\xf7rV\\x1d\\xd6\\xdcY$\\x9bD\\x1bL4&\\xdd\\x8eE!\\nNU\\x92r\\x07\\xfe\\xf3Q3\\x9eJ\\x16\\xdaJ\\xb2\\xa5\\x12>5\\xcd\\xc6j\\x14\\xfaP\\xc2\\xc8e\\x91\\x9c\\xf9\\x0f/Lg\\xf6\\xae#AK\\xb2\\x04\\xd99Q\\xc7\\xba\\x0fD\\xa7\\xafO:V\\xd8\\xeaUiM\\xf4\\x08Ut\\xb1\\xa9\\xde\"^\\x1fm\\xa5)\\xd7\\xd1\\x1dH>eI\\xdc\\xfc\\xb1F\\xbd\\rg\\xfa\\xda\\xe7\\x02\\xc0\\xd2<g$\\xbe\\xdb\\x1bo\\xc83\\xef\\xab\\xe4\\x02\\x8f\\xca\\xa8\\\\T\\xbc\\xdb\\xb8u\\xa8\\xb4S\\x93\\x16\\xa3:\\xe2\\x82\\xf5\\xc9\\x84\\x8c\\x96\\xa3s\\x84\\xb6\\xafC\\x92\\xaf\\xf8Ml\\xae\\x12h-=j\\x86\\xc6\\xa5\\xb2\\xa9W\\'\\xee,\\x95\\xb71dr\\xa1*\\xd8\\x86\\xc0\\xdb~\\xe7\\xafQF\"\\xa5{\\x88.\\xd9g\\xa7\\x99\\xadq\\xca\\x89\\x0e$\\x07>\\xcca\\x00\\xe1#\\xa6\\x00\\xd8RJG\\xbar;\\xd3\\xa5\\'\\xde\\xdflRj\\x19\\x1bg\\xae\\xd4X\\x84%6)\\xd8\\xed\\xf9W\\x0b\\x19\\xc6\\x01#\\x14\\xba\\x927\\xefH\\xb9\\xfb\\xd7%H\\x81\\x92\\xac\\xe7\\x15\\xc9\\xfb\\xd8\\x1f\\x1aS}\\xfat\\xa4\\xf29\\xd1\\xd2\\x91*\\xf2\\x1d\\xb5ak=7\\xa9\\x18\\xa7\\xddQ\\xcei\\x0b\\xad\\xb2M\\x8e\\xe72\\xdf<a\\xf6\\x1c)8\\xe8\\xa1\\xd9C\\xd0\\xd7L\\x8fw=0{Vy{\\xfd,\\x81\\xc0\\x16\\x9b\\x84\\xe9[\\xa4\\xe2\\xa9\\xb7\\x85+\\x93\\x94\\x93\\xca\\\\\\'\\x97=\\xea\\xdcTy\\r1\\xb8\\xe9\\xb3+B\\xcb\\xd4\\r\\xf3)Q.\\xa8\\x8e\\xef\\x90mH\\xeb\\xff\\x00\\x11\\x14C\\rpmS\\t\\xfa\\xd1\\x02\\xfbRo\\x87\\xb8}n\\x157\\x98\\x8fp\\x12\\x01\\x19V\\x0f_\\x8d3\\xbbl\\xd2\\x00\\xef\\x93N\\x13\\xbb\\xae\\x13\\xd9\"\\x9a]N\\xc8\\x1eI\\xad\\xcc\\xe7\\xee\\\\\\xbcLn\\x96\\x8a\\xa5\\xa6\\x17*T|=\\x95\\xcb\\x9d\\xb9\\xb1\\xd7\\x1et\\xd1\\\\\\xca{\\t\\x05JP\\xc0\\x03\\xce\\x9d\\xc3\\x8a\\xfc\\xd6\\x92\\xc4&\\x1d\\x90\\xf7\\'1CH*! nN:\\x0fZ\\x96\\x85kD\\x18\\xe6C\\xb8\\\\\\x82H\\xcfd\\x8cU\\n\\xba\\xb6S\\xc4\\x01\\xdf\\x92)\\x87\\xe1\\xd2\\xd7\\xc8Cth\\xdc\\xf2\\xfeW\\xdbU\\xb8BS.\\xb8y\\x9fpo\\xe4\\x91\\xe5D\\xae\\x1e\\xdf?\\xb3\\xfa\\x86$\\x95\\xb9\\xc9\\x1d\\xc5xO\\xff\\x00\\x94\\xf7\\xf9\\x1c\\x1a\\xa3t\\\\\\x7fA\\x8f\\xd2\\xa5c\\x8c\\xb2\\xa01\\xbfz\\xc6M+\\xa4~wn\\xbd\\x7f\\x0f\\xa3\\x86(]L\\xd1\\xd5\\xb5\\xbcF\\xfd\\xeb[\\xcct\\xcfy\\x96p\\x02\\xa4\\x87\\x071;\\x0eT\\x15\\x13\\xf9\\n\\x1eXg15-\\xb4\\xca\\xc9,sd\\x11\\xbe3\\xd6\\xa78ytU\\xf6\\x1e\\x97\\xe7_3\\xa5\\x89iqG\\xf8\\x9aaC\\xf5\\x18\\xaa\\x1e\\x91}\"\\xf6\\xfbMs\\x1ef\\xc9H\\xee}(\\x14\\xb2\\xb9\\xd5\\xafh\\xfc\\xa3\\xe2\\xb1\\xc6\\x1e\\x84\\x16\\x1e\\x04\\xfb\\xb4SO\\xb8|\\x17\\x92I\\x18\\'\\x18=w\\xda\\x83\\xda\\x82+\\x96\\xfdQ5\\xa7\\x93\\x8ew<d\\x1f4\\xa8d\\x1a.\\xb3q\\x87!\\xf7\\x9bs\\xec\\xe4\\xad\\x03\\x0cr\\xe5IP\\x03 \\xd5S\\x88\\xb6r\\xf4H\\x17v\\x9bRV\\xc1\\xf0\\xde\\x04`\\xf2\\x1e\\x99\\xf8\\x1f\\xde\\x87\\xe1\\x0c{$vaao\\x92-G8\\x8a\\xa1\\x9a\\xeel\\xaa\\n\\xe8\\x00\\xf2\\xa4q\\x96^\\x1f\\xcb_B\\xb2\\x94\\x9e\\x995\\xf0\\xad\\x0c\\xb2\\xe2\\xe4-\\r#\\x97\\xef-A#\\xf5\\xad\\x1d\\xaf\\xa2\\xf4\\x078\\x01s\\xb2\\xf4\\xcbP\\xe8[g\\x18\\xb4\\x16\\x9b~L\\xb7m\\xb3\\r\\xbd\\x89p.\\x0c -L\\x17\\x1aO2T\\x83\\xb2\\xd0p2\\x9c\\x8e\\x80\\x82\\x08\\xacO\\xab\\xaf\\x9a\\x9fAO\\xbaX\\xf5-\\x94\\xb7x\\xb4\\xbd\\xe0<\\xe3D\\x96]GT:\\x93\\xd4%I!C>~y\\xa2v\\x83\\xfafXlZ\\x1fAh\\x9d3f\\x95\\xa95s\\x8d\\xc7\\xb5\\x15\\xbe\\xaff\\x86\\xca\\xcb\\x9e\\x1a2\\xbc\\x15\\xaf\\x00\\xa4\\xe0$\\x02?\\x10\\xa8.!\\\\\\xee\\x9a\\xb7YjI\\xf7h\\xed\\xa1M\\xbea\\xe5\\x1b\\x85\\x04\\x12\\x13\\x9f\\x90\\xdb\\xd3\\x02\\x88\\xd5\\xc6\\xc2\\x03\\xc8\\xd4\\xaf\\x0b\\x81\\xcfd\\x8f\\x8d\\xae\\xea\\x82m\\xe2\\x86\\x11\\xf8\\xd2\\xf3\\x05\\x01\\x88\\x12\\x1ep\\x9f}C\\xb7\\xc3\\x1dG\\xc6\\xa6\\xe5\\xea\\x9b\\xf6\\xa0\\x85\\xcf\\x15\\x02\\x1aV\\x93\\xbb\\xdb\\x91\\xf2\\x14\\xc6\\x16\\x93i3\\x9fq,\\xf8C\\x90\\xe4#\\xcc\\xe2\\xa7\\x1e\\x85\\xec\\xd0\\x8a\\x1a\\xd9\\xc5\\x10\\x86\\xf3\\xe6N\\x05\\r~K\\xe8\\x11\\x16\\x99\\x1c:\\xc5Fi;\\x14\\xf7\\xae\\xabz\\xefqvLFBBX\\x08\\xe5K\\xaa\\x1d3\\x8d\\xf0?\\xa5\\x17\\xad\\xaa\\x81\\x1a\\x0c\\xfdC\\xa8\\xde\\xf6M3fmOJt\\x8d\\xdfR\\x7f\\x02G}\\xf0=I\\t\\x1dj\\x1fBh\\xe9\\x17\\xe7\\xd2\\xc29\\x91\\t\\x82\\x04\\xa9\\x08\\x1b\\xa8\\xff\\x00\\xabA\\xfe#\\xdc\\xf6\\xa1O\\xd2\\xc3\\x89,I\\x9f\\x1f\\x87:em\\xa2\\xd7eZUt,\\x9fq\\xc9@{\\xacm\\xd5-\\x03\\xbf\\\\\\xac\\x9c\\xfd\\xd0j\\xe5-1\\x95\\xc1\\xee\\xd9S\\xa8\\xa8\\x10\\xb7+wA-{\\xaef\\xf1\\x0bY\\xddu%\\xc9>\\x1a\\xe6\\xbb\\xf6,\\xe7!\\x86S\\xb3m\\x8f\\xf2\\xa4\\x0f\\x89\\xc9\\xefZ\\x17\\xe8\\xbb\\xf4\\xac\\x93\\xc3)\\xe9\\xd3\\xba\\xf1NK\\xd1R\\xdc\\x18})*r\\xd6\\xe1\\xd8\\xba\\x07\\xe2h\\xfe4\\x8d\\xc7\\xdeNNR\\xac\\xa2\\x84\\x15\\x10\\x05Y\\xa0DLvJ\\xddH;g\\x15\\xa1\\r\\x0b:I:\\xafl\\xdb[RZm\\xf8\\xae\\xa1\\xf6\\x1d@q\\xa7\\x1bPR\\x16\\x922\\x14\\x08\\xd8\\x827\\x04RKo\\x03\\x1d\\xf3^`p\\x9b\\xe9%\\xaf\\xf8L\\x88\\xb0-\\xd3\\xd1~\\xd3\\xacr\\x8f\\xa9\\xee\\x8a+m\\xb4\\x7f\\x0b.\\xfd\\xf6\\xb0:\\x0fy#\\xf8kt\\xf0\\x97\\xe9!\\xa28\\xc1\\xe1@\\xb6\\xc9U\\x8fR\\x94\\xe5vk\\x8a\\x82\\x1dV:\\x96W\\xf7^O_\\xbay\\xb02R)\\x0bW\"z\\x93\\xb9\\xa4\\x1cNF\\x15\\xfaS\\xe7S\\xcaHP\\xf9SW2\\x07\\x95FE\\x93\\x93m\\xc77\\x9e1\\x8cRE8\\xc19\\xdbz]Cc\\xdb\\x1e\\x94\\xddJ \\x9e\\xa6\\x98R\\xaf<\\xf5f\\x9agS\\xa5(\\x1c\\x8c\\xceC\\x8a,\\xbf\\xff\\x00\\xf5W\\xa5\\t\\xe6A\\x95l\\x94\\xa8SYS2\\x12\\xbc\\xa9\\'\\xcb\\xcc\\x1e\\xe3\\xd6\\x8d\\xebP\\xf6\\x80A\\xdf\\x98\\xd2\\xba\\x83LF\\xd51\\xa2E{\\rJJTY\\x90>\\xf2\\x0e6\\x07\\xcczVu\\xa2\\xed^\\x99\\x86\\xe2\\x06\\x90\\xe4\\x7f\\xaa}\\xc8\\x12vB\\xbb\\x11E\\xae\\x15i\\xf8\\xd7\\xee\\x1b\\xde-\\xd7\\x04\\xe65\\xc6S\\xcd\\xa8\\xf7\\x1e\\xea@P\\xf5\\x07\\x07\\xe5B\\xeb\\xad\\xbaU\\xa2T\\xa87\\x04xrXQJ\\x87c\\xe4G\\xa1\\xedF\\xee\\r#\\xc3\\xe1\\xfcet\\xe6\\x94\\xfa\\xbf\\xe6\\x03\\xfaR\\xb4\\x90A\\x08\\xa7\\xda\\'\\x07\\xd2\\xb4\\x8dA+*\\xde,r\\xf4\\xd5\\xde\\xe1j\\xb9\\'\\x96TGJ\\x16s\\xb2\\x87e\\x0fB7\\xa8\\x1b\\x9e\\xea\\xf8&\\xb4_\\xd2\\x03L6\\xab=\\xb7Q\\xb0\\x8eW\\x90\\xf7\\xb2J?\\xc4\\x85\\x12PO\\xc0\\x82>u\\x9c\\xee$\\x15\\x1ct\\xe5\\x15\\xba\\x8a\\xa3\\xd2h\\xf3\\xf1\\xe2\\xbczh\\xfa)r\\xadu\\xa3\\xb4\\xa4\\r\\x1d\\xa0\\xa2\\xfdN\\xc0\\x13\\xa7\\xc3i\\xc92\\x88\\xfbG\\n\\xd2\\x14F{$g\\x00P\\xaf\\x89\\xfa)ZE\\xf6\\x9c\\x8a\\xda\\xbe\\xa9\\x9c\\x9ex\\xaa\\xc6\\xc8^2\\xa6\\xfe#\\xaf\\xc0\\xd1\\xf2\\xca\\xdf\\xb4i\\x1b!\\xd8\\x85[c+\\xff\\x00\\xe2M6\\xe2\\xbd\\x9d\\xab\\xee\\x80j3\\xc3\\xed\\x19B\\xdf`\\x8e\\xa1iA#\\xf3\\xe8~5\\x8f\\x91\\xe5\\xce.r\\xd3\\xe1\\xd5\\x06\\x91\\xfal\\xe1b\\xb2\\xca\\xbe\\xfb\\x18\\x1d\\xff\\x00\\xa5K\\xc5\\xc1F\\t\\xefP\\x89_\\x88\\x98\\xca\\xce\\xea9\\xa9\\x88\\xe7\\x00\\x00w\\xcdWr\\xf4\\xfa\"\\x0b\\x89\\xfa\\xd9\\x1b\\xf8.\\xeae\\xb7\\x02\\x1b\\x0b>\\xd4\\xc4\\x99\\xce8\\x12wKF>\\xe7\\xd0v\\xa8m\\x15\\x00\\x8dT\\xdez\\xa4\\x1f\\xca\\xa48\\x1c\\xe3\\xb6%\\xdco\\x0e\\xc3\\xf1Z}\\x89\\x11YRT\\x90\\xa5-M\\xe0l\\x7f\\x08\\'\\xad6\\xb27.\\xd1\\xa9b\\x89mxG\\x98\\xee\\x14\\x15\\x91\\x8fJ\\xce2l\\xd8\\x9b\\x87\\x0b\\x01\\xe1u\\x94\\xc4X\\x1b4\\x80s*\\xdbw\\x86\\xd3\\x97\\x94\\xa9\\r\\xa5+\\xc6\\n\\x80\\xf3\\xa6Z\\xfbP\\xe8\\xfd\\x11\\rp\\xf5\\x84\\xd7\\x1e\\x91.*\\x87\\xd5\\xd0\\xd2\\x1c\\x90R\\xa1\\xb2\\x88$\\x04y\\x82\\xa2=\\x05Eq\\x0fY\\x7fcl\\x8f\\xdeP\\x9495\\xd7<\\x18(X\\xc8.\\x91\\x9eb;\\x84\\x81\\x9c|\\x07z\\xc9\\xb3\\xa6\\xc9\\xb9\\xcd\\x916\\xe3!\\xc9R\\xe48\\\\y\\xe7\\x15\\xcc\\xa5\\xa8\\x9d\\xc95\\xae\\xa6\\xa7\\x12\\xdc\\xbbe\\x92\\xaa\\xaa0\\x10\\x19\\xbf\\x92\\x9f\\x9f\\xac\\xe4\\xbaT\\x8bkb3Cd\\xad`)x\\xed\\xe8\\rW_\\x90\\xec\\xa79\\xe4:\\xb7\\x9c\\'\\xaa\\xd4M$z\\xd7\\xd0<\\xe8\\xbcq2-\\x1a\\x15\\n\\xccF\\xae\\xbc\\xde\\xa2B\\xee\\xce\\x1e\\x03DI\\xe0\\n\\x1bW\\x1at\\x18y!M\\xfdw\\x1f9\\xf8\\x9cV\\x89\\xe2\\x9b\\x17\\r-=\\xc6V\\xfa\\x96\\xfb\\xb7F\\x10\\xb7\\x14\\x9d\\x9ei\\xc7\\xb9B\\xcf\\x91\\x01D\\x11\\xe6\\x05g^\\x02\\xb8\\x86x\\xc5\\xa1V\\xf0\\xca~\\xbb\\x8e>d\\x90?S[G\\xe9-b\\xd3\\xd2\\xd8\\xb05x\\xd6\\xd6]%su\\xf6\\xdf[S\\xddQZ\\xd8B\\xb9\\xbcP\\x84\\x02\\xae\\xa9\\xc0\\xce\\x02\\x8fBpj\\xadTe\\xf6!u#\\xc3/t-fJ!\\xcb~4\\x95\\xfb\\xe5JB\\t\\xeeF\\x08\\xfd\\x01\\xfc\\xaa\\xf9\\xa0\\xb8u\\'\\x882c:\\xe2^\\x8df\\x8e\\xe9[\\xcf\\x8c\\x8f\\x17\\x03\\x1c\\x88\\'\\xf7\\x1d*\\xb1\\xa5\\xf5_\\x07.z\\xfbLY\\xaf\\xb7\\xd1\\xa9D\\xa9\\xc9k\\xda\\x93\\rq\\xe34\\xfe>\\xc8\\xb8\\xa5`\\x96\\xca\\xf0\\x93\\xdb}\\xf6\\xcdj\\xfe k\\x1bW\\x0b4}\\xd3Pj\\xa5\\x16\\xe0[\\x13\\xca\\x98\\xed\\x90\\x17!\\xd3\\xb3l6:eGo 2z\\n\\xa5\\r\\x19\\'4\\x81_\\x92\\xac\\x01\\x963t%\\xe3\\xc7\\x13,\\xfc\\x08\\xd0\\xe9\\x89`C,\\xeaI\\xcc\\xa9\\xab$F\\x80\\xfb\\x1e\\xca\\x94\\xbf\\xe5F\\xf8\\xcf\\xde^;\\x03\\x8f6\\\\R\\xdfun<\\xea\\x9euj*qkW2\\x96\\xa2rI\\'rI\\xdf5f\\xe2\\x0e\\xbc\\xbcq/W\\xdcu6\\xa5w\\x9et\\xd5\\xfb\\xad$\\xfd\\x9cf\\x86\\xc8e\\xb1\\xd9\\t\\x18\\x03\\xcfrrI5[KeB\\x8e5\\xa1\\xa1\\x03\\x91\\xf9\\xca\\x7fl\\x8e\\x95\\x1eb3\\x8a\\x9c8R\\xd9Gl\\xf3(z\\x0f\\xfb\\x91M!6\\x18dg\\xafZU\\xa5s>\\xea\\x81\\xd98@\\xfd\\xcf\\xea\\x7fJ\\x91D\\xa4\\x11\\xee\\x9d\\xba\\xf7\\xcdt\\xa4%E\\n\\xc9B\\xd0\\xb0\\xb4)*)R\\x14\\x0e\\xca\\x04n\\x0f\\xa8\\xde\\x9a\\xa1\\xd2\\x92A#>t\\xa0{#\\xae<\\xeb\\x92\\xad-\\xc3\\x0f\\xa6f\\xb1\\xd1q\\xe3\\xdb5\\xc4Q\\xad\\xed-\\x0eD\\xc8u\\xef\\n\\xe0\\xda}]9K\\xd8\\xdf\\xef\\x80\\xa3\\xddu\\xaexe\\xc7}\\t\\xc6\\x05*6\\x92\\xb9\\xad\\xab\\xbbh.9i\\xb87\\xe0KJq\\xba\\x92\\x9c\\x90\\xe0\\x1d\\xca\\n\\x80\\xaf,J\\xfa\\xd7-\\xcaz\\x0c\\xa8\\xd2\\xe0\\xcbz\\x0c\\xd8\\xce\\x07\\xa3\\xc9\\x8e\\xe1m\\xd6\\\\\\x07!hX\\xdd$\\x1e\\xe2\\x9aBA\\xa2\\xf6=\\xc4\\xf2\\x83\\xd3\\x14\\xcd\\xcd\\xb0=<\\xe8\\x01\\xf4h\\xfaJ3\\xc5X(\\xd2\\xda\\xdaS,k\\xb8\\xc8W\\x84\\xe0Hm\\x17v\\x922\\\\@\\xe8\\x1e\\x03u\\xb6:\\xfd\\xe4\\x8cd$\\xfa\\xb1\\x95v\\xaa\\xcf\\x16*@n\\xb0b\\xf6\\x94\\x8f\"\\xaa\\xb1\\xdb\\xfe\\xd2SK\\xe8\\x01\\xc0\\xaa\\xd4\\x8fvZ\\x06\\xfbu\\xab]\\xb9\\xac\\x06\\xd5\\xbe2;Vz5\\xb2:\\x05V\\xe2\\xc6\\x8fr\\xf3iM\\xde\\xd8\\xcf\\x892\\x12Hy(\\x1e\\xf3\\x8du\\xf9\\x94\\xfe\\xd9\\xa7\\xbc)\\xfb\\x1e\\x1c\\xda\\xd5\\xd7\\x9dO/\\xf3p\\xd5\\xfece\\xbbk\\xeaN\\xca\\xe48\\xfc\\xaa\\xb5fm\\x11t\\xfcF\\x9b@l%*<\\xa9\\x18\\x00\\x92Ms\\xf4r\\x96Z\\x97\\xc9L!;4\\xe8\\xb9\\xd4\\xday\\x9dY\\xa4\\xe7Yd`\\tma\\xb5\\x9f\\xc0\\xe0\\xdd*\\xf9\\x11Xz\\xfb\\nM\\xaet\\xa87\\x06\\xd4\\xcc\\xa8\\xce\\x16\\x9eB\\x86\\x08P8\\xfc\\xbc\\xab|2\\xaf\\xb0F:\\x8a\\xce||\\xd2\\x91\\xfcKv\\xa1\\x86\\x8f\\xf4\\x97\\\\-O\\xc7E\\x7f\\x02\\xbe#\\xa1?\\n+IS\\xd14\\xc6v>k=SO\\xd2\\x90F\\xe8\\xdb\\xa2\\x9f/\\xe8M0\\xe1\\xea\\xabTl\\xe7\\xcf\\xc3\\x02\\x9c\\xeb\\x07\\n\\xac\\x889\\xfb\\x98\\x1f\\x99\\x15\\x1d\\xa0\\x97\\xe2p\\xfbN\\x1e\\xa50\\x92\\x8f\\xf8I\\x1f\\xd2\\x9fj\\xc1\\xcd\\xa7\\x9e\\xf2N\\x0f\\xebC\\x1e\\xeb\\x82\\xad\\xf4y\\x0e^Z,\\xef\\xc4\\x1d6l\\x97\\xa4L\\x8a\\xd7-\\xb2s\\xbc\\xcd\\x14\\x8c%\\x0e~$\\x7f_\\x9dC\\xc6\\xc6\\xdf\\x1a3\\xf1\\x02\\x13S\\xb8z\\x82\\xa4\\xe5l>$\\xa1C\\xb1\\xc6?bh1\\x17uo\\xf1\\xa6\\xb8\\xddo\\xb0\\x19\\x8c\\xb1k\\xb86F}\\x0c\\xfaX\\xd20\\xc9=V\\xee0\\x7f\\x9e\\x98O\\xb8\\x1f\\xad\\xd6\\xf3\\'%\\x0e\\xf2\\xe7\\xcb5\\xd6\\x90P\\x1an\\xd4\\xc9\\x07.\\x97\\x8ap3\\xf8\\x8d7!\\x0eI\\xc2R\\xa0\\\\h-D\\x8f\\xc4\\x95\\x01\\xb7\\xe7X\\xe8\\xb4\\xaes\\xbf\\xc8\\xf9\\xa1U\\xc74\\xcf\\xef(o\\xc7\\xcb\\xb2\\xa5\\xea{m\\xad\\x0e\\x02\\xc5\\xba\\x02\\x14\\xa4\\x8e\\xcf8y\\x94O\\xaf/\\'\\xe5B\\x7f:\\xb3\\xea\\x17\\xe6k][x\\x9f\\x11\\x94\\xad\\xd7_<\\x8d\\xa5@\\x12\\x84\\x8eT\\x84\\x82w<\\xa9\\x07\\x02\\xab\\x8f\\xb0\\xecWT\\xcc\\xa6\\x9c\\x8e\\xf2z\\xb6\\xe2\\n\\x14>F\\xbdN\\x16\\xe4\\x8d\\xa1y\\xcc\\xee\\xcf+\\x9c\\x93\\x1e~U\\xc9\\xc9 cn\\xe6\\xbaOq\\xda\\xbe\\x9e\\xf52\\x81\\\\\\xf8]\\xab \\xe8]sa\\xd4\\x97h\\xaa\\x9d\\x1a\\xd5(\\xcb\\xf6t\\xff\\x00\\x8a\\xe2\\x10\\xa2\\xda}\\x01_.Oa\\x93P:\\xa3V\\xdd\\xb5\\xa6\\xa3\\xb9j\\rK-sn\\x97\\x07K\\xb2\\x1eY\\xef\\xd9 vJ@\\x00\\x01\\xb0\\x00\\x01\\xd2\\xa3\\\\\\x19c\\xe1W\\xbe\\t\\xf0\\xe5|O\\xe2\\x15\\xaa\\xc4\\xb0\\xaf\\xab\\x92\\xbfi\\xb9\\xba\\x91\\xf7##u\\x8c\\xf6*\\xd9\\x03\\xd5B\\x9a\\xed5N\\x17:\\x04?S\\x9c\\xc0\\x8c\\x8c\\x1fZ\\'q#\\x8d\\xba\\xbf\\x8a\\xf6}/m\\xd63\\xbcv,\\x11\\x03\\r\\x84\\x93\\x99\\x0e\\x8d\\xbd\\xa1\\xdc\\x9fy\\xde@\\x94\\xe7\\xd0\\x9e\\xaaVO_J\\xc8|;\\xd0\\xba~-\\x97N\\xe8\\xfb\\x1c=W}>?\\x8d\\x1e0B\\xa1CJ\\xb0V\\x008\\nq@\\xa5;tJ\\xcf\\x91\\xac\\x83J\\xc3\\x9bR\\x95\\xcd\\xc8mu\\xf8(\\x05\\'\\'\\xa9\\xc6i\\xfb\\x01%hH\\x19\\x19\\xa8\\xd7S\\x94\\xf7\\xcd8\\x89;\\xc1 \\x16\\x14\\xe2\\xfbc\\xb9\\xa9/b\\x98\\xac\\x8bu,4\\xb7\\x16@Ki\\xc9\\x14\\x94nf\\xd9@X\\x1e\"\\xbd\\xe5z(\\xeei\\xb2R\\xb7\\x90\\\\\\xb9\\xf24\\xd0\\xdc5\\x9e\\x98\\xee\\xa3\\xfd)f\\x9f\\xf1\\xc7\\x88\\xd8!*>\\xe77q\\xe7N\\t\\x13\\xb4\\x9d\\xf0)E)-\\xa7\\xde=)&\\xb7Q\\xe6\\xf3\\xa4\\x1d\\x92\\x95+$\\x9eD\\x9e\\x9f\\xc4k\\x92\\xae\\xd7$\\xe3\\xdd\\x07\\'q\\xda\\x9a\\xbe\\xee=\\xe5\\x9c|k\\xf3\\x92\\xd6\\xbc\\xe3a\\xe6i\\x93\\xa5\\x1c\\xc1O8=\\x01\\xa4\\\\\\x9eZ\\xb5\\x0c\\xfd;u\\x81|\\xb2\\xbcc\\\\\\xad\\x92[\\x97\\x15\\xd1\\xf8\\\\mAI?\\xa7\\xcc\\x1a\\xf6Q\\x99\\xec^#\\xc7\\xb8\\xc1\\xde4\\xe6\\x1b\\x94\\xd1\\xfeG\\x10\\x16?EW\\x8b\\x8f\\xad\\x95\\xc7w\\xc2\\xdf\\xec\\xcflv\\xaf_xT\\xdb\\x89\\xe1W\\x0f\\x91 \\x12\\xf0\\xd3\\x16\\xc0\\xe6z\\xf3{3}}qU\\xe4J\\xdd\\xd63\\x86\\xb4\\\\W\\xed\\x0c,<\\xdb\\x98RV\\x9e\\x84y\\xd1\\x05\\x88\\x9e\\n\\xe35\\xf8\\xb9B\\x8df\\xcd\\t\\xac~\\xa1\\x9c\\x98\\xd3\\xd7\\xfe\\x80\\xe2\\xbe\\xf1\\xdf\\xc2\\'\\xaf\\xc8\\xd6\\x99\\xb3If\\xed!2ZX\\xf0\\xc3i)\\xc1\\xc8#\\x1dA\\xee(\\x03\\x1a\\xb7\\x15\\xb4\\xef\\xa7}\\x8e\\xdc\\n\\x94\\xb9$\\x0bc\\x98\\x18\\xc8\"\\xa9\\xd1\\x8f\\xfe\\\\\\xd6OL\\x8f\\xd6\\xae\\xb7E\\x0faR{\\x90h}i\\x98\\x89l\\xcdaJ\\xc2\\xe2K[*\\xfc\\x81\\x1f\\xbd2O\\\\*l\\x04\\xb4\\x9eJy\\n\\xc4T\\x1d\\xf1\\x8a\\x11\\xf1\\x89!ZRO|-\\xaf\\xfa\\xc5\\x17\\x16R\\x88\\xa8\\x1d6\\xdc\\xe6\\x84\\xdc_\\xc1\\xd2R\\xce\\x7f\\xc5o\\xfe\\xa1N\\xe4\\xba1y\\x02\\xb2\\xf0\\xceO\\x8b\\xc3\\x9bI\\x04\\xe5\\xbf\\x15\\x1f\\x93\\x87\\xff\\x00Z\\x9d\\xbd\\xab\\xc4\\xd3\\xd2A\\xe8[5D\\xe1\\x05\\xc0\\xbb\\xa3&\\xc5P\\xff\\x00\\xed$\\xab\\x94\\xfa) \\xfe\\xf5q\\xb8<\\x95i\\xa9\\t\\'r\\xd9\\xa6\\x1d\\x8a\\x96\\xad\\x99*\\x1c;Uj\\xfa\\xaf\\x1fB\\xcaA9\\xc4e~x\\xa0lC\\xbe\\x07\\x95\\x1a\\xe5\\xb9\\xe2i)\\x88\\x1b\\x9ffP\\x03\\x1dO-\\x03\\xad\\xae\\x07\\x92\\x17\\xd0\\x9e\\xa3\\xc8\\xd2\\x1ekC\\xf6u\\xe09\\xcd\\xedN\\x8c\\xe9\\xad\\xa5\\rE\\x9b\":P\\xa2R\\x10\\xe1\\x01;\\xf6\\xa4\\xad\\xf7EZ_D\\xbb\\x8b\\xf2\\x1e\\x81\\x14+\\x99\\xb0\\xe6I\\xcfa\\x9e\\xe4\\xe2\\xbe(\\xe1j=\\rV\\xb55\\xc7\\x91\\xa4@lnp\\xe3\\xaa\\xfd\\x87\\xf5\\xa9a\\x84=\\xe0\\x00\\xaeb\\xcf\\x82\\x9e\\x9eI\\x9e5\\xd8v\\x93\\xb7\\xcd\\x17\\xf8\\x13#A[m*v\\xf7;\\xd8u\"\\x1e%3\\x11\\x05w\\x04\\xba\\xc3\\x89@-\\xfb:}\\xf4\\xad\\xb5!D\\x900\\xa0\\xaf\\xbd\\xb6*\\r\\x9bu\\xb3]^\\xb5\\x18\\x89\\xae-v\\xc5\\xfdf\\xf0\\xb6[5\\x1cR\\xc3/F\\x1f\\xdd\\x9e|\\x14\\xb2\\xb209v\\xdcn\\xaa\\x0c\\xa4c\\x04\\x1c(t>U05\\x14\\xc7\\x1b\\r\\xdc\\xbc+\\xa3@`&by\\xd4>\\x0b\\xd9c\\xf3\\xa3\\xf95\\xb8^K\\x9f@\\x08S\\xb7\\xfe\\x1f\\xde\\xed\\x96\\x84^\\x1e\\xd3s\\xa3\\xc0q\\xbf\\x11\\xa9\\xd12\\xfcG\\x1b\\xcf\\xdf\\xe6\\xdc\\xa0\\x11\\xb8$\\x8d\\xb1\\xb5RN\\xfd*\\xe3f\\xd5*\\xb7!\\xc6\\xec\\x97\\x8b\\x85\\x80<\\xd3\\x8c\\xbb\\x19\\xd7\\x15\"#\\x8d\\xacai8\\xdc\\x03\\xe4R\\xafUUI\\xc6\\x83.-\\xbet9\\xc8\\xa2\\x9et+)V\\x0fP{\\x8aV\\xdf\\x8a\\x8c\\xdb\\x82\\xe8\\xfb\\xcc\\x91\\x9c\\x03\\xb1\\xcfj\\xf4\\x0b\\x81\\xdaoL\\xf0\\x8f\\x83\\xc3S\\xdc\\xcf\\xb3Gz\\x08\\xb9\\xde&\\x10<g\\x92>\\xe3I\\xf8\\x92\\x12\\x84\\xf7R\\xbc\\xcek\\xcf\\xccs6R\\x0e\\xe7m\\xe8\\xdb\\xc5\\xae/*\\xf9\\xa04v\\x84\\xb3<\\xafc\\xb7\\xc2e\\xdb\\xaa\\x86\\xc1\\xd7\\x920\\xdbg\\xcc$eG\\xb6T?\\x86\\xb9\\xc2\\xe4\\x05$d6\\xe4\\xa1\\xd6\\xbf\\xd7\\x17\\x1e#\\xeb\\x0b\\xb6\\xa7\\xbd\\x8eI7\\x07\\xb9\\x90\\xcaU\\x94\\xc7h{\\xad\\xb2\\x9e\\x9e\\xea\\x12\\x02G\\x9e2z\\xd5h\\x9c\\xe7\\x15\\xfbb\\x059\\x8c\\xc8s9\\xc0\\xc5L\\x06\\x96Q\\x93sr\\x92e\\x85<\\xaeT\\n\\x91\\x0e\\xb1kl\\xa9\\\\\\xbe)\\x1b\\x11\\xd6\\xae:\\x03\\x86W\\xee\"5q\\x7fN\\x18p\\xed\\x96\\xd54\\xdc\\xbb\\x8c\\xd7\\xc3m!\\xd7I\\r\\xb4\\x81\\xd5n+\\x07\\tH8\\xc6\\xf8\\xad\\x03`\\xe0\\xf6\\x9d\\xd2\\xed\\xa5\\x88\\xf7\\x1b<\\xe7^\\xf1V\\xe4\\xa9Q\\x93%\\xf7\\x92\\xd9P\\xfb0V\\x01$\\xb6\\xb0\\x12\\x9e\\xfc\\xb9\\xea\\r8\\x02A#o\\x97\\xfb\\n\\xfd%#*\\x1fid\\xc89\\xd8\\x9b\\x9e@\\x0f\\xe3\\x8d\\x96E\\x8cE\\xc5\\xd0\\xe4\\xc5\\x8f\\x0c\\x1c\\xa5\\x9c\\xee\\xafSR\\x81y=0+Uq\\x0fI\\xda\\xa7hH\\xf6\\xd4j+t\\'X\\xbb\\xb8\\xe4\\x86\\xe0CiFr\\x82\\x1bBO^d6\\xca\\xbcD\\xa4\\x83\\xef\\xf3\\xa9X\\xec\\x05:\\x8b\\x85v\\r9\\xc3\\xc75#\\xba\\xa5\\xd9\\x177\\x16\\xa4\\xc5\\xb6\\xa5\\xa6\\x93\\xcf\\x82\\x90y\\x899\\xcf\\xbc\\x9c\\xa4n\\x01\\xce\\xe2\\xaa\\x9a\\x88\\xdb!\\x8c\\x9e\\xb5\\xed\\xe1\\xbf\\x85\\x8d\\xfb\\x8a\\xb7>\\x11<t\\xe6\\xae>\\xb47\\xb0v\\xd7\\xd2\\xfb\\x13{r;{P\\xa2d\\xb2\\xc2\\x10\\xd3G\\xed\\\\8\\x1e\\x9ef\\xa3\\x9d\\x9c\\x94\\xa84\\xc2T\\xea\\xc6\\xc1)\\x19\\xcd$\\xb4\\xaet\\xc7W\\xcf\\xe1\\xb2\\x9ft\\xaf\\xbf\\xa8\\x15\\xda\\x9c\\r#\\xc1\\x80<0vR\\x93\\xf7\\x95\\xf3\\xab\\x1b\\xa0\\x8b\\x87R\\xf1\\xded\\x86\\xe2\\x8f\\xe0\\xceU\\xf9\\nA\"8P(\\x0e\\xbe|\\xc8\\xc04\\xf1\\xbbkm\\xb7\\xe2\\xcaQI\\xeb\\xbe\\xe6\\x92\\xcbe\\xcc4=\\xc1\\xe7Id\\x8a\\xc1\\xa04]\\xcf\\x89:\\xe2\\xcb\\xa4l\\xad\\x91*\\xeb),\\x95\\xa4d2\\xd7W\\x1d?\\xca\\x84\\x05(\\xfa\\n\\xf65\\r\\xc7\\x8c\\x96\\xd8\\x82\\x80\\xdcX\\xe8KL$m\\xca\\x84\\'\\x95#\\xf2\\x02\\xb1\\x87\\xd0\\x1bA\\xc5\\xf05\\x86\\xbc\\x90P\\xe4\\xb0\\xe2,\\xb0\\xd3\\x8d\\xda\\x05\\ty\\xe5\\x7f\\xbd\\x96\\xd2\\x0f\\x90P\\xef[<cm\\xea\\xbb\\xcd\\xca{W\\x90D\\x82\\xaa p\\xf3\\x88\\x12\\xb4\\xbc\\xb6\\xd8\\x9a\\xea\\xdc\\xb4\\xa8\\xfb\\xc3\\xaa\\x99\\xfed\\xfay\\x8a\\x1f+\\xef\\nv\\xc67\\x07\\xbdg\\xaeF\\xa1{h\\x86:\\x80cx\\xb8+f\\xfdd\\xcd\\xce\\x02^\\x8e\\xb0\\xe2\\x16\\xd0XRNA\\x07\\xa1\\x1e\\x94\\x1f\\xd2\\xd7\\xe6\\xda\\xe2\\x0e\\xa1\\xb3\\xc9!(\\x9d \\xad\\x93\\xfe\\xd1#q\\xf3\\x1f\\xb5B\\xf0\\xd3]\\x9bi\\xfa\\x96\\xe8\\xff\\x00$U\\xed\\x15\\xd5\\xf4B\\x8f\\xe0\\'\\xc8\\xf6\\xf2\\xaa]\\xfe\\xe4\\xa8\\xda\\xcam\\xc2\"\\xb2\\xb6\\'\\x97PA\\xeb\\xca\\xaaW;1\\x05\\x01\\x8b\\x0ctR\\xcb\\x0b\\xb6#C\\xed\\xd1i\\x89\\x0b\\x1c\\x84\\x01\\xb0\\xdb\\x14$\\xe3\\x02\\xf94\\x93\\xe0\\xfe\\'\\x9b\\xff\\x00\\xaa\\x8aI\\x9a\\xd4\\xd6Z\\x90\\xc1\\xe6e\\xd6\\x03\\xc9=\\xb0\\xa1\\x91B^1\\xbb\\x9d7\\xcb\\xe7%\\x03\\xf54\\xeeK;\\x18\"P;T7\\t.\\xe9\\x8d>u\\xad\\xe5\\x84\\xa2s<\\xcd\\xf3\\x1c\\x0f\\x15 \\xe0|\\xc1?\\x95\\x14\\xee\\x18M\\x8eRN\\xe5\\x0c{\\xde\\x84\\x8a\\xcd\\x91^[\\x0e!\\xd6\\x16\\xa6\\xddmAHZz\\xa4\\x8e\\x84Q\\x8a\\xdb\\xad[\\xbf\\xe9\\xb9\\x88{\\xec\\xe6\\x16\\x88q\\x03\\xf8\\xcfB=\\x0f\\xefM(\\xde+Ln&n\\xc7t\\xe3\\xc6\\xe5\\xb2\\x1c\\x1e\\x89OoQT\\x8e \\xe9\\xb1\\xa75Z\\xd7\\x1d!0\\xeeh\\xf6\\x96\\xc0\\x18\\ts\\xf1\\xa4|\\xf7\\xf9\\xd5\\xb29*\\xb49\\xe4\\x90\\x9f\\xd3\\x15m\\xd7\\xdap\\xea-.\\xf1a\\x19\\x9boO\\xb51\\x8e\\xa4\\x04\\xfb\\xc9\\xf9\\x8f\\xd4\\nA\\xa8(^\\x1dS\\xe8\\xb5ly\\xda\\xf6>\\xd5\\x9d\\xd6>\\xd1C\\xa6\\xf5R\\xd5\\xae!s\\xdaB\\x129\\xd0\\xd0\\x0bW\\x9ew\\x1f\\xa5Y\\xe5\\xcaj:\\x17%\\xe5\\x14\\xb6\\x91\\x93\\xdc\\xfc\\x07\\xadP\\xee\\x13\\x04\\xf9n\\xc9\\xe5)\\xe79\\t\\'8\\x03aW\\xe8\\xd8K\\xf3pD\\xfe\\xd3\\xd51\\x94\\xdd\\x00=g\\x1b\\xdb\\xb0__\\x1f\\x8aE=k\\xb2\\x05\"\\x95\\x11\\xd3zP8:+ \\xfa\\xd1\\x8b\\xaf6_\\r~A\\x07#\\xa6\\xf5\\xca\\xd47\\xc6\\xf5\\xf9\\x1e\\xe8\\x04u\\xeb\\\\\\xb9,}\\xd4\\xab\\x1d\\xb7\\x15\\xcaIP%G\\x98\\x9d\\xc9\\xeei|\\x07\\x19*\\x1d1M\\x10\\xb2p\\x107\\xc7SJt+\\x93\\xb6\\xd6\\x86\\xc6] \\n{a\\xb8\\xc5b\\xf3\\x19\\xdb\\x85\\xa1W\\xcb{+\\xe7v\\x0f\\xb4-\\x80\\xf8\\xfe\\x15-\\x1e\\xf0O\\x9e\\x08>\\xa2\\xa2\\x94\\xd9*\\x03u-[\\n\\xb0\\xb2\\x86b\\xb4\\x1bl\\x91\\x81\\xbe\\x13\\xd4\\xf9\\xd79\\xa5\\xe0\\xb4\\xed\\xf5\\xc5(67E\\x08\\x9fH\\xadKe\\xbe\\xbdt\\xb1i\\r?jP\\x86\\xb8\\x90Xf+\\xa9D\\x14\\x14r\\x854\\x02\\xc0\\xe7\\x03p\\xa5g~\\xb9\\xaf\\xd6\\xef\\xa4\\x86\\xb3\\xb6*\\xc0\\xe4\\x1d=aC\\xd6+c\\x90-\\xebq\\x87\\xd6\\x1aB\\xf9y\\x9d\\xe5.\\xf2\\xf8\\xa4\\xa4{\\xf8\\xf9P\\xc1O$\\x9f\\xc5\\xf9W\\xc2\\xea\\x08\\xdf\\x9b?\\nc d`\\x06\\x8bYZ\\x9e\\xb2\\xa2\\xa4\\x83+\\xaf`\\x00\\xec\\x03`\\x15\\x8eg\\x175{\\xcf)\\xf9-AJ\\xd4\\x00$\\xc5\\x07`0;\\x9a\\x80\\xd4\\xfa\\xe6\\xf3\\xaa\\xa3\\xc4j\\xf2\\xecR\\xccD\\x94\\xb2\\x96c\\x84c**Q\\xdb\\xb98\\xc9\\xf4\\x03\\xa55S\\xad\\xf5\\xf7\\xb7\\xf4\\xa8\\xd9m%n\\xb2\\x86\\xc69\\xd4I\\xf2\\xc54A\\x1b\\x0ef\\x8dU\\x8a\\x8cV\\xba\\xaa\\x11\\x04\\xd2\\xb9\\xcc\\x16\\xb0\\'Am\\x06\\x9d\\x81&\\xd9Yi\\x08R\\xc3-\\x8fL\\xa8\\xfc\\xa9\\xd3N\\x06\\x01S\\r\\x92\\xaf\\xe2ss\\xf9R\\xea1\"\\x0f\\xb4\\x05nw\\xda\\x9b=5.\\x1ftr\\x81\\xd2\\xacl\\x85\\xa4\\xddq\\xc7\\xd7\\xcc\\xf3\\x9c\\xdf\\x1a\\xfa\\xd9\\x02\\xbe\\x06\\xdet\\xfb\\x8d-G\\xcf\\x97\\x02\\x96j/\\xbe\\x90\\xeb\\x88\\xcewBNN=OJi\\\\\\xbd\\x16\\xfa\\x07\\xb0[\\xe0\\x9d\\xe9\\xd7\\x1bR\\x0b\\xfa\\xaaA\\n#\\xef\\xa51\\xd8H\\xc7\\xa09\\x15\\xa6\\xf9r\\x01\\xee=hK\\xf4^\\xb65h\\xfa?\\xe86Yh3\\xed\\x10\\x171\\xdd\\xf2V\\xb7^Z\\x8a\\x89\\xf3 \\'\\xf2\\xa2\\xd9NRz\\xeej\\xb1\\xdd<\\x1d\\x17\\x8fK>\\xf59\\x8d\\xb9\\xa6J;\\xfc\\xe9\\xd4br\\x00\\xac\\xf9\\xd9{t.\\xeb\\xa7k\\xe8E$\\x0e\\xe3\\xe1]\\x92w\\xa4P\\xad\\xc5#U\\xc9N\\xa1\\x1c8W\\xa9\\x91q\\xb2*\\xcb-dL\\x82\\n\\x99\\x1d\\xddg9\\xc0\\xff\\x00)\\xfd*\\xb9\\xc6E(i\\xf8\\xa5C\\x05\\xc9IV?\\x97z\\x1e\\xc2\\xb9\\xc9\\xb4\\xccfe\\xbd\\xd2\\xcc\\x86W\\x94(~\\xa0\\xfa\\x1e\\x95q\\xbfjH\\xfa\\xc9\\xed<\\xda\\x1b\\x1c\\xee\\xcaO\\xb41\\xd9\\x18\\xea>\\x07\\xb5J\\xd5\\x8d\\xc4i:\\x19\\xfav\\xecw\\xec(x\\x8c\\x81\\x85u;\\xd2\\xacOr\\xde\\xea\\xddiD\\'\\x94%`wNw\\xa9\\xddi\\xa7\\x17\\xa6oja$\\xaa3\\xa8\\x0e2\\xaf w\\xe5\\xf8\\x8a\\xabH\\xfe\\xe9}\\xf21]n\\x08\\xd1{\\'\\x830\\xd4\\x10\\x8d\\x909\\x15\\xa7T\\xfa\\x15\\xcc\\xda\\xc20~$b\\x8c\\xb6\\x96y\\xdd\\xe4RB\\x81G*\\x87\\x98\\xc5f\\xad\\x17x\\\\\\xdb\\x0bv\\xd5\\xaf\\x01\\xa9(Q\\xf38#\\x02\\xb4<\\xbdCo\\xd2v\\xb9\\xd7\\xbb\\xe3\\x8aj\\x04\\x16\\xb9\\xdc\\xe5\\xfb\\xcb=\\x12\\x84\\xf9\\xa9D\\x80>4\\xe8\\xdb\\xd6!y\\xf4\\xc3#\\xacV:\\xe2\\x84Cb\\xd5\\x17\\x0b\"vj\\x1c\\x85m\\xe6\\t\\xca\\x7f\\xe5\"\\xa8\\xab\\xc2F\\x00\\xab&\\xb5\\xd5r5\\xce\\xa8\\xba\\xdf\\xa72\\xdcgg\\xbb\\xce\\x19l\\x92\\x1aH\\x00%9=p\\x00\\xc9\\xeesU\\x92\\x08\\xd8\\xd1\\xb8\\xd9\\xd1\\xc6\\x1a\\x83\\xd6T\\xba\\xaewJ\\xe3\\xbf\\xc3E\\xd2+\\xb22w\\xa4\\xd2k\\xbf\\x85J6U\\x17\\xec\\x0f*\\x97\\xd36\\x86\\xaf\\xda\\x82\\xdfm\\x91!QX\\x92\\xef+\\x8e\\xa5<\\xc5)\\x00\\x93\\x81\\xe7\\x81\\xb5D\\x11NaN\\x93l\\x99\\x1ae\\xbd\\xe51*3\\x89q\\xa7\\x13\\xd5*\\x07cL\\x908\\xb0\\x86\\x1b\\x1bi\\xde\\x9c\\xd2\\x03\\x81v\\xc8\\xc1\\xc6\\x1e\\x14\\xe9\\xee\\x1f\\xdb`\\xce\\xd1w\\xd9\\x17\\x96T\\xa4\\xc6\\xba6\\xfa\\x90\\xbf\\x05\\xd5\\xa4\\xad\\xa5!i\\x00\\x14\\x90\\x85\\xa4\\x8ce*F3\\xb8\\xc0j*2\\x92|\\xce\\xd5s\\xd4\\x1cQ\\xbc\\xea[ \\xb3Ij+\\x10J\\x82\\xdcCh\\'*\\x0b+\\xcay\\x89\\xe5\\xdc\\x9e\\x9f\\x0e\\x9bUZ \\xc3 |\\xea\\xb5\\x03j\\x1b\\x10mA\\xb9\\x1eJz\\x97D\\xe9/\\x16\\xc9x\\xad}\\xaaJ\\xb3\\x81R$+s\\xda\\xa3\\x9c\\x0bP\\xc3+\\xe4V\\xc4\\x1aAQ\\xa5+\\xfb\\xd9\\n\\xc7\\xf9\\xc9\\xa2W\\xb2\\xaa\\xa5W\\xb1\\xcep\\x08\\xcd \\xa5\\xe78;S \\xc1H\\xc2\\xa4:U\\xf1\\xd8R\\x0bK\\xcc\\x9f\\xefT|\\xb0i.\\xb9H)D\\x0c\\x1anP\\xa7\\x1f$\\xec\\x94\\xa3s\\xe5\\x93L\\x17!\\xe1\\xfe\"\\x8d(\\xcaU \\x94-\\xc2\\x1b\\x1b\\xa8\\xf9\\x9ank\\xe8\\xb9=]\\xc7\\x95\\x1e\\x12R\\x99\\x18\\xd8s\\x0c\\x81_ZnR\\x81Z\\x8a\"\\xb5\\xe6\\x94\\xe3\\xfe\\xf4\\xa3>\\x1b\\x00\\x06\\x1b\\x19\\xf3P\\xc9\\xae\\x9ck\\xc7\\xc9}g\\x03\\xb6i\\xd6)\\x13G]/+\\x91\\x0bR\\x92;\\x93\\xd6\\x94B|&^#l6\\xaf\\xcf\\x14\\xaa\\x9dm\\x83\\xcb\\x19\\x03>t\\xbd\\xaa\\xdc\\xfd\\xfa\\xe7\\n\\xd7\\x1f>=\\xc2SQQ\\x8f\\xe2qa\\x03o\\x8a\\xa9\\xa5*\\xf5\\xff\\x00\\x86Vcb\\xe1\\x8e\\x88\\xb5\\xa9\\xbf\\r\\xc8:~\\x0b+H\\xec\\xb0\\xc2\\n\\xbf\\xe6*\\xabII\\xe5\\xf5\\xa7n\\xb4\\x86\\x9dSL\\xa4!\\xa6\\xf0\\xdaR;\\x04\\x8c\\x00?!H\\xaf\\'\\xd35]*\\xf2;X\\xe9\\xd1\\xa7n\\x8aDr\\xa5Ax\\xe5\\xa2\\xad\\xf9O\\xf0\\x93QL\\x0e^^\\xf9\\xa2\\xc6\\xa6\\x8a\\xd4\\x96\\xcad$8\\xda\\xd7\\x82\\rR\\xae\\xfa]\\xcbj\\x15*\\x00rL\\x04\\'\\xdeQ\\x1b\\xb6O\\x9f\\xa7\\xadg\\xb7\\x0b\\xd6\\xb0\\xfa\\xa6\\xbb+d:\\xa8SM\\x90rv\\xa5\\xd3\\xb8\\xc1\\xeb\\x8a\\xfd\\xec\\xae1\\x1e$\\x95n\\xdc\\x958\\x13\\xe8Rp\\x7fzP\\x8eL\\xf0,\\x92t\\xe0\\x1aw\\xa4\\x0f\\xff\\x008Y\\xfc\\xbca\\xfbS\\x17\\xb6\\x07\\x1f\\n\\x91\\xd1H\\xe7\\xd5\\xf6\\xa0\\x0e\\xe1\\xcc\\xefR\\r5Aq\\'}\\xc3\\xbb\\x91S\\x89\\x8cx\\xfaZK\\xc5 \\xb8\\xdc\\xc49\\xccF\\xe1?w\\x1f\\xad\\x03\\xa4\\x9f\\xb2P\\xa3\\xd6\\xbf\\xf7\\xb4\\xb5\\xc1\\x03\\xf8B\\xbf%\\x03@G\\xff\\x00\\xbb=iA\\xb9Cp\\xc7\\xde\\x95\\xc3\\xb4\\xf9\\x05-\\xc3\\xd7\\x14\\xad]i\\x8d\\xcd\\x86\\xa4JB\\x16<\\xf7\\xc8\\xa2G\\xd2V\\xe8\\xb6l\\x9az\\xd4\\x85\\x14\\xa6\\\\\\xa7\\xa4\\xb8\\x90z\\xf8i\\tN}2\\xb5~T)\\xd1\\xcf\\xa2>\\xad\\xb2\\xb8\\xeb\\xa9e\\xb6\\xe74\\xa5\\xb8\\xb3\\x84\\xa1![\\x93\\xe8\\x052\\xe2^\\xb4\\xfe\\xda\\xeb\\x19\\xf7$)^\\xc2\\xd9\\xf0 \\xa0\\xfe\\x16\\x12N6\\xf3Q\\xca\\x8f\\xaa\\xaa\\xfd;/%\\xf9,\\xc6,\\xe0\\x08\\xedT\\xec\\xf2/\\x07\\xa5r\\xb5\\x13\\xb5*\\xb5\\xb6\\xe2z\\xe0\\xd2\\x04\\x15\\xa8% \\xa9J8\\x00\\x0e\\xa6\\x88\\xbb@\\xb3\\x8b\\x94\\x9d\\xcd(\\rK\\xd9t\\x85\\xf6\\xfe\\xa7>\\xa8\\xb5\\xc8\\x92\\x10\\x92\\xa5+\\x97\\x95;\\x0c\\xe3\\'\\x00\\x9fN\\xb5\\x0e22\\x08\\xc1\\xee\\rF\\xd7\\x82l\\nqc\\x9a\\x01#t\\xafj\\xfd\\xd5\\'\\x15\\xc6qJ#\\x15*jH\\x1c\\x1ax\\xcb\\xa5-\\x80<\\xa9\\xa2\\xd3\\xcaMv\\x85\\xec1\\\\\\r\\x97\\'ado\\x8c\\xe6\\xbb\\xf1p\\x7f\\\\S`\\xb3\\x8d\\xab\\x9el\\xd4\\x97H\\xbbS\\xa4\\x93I-d\\xf5\\xaf\\xc5X\\xda\\x93Q\\xa6\\x12\\xb9p\\xaf\\xbc)\\xf4T{\\xbe@\\xeej?r\\xa0\\x122s\\xb0\\x15;~\\xb2\\xca\\xd3\\x17\\xa96k\\xb2\\x9b\\xf6\\xb8\\x85)x2\\xae`\\x14R\\x14S\\x9e\\xe4g\\x07\\xd4\\x1ac\\\\3X\\xa7e%\\xb7\\xe0\\xbe)\\xe4\\xb60\\xd8\\xc9\\xf4\\xae\\x03/\\xbe\\xa2T\\x08O\\xae\\xd5\\xfa;\\x8f\\xf4f9B\\x7f\\x89B\\x97[\\x8a\\x19J\\x9d\\xca\\xb1\\xbe*t\\xc5\\xca\\xc2\"\\xa4$aK\\xc5_\\xb8\\x03lU\\xdf\\x8d\\x9c<\\x8c\\x13\\x90u\\x147T<\\xc3nx\\x87\\xfe\\x8a\\x1d\\x16\\xc771$\\x93G\\xaf\\xa1\\xbd\\xa4\\xdc~\\x90zU\\xd5$\\xa9\\x9bsS\\'8\\x07nH\\xebJO\\xfcN\\nc\\xb6\\\\\\xbdD[\\xa9q\\xe5\\xa8\\x0c\\xf3(\\x9f\\xcc\\xd7\\x05H\\xe5\\xd8cz\\xfc\\x1b\\x03\\x03\\xae\\xd8\\xaf\\xdc\\xb9\\x1dv\\xc6\\xf5\\x00JW\\x9b\\x17\\xa6\\xcb\\xcc$\\x8e\\xbc\\xe0\\xd5\\x97O\\xb0\\xdb6\\x97\\xc3\\xcd\\xa1\\xd0\\xf29JT2\\x0f\\xca\\xa1\\xaeQ\\xca\\x18JU\\xba\\xb2\\x0e<\\xaa\\xc7`\\x8c\\xb9\\x0c\\xa1\\x18\\'j\\xcf6\\xf9\\xac\\xb5rHr\\x80\\x84\\xba\\xe3D\\xb9\\xa6T\\xcc\\xf8i\\xe6\\xb6JV\\x12N\\xe5\\xa5\\x7f\\t\\xf4\\xf2\\xaf\\x91-\\xdfZp\\xd5n\\xb4\\x01v\\xdb9\\xc7\\x07\\x99I\\x03\\x98~\\xb9\\xf9V\\x97^\\x97\\x89u\\xb39\\x06\\xea\\xd0z3\\xad\\x14\\xad?\\x1e\\xe0\\xf64%\\xb7i\\x17t\\x84;\\xb5\\xb6C\\x89\\x93\\x15O8\\xe3\\x0b\\x1dT\\xd9N0\\xa1\\xe7\\xb5+\\xdaZ\\x8b7\\x15/\\x81\\xa1\\xfe\\xbbH\\xf6\\x84\\x07uy\\x05G\\xbdX8s\\x11Su|2\\x9d\\x83@\\xac\\x9f-\\xf1\\xfdj\\xb0\\xf3\\x98H\\xab\\x87\\t^\\t\\xd5\\xe9\\x1d\\xd4\\xc1\\x00y\\xfb\\xc9\\xa9\\xda\\x11\\x1cJO\\xb9xE\\xbde\\x07\\x9e\\xd9%\\x9e\\xa1\\xd6\\xd4\\x93\\xf1\\xc6\\xd5\\x9c\\x1e\\'\\xc3\\xc15\\xa6\\xb5c\\x98r:\\x0fE\\xab\\x06\\xb3M\\xc5\\xb0\\xc4\\xa9\\x0c\\x8d\\xfc\\'\\x14\\x9f\\xc8\\xd3F\\x8eB\\xf0\\xa9/\\x1b\\xdb\\xdc\\xab\\x17\\x17\\x94],\\x8f\\xba\\x00$t\\xe6\\xa6A(\\xee\\x85\\x9f\\x95:\\xbb#.%\\xc1\\xfeSM\\x1b\\xce:\\xd1\\xb8-\\x90Ydk\\xf3zK\\xb3\\x1f\\xf4\\xbe8\\x86\\xc0\\xce\\x14\\x9a\\xd3?F\\xfe\\x1d\\xcb\\xb1?\\xfd\\xac\\xbd\\xc7i\\xa7f\\xc4\\xff\\x00\\xca\\x92\\xe0\\nRZQ\\xf7\\x9e\\xfe\\\\\\x81\\x81\\xdf\\n\\'\\xa1\\x19\\xce\\xf6kC\\xba\\x8a\\xf5n\\xb5EPK\\xd3d\":TFBy\\x8e9\\xbeC\\x7f\\x95o\\xfd?m\\x83o\\xb6\\xc5\\xb5B%MB\\x8a\\xd4h\\xeass\\xc8\\x81\\x80~8H\\xaa5\\xf2Y\\xb9\\x07\\x15s\\n\\x84:C+\\xbf\\x0e\\xdd\\xe9\\x86\\xa4\\xb63qu\\x92\\x90\\x97\\x10NU\\xee\\xa8\\xa5\\xbf\\x98\\xf3\\xac\\x9f\\xc5\\xde\\x1aH\\xd3S\\x1f\\xba\\xc4mA\\x87\\x1cQ\\x90\\xd6>\\xe1\\'e\\xa7\\xcd\\'#>D\\xf9t\\xdc0\\x19D\\xa4-.\\x8eL\\xa0\\x05![g\\xe1P\\xda\\xc6\\x06\\x9c\\x87\\xa7\\xa4?\\xaf\\xa6A\\x85j\\x07\\xc0.\\xcbW/>F\\xc9H\\x19R\\x95\\x8e\\xc9\\x04\\xfc\\xa8T\\x0e|o\\x05\\x9e\\x08\\xf5];*#9\\xcd\\xbbW\\x9cY\\xda\\xa4\\xac\\x16IZ\\x92\\xef\\x1a\\xdb\\x01\\xd8\\xec\\xbc\\xf98rC\\xc1\\xb6\\xd0\\x00\\xc9*Q\\xe8*\\xd1\\xaf\\xac\\x1aI\\x8b\\x82\\xe4p\\xf6\\xfc\\xbb\\x847\\x1c\\xc7\\xb2H\\x86\\xe3.7\\xfc\\xc0\\xa8aI\\xfc\\x8f\\xa5#\\xa0\\xf4f\\xaa\\xbd\\xde\\xda{H\\xdbSqv\\x1a\\xb9\\x9e[\\x89H\\x8e\\xd0\\xc1\\xc8qk\\xc2\\x06\\xd98\\'8\\x04\\x81\\xb5\\x1e\\x92B!/\\xf5M\\xb8\\xe9n\\xf5\\x8e\\x11e\\x940\\xf5\\xbb\\xb5\\xba{\\xc4\\xde\\r\\xea\\x9e\\x15\\x8bs\\xba\\x95\\xa8\\xcf\\xc1\\xb86\\x15\\x1el\\'\\x0b\\xac(\\x90O\\'1\\x03\\xde\\xd8\\xed\\xe8|\\x8d\\x0f\\xd2v\\x15\\xa0\\xf5N\\x88\\xe2\\x9e\\xa6\\xb3\\x9bT\\x8bG\\xb7x\\x8bi\\xf7_7\\xb6ex\\xc5\\x1c\\xc9AG\\xbd\\xb1\\xe5P\\x1bu\\xe5\\x15Bk\\x80|Ht\\xb8\\x19\\xd2\\x92\\x9e\\r!KqM\\xbe\\xd2\\xd2\\x80\\x9f\\xbd\\x92\\x17\\x80Gq\\x9c\\xd0\\xfaJ\\xf6:?\\xbf\\x91\\xb9\\xbb\\x08\\xf9\\xab\\x13\\xd2\\xb8?\\xee\\xd8m\\xdcP\\xec\\xab\\xa5|*\\xdf\\x1d\\xa9y\\x10\\xdf\\x8d\\xe2\\x07\\x90\\x13\\xe1\\xac\\xb6\\xac(\\x1c\\x10q\\xdbb=E5\\'\\x1dh\\xcd\\xd0\\xf5\\xder)Hp\\xa5\\\\\\xe63\\x0e\\xdd\\x19\\xe9\\x92\\xdfW#L0\\xd9Z\\xd6\\xaf$\\xa4nMLi}\\x11\\xa8\\xf5\\xb3\\xb2\\x1a\\xd2vi\\x97eFHS\\xc6;D\\xa5\\xb0N\\x072\\xba\\x0c\\xfa\\xf9\\x1f#Z\\xa7\\x80\\xfc\\x18\\xbd\\xe88W;\\xb5\\xf3\\xd9\\xa1_\\xa5\\xa91\\xdae\\x0bi\\xf7\\x18`n\\xaf|\\x12\\x12\\xa5\\x1cg\\x07\\xa2pz\\x91U\\xa6\\x9d\\xb14\\xf1<\\x95\\xfaZ9j\\x9e\\x00\\x06\\xdc\\xd5\\x07\\x87<\\x0csMH\\x8f|\\xe2*\\x9a\\x8a\\xf8\\x1c\\xf1-\\xc9X[\\xad\\xacn\\x16\\xe7\\xe1I\\xf2NI\\x1dH\\x04\\n_\\x89\\x97\\x9d%i\\xd2W\\xd86\\x8b\\x04Gn\\x17yI.\\xcf\\x92\\xd7\\x8c\\xfa\\x1c\\'9\\x0e\\xab%\\x18\\x00\\xec\\x08\\xceN\\xddh\\xcf\\xabnV\\xcd\\x13\\x1cI\\xd4\\xb0#\\xa1\\x99+-\\xb6\\xfc\\xb7\\xd2\\xeeV\\x06H9>\\xee\\xd9\\xed\\xd8\\xd0/\\x8a\\\\jn\\xfd\\xa7$i\\x9d<\\x88\\xcc[\\xa5,\\x19\\x06;Xo\\x94\\x1c\\xe1#\\x03r@\\xa1\\x91t\\xb3J\\x1cB\\xd1\\xcb\\x1d=\\x1d3\\x98\\x08\\x06\\xc7}M\\xec\\x82\\xde\\xf2\\x922\\xb3\\xcb\\xe5\\x9a\\xe5\\\\\\x89\\x18@\\xf9\\xd7(s(\\x18\\x07\\x03\\xce\\xbe\\x15\\x1a\\xd1\\xacb\\xf8O\\xff\\x00\\xedl/\\xfe\\x1f\\x9ayR\\xf5\\xc6\\xb3\\xd4;xv\\xcb300G\\xe3\\x92\\xf7>G\\xfb\\xb1\\xd4>u\\x8e\\xd0\\x92\\xe2\\xc0H\\xdc\\x9c\\n\\xf4\\xbb\\xe81\\xa5~\\xa5\\xe0\\xb3\\xd7\\x87[\\xc3\\xba\\x8e\\xee\\xfc\\x949\\xcb\\x82c\\xb2\\x03-\\x8fQ\\xcc\\x87\\x08\\xf8\\x9a\\x85\\xe7E\\xcbJ\\x04\\x8c\\x8c\\xf4\\xae\\x14\\x0f)\\xa7\\x05\\x18\\xf3\\x07\\xd2\\xb9RNNv\\xdcTa\"\\xf3\\xa1\\x80.2\\xdbB\\xc7\\xba\\xbct9\\x07\\xe0h\\x87e\\x8e\\xd4~T!8\\x03\\x00\\xfa\\xd6`\\xd1\\x9a\\xad\\xed?rAu\\xc5\\xb9\\x08\\xf5iJ\\xc8\\x07\\xd3\\xca\\xb4\\xde\\x94\\xbaE\\xbf2e\\xdb\\x9c\\xe7h\\x80\\xa2:\\x14\\xfa\\x11Ach\\xba\\xd5WS\\xbe\\x9d\\xf6:\\x8ej\\xf2\\x84\\xe1\\x9c\\x1c\\xe3\\x1dhm~@\\xf6\\xe5)C \\xed\\xbf\\x95\\x12V~\\xc8\\xe3\\xaf.\\xd4>\\xd4m\\xf2\\x948\\xaf\\xe2 \\xd2\\xca4TAYSYY\\x9d\\xb2_\\xa4\\xc4(>\\x1f9Z\\x0e6(;\\x8c~\\xdf*\\x96\\xe1>\\x06\\xb3d\\x9d\\xb0\\xca\\xf03\\xea(\\x85\\xad4\\xd2u\\r\\xbaD\\x92\\xaeY\\xb1\\xf6d\\x9d\\x81Ot\\x9f\\xe9\\xebB\\xad\\x12\\xef\\xd5\\xba\\xe2\\xd4\\xa7\\xc9\\x8e\\x1bx\\xa5A[v#\\x07\\xe7\\\\\\xd3\\xa5\\x96\\x80\\xcd\\xe9\\x94\\xc4\\x8f[c\\xf5\\xda\\x8e\\xda\\xc0\\xe04\\xa1\\xb1h\\x82\\x7f:\\x13q7L*\\xdb;\\xebXh\\x06\\x0c\\xc0\\x16\\xbc\\x7f\\x86\\xe1\\x1b\\x8f\\x81\\xea\\r\\x16u\"\\xc4\\x9bt\\xb9#nwR\\x84\\x01\\xd8\\x8e\\xbf\\x95}\\xb9\\xc6nE\\xb1\\xe8\\xd2\\x9aC\\xac\\xbd\\x18%IP\\xed\\x8f\\xde\\xa2q\\xb3\\xae\\x84RN\\xeaw_\\xc5d\\xbb\\x99\\xf7>+\\xa8\\xe4\\xa9]\\x12q\\xe6j\\xc7\\xac\\xad\\x82\\xc9u\\x97\\x05\\xa5\\x17\\x9b\\x8e\\xf0\\tY\\xee\\x9223\\xf9\\xd5k\\x9b>\\x94f\\x07\\x02\\xc0B\\x19^o9)\\xfc\\x19\\xcfZe\\xc5\\x9f\\t\\xc5\"TWP\\xf3K\\x07\\x18RNA\\xad\\xb9\\xa2\\xb5G\\xb5\\x882]\"L9\\x8d\\xa5\\xc6\\xdd\\xceH\\n\\x19\\xfd:|\\xab\\x1dh\\x8d\\x19?\\x88\\x1a\\x9e\\x0e\\x9c\\xb3\\xbd\\x15\\x89\\xd3\\x1b}L*S\\x9e\\x1beM\\xb2\\xb7yJ\\xbb\\x15rr\\x8c\\xed\\x95\\x0c\\xe0oD\\x1b\\x15\\xfe\\xe5\\xc2%\\xc2\\xb0k>@\\x99,\"h\\x8e\\xcb\\xbc\\xef\\xdbR\\xe8\\n@p\\r\\x92T\\x92\\x16[\\xfb\\xc9\\x04\\x12\\x01$UZ\\xcc\\xb2<5\\xa7\\xac5\\xb7\\x1b}\\x05-\\x04\\xc6\\x02I\\xf5O\\x9a\\xd6Z\\xcf\\x88v\\xae\\x18YUv\\xbd\\xb7\\xed\\xbe\\xd0Kp\\xe20}\\xf7\\x9e\\xc6BRz\\x04\\xe3r\\xa3\\xf7}I\\x02\\xb1^\\xbe\\xd7\\xd7\\xae$_\\xd5x\\xd4\\xaf%kH)\\x8b\\x15\\xac\\x86c7\\xfc-\\xa7\\xb7l\\xa8\\xeeOZW\\x88Z\\xd5\\xddazJ\\x90\\xfb\\x8eZ\\xed\\xe8,@J\\xb3\\x8eS\\xba\\xd7\\x8e\\xc5D~@U7\\x9c\\x120j\\xd5,\\x02&\\x87;\\xd6I]X\\xe9\\xdd\\x95\\xa7\\xaa\\x15\\xbf\\x87\\x9a\"o\\x11\\xb5}\\xbbN[\\x16ZT\\x95\\x17$\\xc8\\xc6Dx\\xe8\\xdd\\xc7H\\xef\\x84\\xec\\x07u\\x14\\x8e\\xf5\\xbb\\xec\\xfaZ\\xd9e\\xb41j\\xb4ADm3\\x05kb\\x1cc\\x83\\xed\\x12\\x10G;\\x8b?\\x8c%_x\\x9f\\xbe\\xb0s\\x84\\xa5\"\\x82\\x9fEk\\n\\xec\\x1a7P\\xeb \\xc1v\\xe5r\\x90 [\\x92\\x00\\xe6Sm\\x11\\xb2}\\x17!m\\x82?\\xd9\\n\\xd13\\xd2\\xcd\\xb5\\xf6-\\xc8p*\\x15\\xb9\\x80\\xc1q\\'w9r\\xa7\\x1d\\xf5*QZ\\xbec\\xca\\xb0\\xb8\\xedk\\xa7\\xa914\\xf5Y\\xe7\\xc4\\xfb6E0\\xe8\\x03\\x18\\x1eF\\xae\\xf2\\xfeS>E\\xde/b\\xce\\x87\\xdd\\xf6F\\x19C\\xb3\\x94\\x83\\xc8\\xa7\\n\\xce\\x10\\xc0P\\xdd<\\xd8*Q\\x1b\\x84\\x8d\\xb1\\x9c\\xd6U\\xe2\\x9e\\xb7\\x93\\xc5\\x9e)\\xdb8e\\xa5f}U\\xa5\\xbe\\xb8b\\xcc\\xc2\\x19\\xd9\\x0f:]\\r\\xaeK\\x88I\\x1c\\xe8I\\'\\x959\\xc6\\x13\\x9e\\xaa&\\x8f\\xba\\x8bY\\xb9\\xa1\\xb8U\\xa8\\xb5zp\\x8b\\xa4\\xb8\\xeb\\x97\\x1f\\n\\n\\xe4~A\\xf0c\\x01\\xe7\\xc8\\x8c(yo\\xe7Y_\\x81\\xbc@V\\x80kR=6%\\xa1\\xdbD8\\x9e\\xd2\\xe4\\x97 6n\\x0byKB[a\\x89\\x18\\xe7O2\\xb7;\\x90\\x12\\x95\\xab\\x19\\x1b\\xae\\x11\\x0b\\x9b\\x1c\\x95A\\xb9\\x8bto\\xea<{\\xf5\\x16\\xef]_ .l7\\xb0;\\xf7}]R\\xb5\\x1e\\x85\\xbe\\xe8\\xf4>\\x9dAi\\x91\\x0e\\x18\\x9e\\xfd\\xbd\\xa9/7\\xe1\\xb7%\\xc6\\x96R\\xb2\\xd0\\'+H#u\\' t\\'5\\x03\\xa6g\\xbb\\xa6/6\\xeb\\xd4\\x14\\xb2\\xec\\xeb|\\x84\\xc8e2Z\\x0e\\xb4V\\x93\\x91\\xcc\\x83\\xb2\\x86E^8\\xdf\\xc48|H\\xd6\\xd1\\xb5\\x1d\\xaed\\xd7\\xa2\\xbdl\\x8c\\xda \\xcc96\\xc2\\x84\\xf2\\xae:1\\xb7 P+I\\x00d/\\'|\\xd0\\xdd\\xd79\\x16w\\xd8\\xfb\\xc3\\xe0kwL\\xe7\\xcb\\x03]8\\xeb\\x1d\\xc2\\xceI\\x95\\xb2\\x1c\\x9b#\\xa5\\xb3\\xe91{\\x87\\t\\xebt\\xab\\r\\xb9|\\xca\\xf1C\\xf0\\xc9\\x8d\\xef\\x13\\x9c\\xa9\\')>[cj\\xae\\xcf\\xfaAkw$\\x95F\\x9c\\xcc\\x08\\xc4\\xe44\\xdb\\x01\\x7f\\x9a\\x88\\xc9\\xfd(U\\xe3\\x12\\x02\\xc7\\xdeH\\xe5P\\xf4\\xeck\\x92\\xf0X\\xc1\\xde\\x9c)\\xe1\\x06\\xe1\\xaa\\xc7\\xa7\\xd5e\\xcb\\x9c\\xfdv\\xab&\\xa8\\xd6w\\x9de!\\xbf\\xed\\x1d\\xc5\\xe9\\x8d\\xa3\\x0be$\\xe1\\x08=\\xfd\\xda\\x87\\x03\\x90\\xe1cs\\xf3\\x1f*\\x8eK\\xa5\\xad\\x88\\nNs\\x83\\xda\\x9d\\x99Hu (r\\xe3\\xa1\\xf2\\xa9\\xdb\\x95\\xa2\\xc0YT{\\xdf#\\xb3<\\xdc\\xa5\\xb9\\x92\\x90|\\xa9\\x15\\xbb\\x9d\\xba\\xd7\\t\\'8p\\x15#?xWn\\x06\\xd1\\xf77&\\x9dt\\xc5\\xf9*(m\\xc5\\x8e\\xa9I#\\x1e~u\\xedW\\x0e\\xf4\\xa2tF\\x84\\xd2\\xfai\\xa4!\\x06\\xd3i\\x8d\\x11\\xc2\\xdfE8\\x96\\xc7:\\xbf\\xdeYQ\\xf9\\xd7\\x8blGvbS\\x1a*\\x0b\\x92$\\xb8\\x86[H\\xfcJQ\\x00\\x0f\\xd6\\xbd\\xd1Z\\x12\\x97T\\x11\\xb0H\\x00|\\x80\\x15\\x13\\xf8$%!\\xca7\\xc0$\\r\\xbeT\\x92\\xd1\\xb9=\\xe9\\xe2S\\xee\\xe0\\xf9W+NG\\xe7\\xd2\\x9a\\x99u\\xe2\\xa1\\xd9`u\\xa2\\x0f\\r\\xb5\\xb3\\xbab\\xe6\\x84Hp\\x88n\\x1c(\\x9e\\x89\\xf8\\xfaP\\xf5d\\xf3\\xa7\\xe2i\\xf4c\\xef\\x8f]\\xa8\\x01$\\x1b\\x85\\xec\\xcd\\x86:\\x90c\\x90hV\\xe2\\x83wb\\xe8\\xc3OE \\xa5\\xc4o\\x8e\\xc7\\x15R\\xd4e<\\xb8W^}\\xbdMP\\xb8/\\x7f\\x9c\\xa5.\\x13\\x8e\\x05\\xb0\\xca\\x82\\x11\\xcc2BOl\\xd5\\xe7U\\x1c?\\x1cv.(\\x9f\\xca\\xa6q\\xcc\\xcb\\xac5e)\\xa4\\xa8tD\\xde\\xca\\xa7vH\\xf6vZH\\xc0S\\x80\\xab\\xd7\\x14(\\xe2\\x85\\xb24{\\xa5\\xbetd\\xf8r%\\x07\\x03\\xf8\\xeeF9O\\xa1\\xc5\\x15.\\x8a!\\xd6\\xc7\\xa6hW\\xc4\\xc7\\x14\\xb9V\\xbeo\\xe1s\\xfaTw+\\xb0\\xe2}-\\x80)\\x1d)\\xa9\\xcd\\xe5\\x96`\\\\\\x1c%\\xd6\\xce\\x0e\\x7f\\x1e>\\xea\\xbf\\xa1\\xa2\\xbd\\xe60i\\xb6\\xdb\\xff\\x00b\\x9c\\xfeU\\x9a,\\x0f-\\x8dCn-\\x9c\\x15<\\x12~\\x04\\xd6\\x9d\\xbb\\xac\\xbc\\xc4g\\x17\\xf7\\x96\\xc2T\\xa3\\xebH\\xe1\\xa5\\xd4\\xb5\\xf0\\xb6)\\x89n\\xc5f\\xads\\x11\\x0e\\xeb+\\x83.\\x8c\\xb6\\xb4$\\x9f\\xf8\\x05\\x0en\\x16\\xf7m\\xcfxn\\xfb\\xc8?q`l\\xa1\\xff\\x00\\xaf\\xa5\\x14\\xf5\\xe0\\x03[\\xca\\xc0\\xff\\x00\\x01\\xbf\\xda\\xab\\xd2c71\\x01\\x97\\xd3\\xcc\\x85\\x9f\\x98>c\\xd6\\xa5\\x86S\\x1d\\xb9+\\xe7\\re}\\x08v\\xcf\\x1b\\x1f\\x81\\xec\\xf2S\\\\\\x0f\\xe2\\x0cm\\x19~u\\xa9v\\xebR\\x9a\\x94\\xdb\\x8e\\xbfp\\x90\\xd1T\\xa6\\xd0\\xcb+q,\\xb0\\xb2\\xaeV\\xbcE\\xa5)*\\x03\\x98\\xe4\\x0c\\xe3b\\xc7U\\xdf\\xae|[v\\xf5\\xad.v\\xebl)\\xf6\\xc8\\xac\\xae\\xed&\"\\x14\\xd2f\\xb8\\xb7\\x10\\xd3D\\xb7\\x92\\x94\\xb8A$\\xf2\\xf2\\x82\\x10N3\\x9c\\x8e\\x1cHC\\xaaH\\xdc%D\\x0c\\xfch\\xd7\\xa0\\xac\\xb1\\xa7\\xf0\\x07\\x88o\\xb8\\\\m\\xd4Ji\\xe2\\xa6\\xd5\\x8er\\xc8Am*\\xf3\\x00\\xbc\\xbd\\xbdji\\xda\\xc8$\\xf4\\x80:\\xc4\\xb5\\xbe\\xc2\\x7f\\x9fpX\\xf8\\x8b\\xa4\\x1d\\x11\\xd8\\\\\\xfb\\xbf\\x84\\'B\\xca\\x89\\xe75\\xca\\x9dJ3\\xdf\\x035\\x1e\\x95\\xab=Mu\\x9fu_\\x03E\\x81T\\xd7\\xa1|&e\\xbb.\\x8d\\xe1\\xa4\\x16~\\xe3\\x10\\x9a\\xb8\\xc9l\\x0c\\x7f\\x82\\xec\\x82\\xa3\\xea\\x14\\xe3g>\\x82\\xa5\\xf5\\r\\xc0\\xbb\\xa7n\\x8f!I\\x0e{\\x1b\\x8a\\x1e\\xee2\\xa21\\xfb\\x93U>\\x1aNy\\xfbF\\x93Z\\xd47\\xd2\\x8bA\\x00m\\x8f`@\\xfe\\x94\\xb5\\xc1\\xf5\\xa6\\xc9(\\xa4\\xe3\\x0c\\x84\\xe3\\xb69\\x80\\xaf\"\\x9d\\xa5\\xd2\\xb8\\x9e$\\xf9\\xad\\xc4N\\xca\\xc1nC\\xc9V>\\x94\\xf2\\x9e\\xb3p\\xfaE\\x9cr\\x86\\xdb\\xbcC\\x86y>\\xe9K-+\\x18\\xf9\\xa6\\xb1\\x9a\\xd6\\x87\\xd2\\x92I\\n\\x1d\\xbc\\xeb^\\xfd/\\\\.i\\xf9ex$j\\x82\\x01\\xff\\x00q\\xda\\xc7\\x19!U\\xbb\\xc0\\x05\\xa8\\xfb\\xc9Y\\xccL\\xdeq\\xdc\\x17J\\xd8\\x9cR\\xa9_\\x8a\\xd8O\\xe2F\\xe9\\xf5\\xf4\\xa4U\\xda\\xb9\\n \\x8clGz\\xd0\\xde\\xc8R\\xed.r+\\x99;\\x8e\\x84y\\x8aQM\\x82\\x9f\\x11\\x9d\\xd3\\xdcyRo\\x01\\xcc\\x92\\x00\\x1c\\xc3\\'\\xe3_\\x1bqM(\\x14\\x1e\\xbd\\xa9x\\xd9r\\xe8\\xe0\\xe3z\\xf9\\xd0\\xe0\\xd2\\xee\\xa18\\x0b\\x03\\x07\\xd2\\x91\\xeciH\\xb1H\\xbe%n4ImdR\\x88Z\\x97\\xba\\xb75\\xcf\\x9f\\xc2\\xbbkl\\x91\\xd4\\x0c\\xd7\\r\\xd7+\\xa7\\x0cc*\\xe1\\xc4\\xed\\x11\\x01\\xac)O\\xea\\x0b{)\\x07\\xa1R\\xa46+\\xdb2\\xd8+\\'\\xcc\\x9a\\xf1\\xef\\xe8\\xabf\\x8b\\xa8>\\x90\\xdc=\\x87</\\xc2E\\xc9S\\x01B\\xb0|H\\xed-\\xf6\\xfe\\\\\\xed\\xa7#\\xb8\\xcd{\\x12?}\\xe9\\x8e\\xd4\\xa6\\x90\\x93\\r\\xe2\\xbe\\x94mJ\\x91\\xd2\\xbf\\x01\\xb56\\xe9,\\xbf\\xff\\xd9'"
      ]
     },
     "execution_count": 45,
     "metadata": {},
     "output_type": "execute_result"
    }
   ],
   "source": [
    "## This is a binary file\n",
    "img_link.content"
   ]
  },
  {
   "cell_type": "code",
   "execution_count": 46,
   "id": "75ab49aa-47fa-42a5-b598-918006591e38",
   "metadata": {},
   "outputs": [],
   "source": [
    "## Open a new file and write this image to that\n",
    "## Mode is wb(write binary)\n",
    "f = open('myImage.jpg', 'wb')"
   ]
  },
  {
   "cell_type": "code",
   "execution_count": 47,
   "id": "da233479-1831-4b1f-9a55-3fed0581cce4",
   "metadata": {},
   "outputs": [
    {
     "data": {
      "text/plain": [
       "24355"
      ]
     },
     "execution_count": 47,
     "metadata": {},
     "output_type": "execute_result"
    }
   ],
   "source": [
    "## Write the image content to the file\n",
    "f.write(img_link.content)"
   ]
  },
  {
   "cell_type": "code",
   "execution_count": 48,
   "id": "21a22941-3228-4506-be21-24f7dc1568c0",
   "metadata": {},
   "outputs": [],
   "source": [
    "f.close()"
   ]
  },
  {
   "cell_type": "code",
   "execution_count": null,
   "id": "647c0788-c2a0-4b1e-92dd-613da21f642d",
   "metadata": {},
   "outputs": [],
   "source": []
  }
 ],
 "metadata": {
  "kernelspec": {
   "display_name": "Python 3 (ipykernel)",
   "language": "python",
   "name": "python3"
  },
  "language_info": {
   "codemirror_mode": {
    "name": "ipython",
    "version": 3
   },
   "file_extension": ".py",
   "mimetype": "text/x-python",
   "name": "python",
   "nbconvert_exporter": "python",
   "pygments_lexer": "ipython3",
   "version": "3.11.7"
  }
 },
 "nbformat": 4,
 "nbformat_minor": 5
}
