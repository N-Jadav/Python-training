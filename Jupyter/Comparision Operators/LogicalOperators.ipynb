{
 "cells": [
  {
   "cell_type": "code",
   "execution_count": 1,
   "id": "de30129f-614f-4a1c-95e0-20b2d80ec24d",
   "metadata": {},
   "outputs": [
    {
     "data": {
      "text/plain": [
       "False"
      ]
     },
     "execution_count": 1,
     "metadata": {},
     "output_type": "execute_result"
    }
   ],
   "source": [
    "## AND operator\n",
    "1<2 and 2>3"
   ]
  },
  {
   "cell_type": "code",
   "execution_count": 2,
   "id": "666134b9-ab42-40b1-bdb7-e7080c8bd94e",
   "metadata": {},
   "outputs": [
    {
     "data": {
      "text/plain": [
       "True"
      ]
     },
     "execution_count": 2,
     "metadata": {},
     "output_type": "execute_result"
    }
   ],
   "source": [
    "1<2 and 5<6"
   ]
  },
  {
   "cell_type": "code",
   "execution_count": 3,
   "id": "204b8f91-0721-4a1e-9e91-1b503639e4ca",
   "metadata": {},
   "outputs": [
    {
     "data": {
      "text/plain": [
       "True"
      ]
     },
     "execution_count": 3,
     "metadata": {},
     "output_type": "execute_result"
    }
   ],
   "source": [
    "## OR operator\n",
    "1<2 or 5>6"
   ]
  },
  {
   "cell_type": "code",
   "execution_count": 5,
   "id": "eafdfecf-d889-40c2-8397-f7556135a5d4",
   "metadata": {},
   "outputs": [
    {
     "data": {
      "text/plain": [
       "False"
      ]
     },
     "execution_count": 5,
     "metadata": {},
     "output_type": "execute_result"
    }
   ],
   "source": [
    "1>2 or 2>3"
   ]
  },
  {
   "cell_type": "code",
   "execution_count": 6,
   "id": "1089c27d-001f-4a1f-9a01-688798f70468",
   "metadata": {},
   "outputs": [
    {
     "data": {
      "text/plain": [
       "True"
      ]
     },
     "execution_count": 6,
     "metadata": {},
     "output_type": "execute_result"
    }
   ],
   "source": [
    "## NOT operator\n",
    "1 == 1 "
   ]
  },
  {
   "cell_type": "code",
   "execution_count": 7,
   "id": "de22df69-7afa-4005-bc90-f9ffde70efe7",
   "metadata": {},
   "outputs": [
    {
     "data": {
      "text/plain": [
       "False"
      ]
     },
     "execution_count": 7,
     "metadata": {},
     "output_type": "execute_result"
    }
   ],
   "source": [
    "not(1 ==1)"
   ]
  },
  {
   "cell_type": "code",
   "execution_count": null,
   "id": "b2a2329d-35de-4a6f-a85c-5c03e5c7bf98",
   "metadata": {},
   "outputs": [],
   "source": []
  }
 ],
 "metadata": {
  "kernelspec": {
   "display_name": "Python 3 (ipykernel)",
   "language": "python",
   "name": "python3"
  },
  "language_info": {
   "codemirror_mode": {
    "name": "ipython",
    "version": 3
   },
   "file_extension": ".py",
   "mimetype": "text/x-python",
   "name": "python",
   "nbconvert_exporter": "python",
   "pygments_lexer": "ipython3",
   "version": "3.11.7"
  }
 },
 "nbformat": 4,
 "nbformat_minor": 5
}
