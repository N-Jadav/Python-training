{
 "cells": [
  {
   "cell_type": "code",
   "execution_count": 2,
   "id": "07817981-6c61-44d4-9b32-23f83475334b",
   "metadata": {},
   "outputs": [],
   "source": [
    "# Try: This is the block of code to be attempted (may lead to an error)\n",
    "# Except: Block of code will execute in case there is an error in try block\n",
    "# Finally: A final block of code to be executed, regardless of error"
   ]
  },
  {
   "cell_type": "code",
   "execution_count": 10,
   "id": "cc49d9e6-9059-4d8e-acbc-73b2abc0dd0b",
   "metadata": {},
   "outputs": [],
   "source": [
    "def add(n1, n2):\n",
    "    try:\n",
    "        result = n1+n2\n",
    "        return result\n",
    "    except:\n",
    "        print(\"Error in adding\")\n",
    "        return 0"
   ]
  },
  {
   "cell_type": "code",
   "execution_count": 11,
   "id": "71f2d193-0596-4207-90c8-25ecd9386ae1",
   "metadata": {},
   "outputs": [
    {
     "data": {
      "text/plain": [
       "30"
      ]
     },
     "execution_count": 11,
     "metadata": {},
     "output_type": "execute_result"
    }
   ],
   "source": [
    "add(10,20)"
   ]
  },
  {
   "cell_type": "code",
   "execution_count": 12,
   "id": "c9cd4c33-58e3-4628-a0d0-63f3dab475e3",
   "metadata": {},
   "outputs": [
    {
     "name": "stdin",
     "output_type": "stream",
     "text": [
      "Please provide a number 12\n"
     ]
    },
    {
     "name": "stdout",
     "output_type": "stream",
     "text": [
      "Error in adding\n",
      "Result is 0\n"
     ]
    }
   ],
   "source": [
    "n1 = 10\n",
    "n2 = input(\"Please provide a number\")\n",
    "result = add(n1,n2)\n",
    "print(f\"Result is {result}\")"
   ]
  },
  {
   "cell_type": "code",
   "execution_count": 14,
   "id": "34d8f5ae-d332-4081-9229-15b97eb199e0",
   "metadata": {},
   "outputs": [
    {
     "name": "stdout",
     "output_type": "stream",
     "text": [
      "There was an OS error\n",
      "Always executed\n"
     ]
    }
   ],
   "source": [
    "try:\n",
    "    f = open('testfile', 'r')\n",
    "    f.write(\"Write a test line\")\n",
    "except TypeError:\n",
    "    print(\"There was a type error\")\n",
    "except:\n",
    "    print(\"All other errors\")\n",
    "finally:\n",
    "    print(\"Always executed\")"
   ]
  },
  {
   "cell_type": "code",
   "execution_count": null,
   "id": "5b15d652-c0b5-44b9-9b3f-5c8fe2729934",
   "metadata": {},
   "outputs": [],
   "source": []
  }
 ],
 "metadata": {
  "kernelspec": {
   "display_name": "Python 3 (ipykernel)",
   "language": "python",
   "name": "python3"
  },
  "language_info": {
   "codemirror_mode": {
    "name": "ipython",
    "version": 3
   },
   "file_extension": ".py",
   "mimetype": "text/x-python",
   "name": "python",
   "nbconvert_exporter": "python",
   "pygments_lexer": "ipython3",
   "version": "3.11.7"
  }
 },
 "nbformat": 4,
 "nbformat_minor": 5
}
