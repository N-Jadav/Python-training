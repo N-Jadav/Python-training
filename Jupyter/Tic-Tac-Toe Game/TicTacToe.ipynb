{
 "cells": [
  {
   "cell_type": "code",
   "execution_count": 1,
   "id": "34bb7cf4-c9a3-4281-a90b-c868953e25ba",
   "metadata": {},
   "outputs": [],
   "source": [
    "## Function to print the board. Print a 3 by 3 board with index 1-9 as the numberpad\n",
    "from IPython.display import clear_output\n",
    "\n",
    "def display_board(board):\n",
    "    \n",
    "    clear_output()\n",
    "    \n",
    "    print(board[1]+'  |  '+board[2]+'  |  '+board[3])\n",
    "    print('--------------')\n",
    "    print(board[4]+'  |  '+board[5]+'  |  '+board[6])\n",
    "    print('--------------')\n",
    "    print(board[7]+'  |  '+board[8]+'  |  '+board[9])"
   ]
  },
  {
   "cell_type": "code",
   "execution_count": 2,
   "id": "dc8122db-73a1-4b1a-ae13-97e14711d2d5",
   "metadata": {},
   "outputs": [
    {
     "name": "stdout",
     "output_type": "stream",
     "text": [
      "X  |  O  |  X\n",
      "--------------\n",
      "X  |  X  |  X\n",
      "--------------\n",
      "O  |  O  |  X\n"
     ]
    }
   ],
   "source": [
    "test_board = [\"#\",\"X\",\"O\",\"X\",\"X\",\"X\",\"X\",\"O\",\"O\",\"X\"]\n",
    "display_board(test_board)"
   ]
  },
  {
   "cell_type": "code",
   "execution_count": 3,
   "id": "99d71ed7-b9b0-4a8a-812f-24702266e380",
   "metadata": {},
   "outputs": [],
   "source": [
    "## Function to take user's input and assign the masrked as 'X' or 'O'. Output of this function would be a tuple of (Player1 marker, Player2 marker)\n",
    "def player_input():\n",
    "    marker = ''\n",
    "    \n",
    "    while not (marker == 'X' or marker == 'O'):\n",
    "        marker = input('Player 1: Do you want to be X or O? ').upper()\n",
    "\n",
    "    if marker == 'X':\n",
    "        return ('X', 'O')\n",
    "    else:\n",
    "        return ('O', 'X')"
   ]
  },
  {
   "cell_type": "code",
   "execution_count": 4,
   "id": "fc16e4b6-b298-4355-aa8f-63086eb8ac1d",
   "metadata": {},
   "outputs": [
    {
     "name": "stdin",
     "output_type": "stream",
     "text": [
      "Player 1: Do you want to be X or O?  O\n"
     ]
    },
    {
     "data": {
      "text/plain": [
       "('O', 'X')"
      ]
     },
     "execution_count": 4,
     "metadata": {},
     "output_type": "execute_result"
    }
   ],
   "source": [
    "player_input()"
   ]
  },
  {
   "cell_type": "code",
   "execution_count": 5,
   "id": "26efae7a-6bd7-4445-be55-eda15886c7e4",
   "metadata": {},
   "outputs": [],
   "source": [
    "## Function to assign the marker on the board. Inputs of this function would be the board, marker and desired position(1-9)\n",
    "def place_marker(board, marker, position):\n",
    "    board[position] = marker"
   ]
  },
  {
   "cell_type": "code",
   "execution_count": 6,
   "id": "2a774120-5c04-417e-96d9-f8ae39694e35",
   "metadata": {},
   "outputs": [
    {
     "name": "stdout",
     "output_type": "stream",
     "text": [
      "X  |  O  |  X\n",
      "--------------\n",
      "X  |  X  |  X\n",
      "--------------\n",
      "O  |  $  |  X\n"
     ]
    }
   ],
   "source": [
    "place_marker(test_board, '$', 8)\n",
    "display_board(test_board)"
   ]
  },
  {
   "cell_type": "code",
   "execution_count": 7,
   "id": "bac1af7b-512d-4478-b54a-a0af55ec0aa6",
   "metadata": {},
   "outputs": [],
   "source": [
    "## Function to check if the given marker has won\n",
    "def win_check(board, marker):\n",
    "    ## Check all rows, if they share the same marker\n",
    "    return ((board[1] == board[2] == board[3] == marker) or\n",
    "    (board[4] == board[5] == board[6] == marker) or\n",
    "    (board[7] == board[8] == board[9] == marker) or\n",
    "    ## Check for all columns, if marker matches\n",
    "    (board[1] == board[4] == board[7] == marker) or\n",
    "    (board[2] == board[5] == board[8] == marker) or\n",
    "    (board[3] == board[6] == board[9] == marker) or\n",
    "    ## For diagonals, of marker matches\n",
    "    (board[1] == board[5] == board[9] == marker) or\n",
    "    (board[3] == board[5] == board[7] == marker))"
   ]
  },
  {
   "cell_type": "code",
   "execution_count": 8,
   "id": "2930beca-890f-4544-a004-8b581b5d85ac",
   "metadata": {},
   "outputs": [
    {
     "data": {
      "text/plain": [
       "True"
      ]
     },
     "execution_count": 8,
     "metadata": {},
     "output_type": "execute_result"
    }
   ],
   "source": [
    "win_check(test_board, 'X')"
   ]
  },
  {
   "cell_type": "code",
   "execution_count": 9,
   "id": "e06765de-4a2e-4375-9a51-e5697e486d5f",
   "metadata": {},
   "outputs": [],
   "source": [
    "## Function to rendomly decide which player goes first\n",
    "import random\n",
    "\n",
    "def choose_first():\n",
    "    flip = random.randint(0,1)\n",
    "    if flip == 0:\n",
    "        return 'Player 1'\n",
    "    else:\n",
    "        return 'Player 2'"
   ]
  },
  {
   "cell_type": "code",
   "execution_count": 10,
   "id": "756a9b8a-f345-40e8-915c-f4a21d74c0ce",
   "metadata": {},
   "outputs": [],
   "source": [
    "## Function to check if the given position is available on the board or not\n",
    "def space_check(board, position):\n",
    "    return board[position] == ' '"
   ]
  },
  {
   "cell_type": "code",
   "execution_count": 11,
   "id": "89e928f8-45ce-4a4a-9f4f-091ab22e1065",
   "metadata": {},
   "outputs": [],
   "source": [
    "## Function to check if the board is full or not\n",
    "def full_board_check(board):\n",
    "    for i in range(1,10):\n",
    "         if space_check(board, i):\n",
    "             return False\n",
    "    return True"
   ]
  },
  {
   "cell_type": "code",
   "execution_count": 12,
   "id": "b6295181-a412-4221-887d-e229edf7e1bf",
   "metadata": {},
   "outputs": [],
   "source": [
    "## Function to ask for next position and check if its valid and available\n",
    "def player_choice(board):\n",
    "    position = 0\n",
    "    while position not in [1,2,3,4,5,6,7,8,9] or not space_check(board, position):\n",
    "        position = int(input('Choose yout next position: (1-9) '))\n",
    "\n",
    "    return position"
   ]
  },
  {
   "cell_type": "code",
   "execution_count": 15,
   "id": "4dda743b-4415-40da-920f-c6e79c4725ba",
   "metadata": {},
   "outputs": [],
   "source": [
    "## Function to ask player if they want to play again\n",
    "def replay():\n",
    "    choice = input('Do you want to Play again? Enter y or n: ').lower()\n",
    "    return choice == 'y'"
   ]
  },
  {
   "cell_type": "code",
   "execution_count": 16,
   "id": "25500bdf-356f-4cf3-8f9c-d73bf5fd5f01",
   "metadata": {},
   "outputs": [
    {
     "name": "stdout",
     "output_type": "stream",
     "text": [
      "--- Welcome to Tic Tac Toe ---\n"
     ]
    },
    {
     "name": "stdin",
     "output_type": "stream",
     "text": [
      "Player 1: Do you want to be X or O?  X\n"
     ]
    },
    {
     "name": "stdout",
     "output_type": "stream",
     "text": [
      "Player 2 will go first.\n"
     ]
    },
    {
     "name": "stdin",
     "output_type": "stream",
     "text": [
      "Are you ready to play? Enter y or n:  n\n",
      "Do you want to Play again? Enter y or n:  n\n"
     ]
    }
   ],
   "source": [
    "## Run the game\n",
    "print('--- Welcome to Tic Tac Toe ---')\n",
    "\n",
    "while True:\n",
    "    ## Setup the board\n",
    "    the_board = [' ']*10\n",
    "    \n",
    "    ## Choose markers\n",
    "    player1_marker, player2_marker = player_input()\n",
    "    \n",
    "    ## Who will go first\n",
    "    turn = choose_first()\n",
    "    print(turn+' will go first.')\n",
    "\n",
    "    ##Ask if rady to play\n",
    "    play_game = input('Are you ready to play? Enter y or n: ').lower()\n",
    "\n",
    "    if(play_game == 'y'):\n",
    "        game_on = True\n",
    "    else:\n",
    "        game_on = False\n",
    "\n",
    "    while game_on:\n",
    "        ## Player 1 Game play\n",
    "        if turn == 'Player 1':\n",
    "            ## Show the board\n",
    "            display_board(the_board)\n",
    "            \n",
    "            ## Choose the position\n",
    "            position = player_choice(the_board)\n",
    "            \n",
    "            ## Place the marker on the position\n",
    "            place_marker(the_board, player1_marker, position)\n",
    "            \n",
    "            ## Check if they won\n",
    "            if win_check(the_board, player1_marker):\n",
    "                display_board(the_board)\n",
    "                print('Congratulation!! Player 1 has won!!')\n",
    "                game_on = False\n",
    "            else:\n",
    "                ## Or check if there is a tie    \n",
    "                if full_board_check(the_board):\n",
    "                    display_board(the_board)\n",
    "                    print('The game is a draw!!')\n",
    "                    game_on = False\n",
    "                    break\n",
    "                else:\n",
    "                     ## No Tie and no win? Next player's turn\n",
    "                    turn = 'Player 2'\n",
    "\n",
    "         ## Player 2 Game play\n",
    "        else:\n",
    "            ## Show the board\n",
    "            display_board(the_board)\n",
    "            \n",
    "            ## Choose the position\n",
    "            position = player_choice(the_board)\n",
    "            \n",
    "            ## Place the marker on the position\n",
    "            place_marker(the_board, player2_marker, position)\n",
    "            \n",
    "            ## Check if they won\n",
    "            if win_check(the_board, player2_marker):\n",
    "                display_board(the_board)\n",
    "                print('Congratulation!! Player 2 has won!!')\n",
    "                game_on = False\n",
    "            else:\n",
    "                ## Or check if there is a tie    \n",
    "                if full_board_check(the_board):\n",
    "                    display_board(the_board)\n",
    "                    print('The game is a draw!!')\n",
    "                    game_on = False\n",
    "                    break\n",
    "                else:\n",
    "                     ## No Tie and no win? Next player's turn\n",
    "                    turn = 'Player 1'\n",
    "\n",
    "    if not replay():\n",
    "        break"
   ]
  },
  {
   "cell_type": "code",
   "execution_count": null,
   "id": "99ef333a-7486-4e3c-b03b-3542b3f4d08c",
   "metadata": {},
   "outputs": [],
   "source": []
  }
 ],
 "metadata": {
  "kernelspec": {
   "display_name": "Python 3 (ipykernel)",
   "language": "python",
   "name": "python3"
  },
  "language_info": {
   "codemirror_mode": {
    "name": "ipython",
    "version": 3
   },
   "file_extension": ".py",
   "mimetype": "text/x-python",
   "name": "python",
   "nbconvert_exporter": "python",
   "pygments_lexer": "ipython3",
   "version": "3.11.7"
  }
 },
 "nbformat": 4,
 "nbformat_minor": 5
}
