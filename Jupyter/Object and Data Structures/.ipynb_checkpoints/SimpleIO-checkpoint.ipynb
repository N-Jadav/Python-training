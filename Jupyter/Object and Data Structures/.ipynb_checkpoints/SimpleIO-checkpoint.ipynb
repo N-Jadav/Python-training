{
 "cells": [
  {
   "cell_type": "code",
   "execution_count": 3,
   "id": "ea9b4573-bca3-45dc-9944-250c7fc9a547",
   "metadata": {},
   "outputs": [
    {
     "name": "stdout",
     "output_type": "stream",
     "text": [
      "Writing myfile.txt\n"
     ]
    }
   ],
   "source": [
    "%%writefile myfile.txt #This will create a new file and will write the content to it\n",
    "Hello, this is the new file\n",
    "This is the second line\n",
    "This is the third line"
   ]
  },
  {
   "cell_type": "code",
   "execution_count": 5,
   "id": "bce3d748-1e86-47ec-9006-ebdbcc0c0939",
   "metadata": {},
   "outputs": [
    {
     "data": {
      "text/plain": [
       "'C:\\\\Users\\\\canee\\\\Desktop\\\\Python-training\\\\Jupyter'"
      ]
     },
     "execution_count": 5,
     "metadata": {},
     "output_type": "execute_result"
    }
   ],
   "source": [
    "pwd #Gives the path of the current directory"
   ]
  },
  {
   "cell_type": "code",
   "execution_count": 8,
   "id": "b2f18c86-9f22-4efa-8a76-e444667d6fa2",
   "metadata": {},
   "outputs": [
    {
     "data": {
      "text/plain": [
       "'Hello, this is the new file\\nThis is the second line\\nThis is the third line\\n'"
      ]
     },
     "execution_count": 8,
     "metadata": {},
     "output_type": "execute_result"
    }
   ],
   "source": [
    "##Opens the file and read the data from it\n",
    "myfile = open('myfile.txt')\n",
    "\n",
    "##Reads everything in a single line\n",
    "myfile.read()"
   ]
  },
  {
   "cell_type": "code",
   "execution_count": 10,
   "id": "6428ded8-7ebd-430b-8cab-1c4cb11e7b6d",
   "metadata": {},
   "outputs": [
    {
     "data": {
      "text/plain": [
       "'Hello, this is the new file\\nThis is the second line\\nThis is the third line\\n'"
      ]
     },
     "execution_count": 10,
     "metadata": {},
     "output_type": "execute_result"
    }
   ],
   "source": [
    "##Imagine a curson which was at the starting of the file before the first read, now its at the end of the file\n",
    "## So the second read returns empty string\n",
    "myfile.read()\n",
    "\n",
    "##Reset the cursor to the start to read again\n",
    "myfile.seek(0)\n",
    "myfile.read()"
   ]
  },
  {
   "cell_type": "code",
   "execution_count": 13,
   "id": "cbe9215e-f4a4-4540-8454-ab89b348be83",
   "metadata": {},
   "outputs": [],
   "source": [
    "myfile.seek(0)\n",
    "\n",
    "##Read the lines as it is\n",
    "myfile.readlines()\n",
    "\n",
    "##Close the file, once done\n",
    "myfile.close()"
   ]
  },
  {
   "cell_type": "code",
   "execution_count": null,
   "id": "8444de48-13b1-4d20-96b5-ef68a102509e",
   "metadata": {},
   "outputs": [],
   "source": [
    "##To open a file at any other location the computer, pass the whole path\n",
    "## myfile = open(\"C:\\\\Users\\\\UserName\\\\Folder\\\\test.txt\")"
   ]
  },
  {
   "cell_type": "code",
   "execution_count": 14,
   "id": "7a47477b-4058-40f1-a075-87a550c02ba7",
   "metadata": {},
   "outputs": [
    {
     "name": "stdout",
     "output_type": "stream",
     "text": [
      "Hello, this is the new file\n",
      "This is the second line\n",
      "This is the third line\n",
      "\n"
     ]
    }
   ],
   "source": [
    "## To avoid any erros regarding files, use this way\n",
    "with open('myfile.txt') as my_new_file:\n",
    "    content = my_new_file.read()\n",
    "    print(content)"
   ]
  },
  {
   "cell_type": "code",
   "execution_count": 17,
   "id": "8ba133c5-9716-4bfa-a9c2-e01bfccc2425",
   "metadata": {},
   "outputs": [],
   "source": [
    "## Mode='r' is read only\n",
    "## Mode='w' is write only (will overwrite files or create new)\n",
    "## Mode='a' is append only (will add on to files)\n",
    "## Mode='r+' is reading and writing\n",
    "## Mode='w+' is writing and reading (Overwrites existing files or cretaes new one)\n",
    "with open('myfile.txt', mode='r') as myfile:\n",
    "    contents = myfile.read()"
   ]
  },
  {
   "cell_type": "code",
   "execution_count": 18,
   "id": "3c2f577d-e5eb-4011-a7ab-6473a4e733ca",
   "metadata": {},
   "outputs": [
    {
     "data": {
      "text/plain": [
       "'Hello, this is the new file\\nThis is the second line\\nThis is the third line\\n'"
      ]
     },
     "execution_count": 18,
     "metadata": {},
     "output_type": "execute_result"
    }
   ],
   "source": [
    "contents"
   ]
  },
  {
   "cell_type": "code",
   "execution_count": 19,
   "id": "13809e1b-ee5f-48b3-9555-e4272c232ca7",
   "metadata": {},
   "outputs": [
    {
     "name": "stdout",
     "output_type": "stream",
     "text": [
      "Writing sample_file.txt\n"
     ]
    }
   ],
   "source": [
    "%%writefile sample_file.txt \n",
    "One on first\n",
    "Two on second\n",
    "Three on third"
   ]
  },
  {
   "cell_type": "code",
   "execution_count": 20,
   "id": "e5705524-2da2-464b-9668-85febe80fdff",
   "metadata": {},
   "outputs": [],
   "source": [
    "with open('sample_file.txt', mode='a') as f:\n",
    "    f.write('Four on fourth')"
   ]
  },
  {
   "cell_type": "code",
   "execution_count": 21,
   "id": "9618dbee-b7a9-4ac6-9f0d-09c6d76750bc",
   "metadata": {},
   "outputs": [
    {
     "name": "stdout",
     "output_type": "stream",
     "text": [
      "One on first\n",
      "Two on second\n",
      "Three on third\n",
      "Four on fourth\n"
     ]
    }
   ],
   "source": [
    "with open('sample_file.txt', mode='r') as f:\n",
    "    print(f.read())"
   ]
  },
  {
   "cell_type": "code",
   "execution_count": 22,
   "id": "6332ebb3-ce27-4b7d-be9a-51eb2083ee30",
   "metadata": {},
   "outputs": [],
   "source": [
    "with open('newFile.txt', mode='w') as f:\n",
    "    f.write('I created this file')"
   ]
  },
  {
   "cell_type": "code",
   "execution_count": 23,
   "id": "508fd487-0fc9-41b4-bf38-c16561539703",
   "metadata": {},
   "outputs": [
    {
     "name": "stdout",
     "output_type": "stream",
     "text": [
      "I created this file\n"
     ]
    }
   ],
   "source": [
    "with open('newFile.txt', mode='r') as f:\n",
    "     print(f.read())"
   ]
  }
 ],
 "metadata": {
  "kernelspec": {
   "display_name": "Python 3 (ipykernel)",
   "language": "python",
   "name": "python3"
  },
  "language_info": {
   "codemirror_mode": {
    "name": "ipython",
    "version": 3
   },
   "file_extension": ".py",
   "mimetype": "text/x-python",
   "name": "python",
   "nbconvert_exporter": "python",
   "pygments_lexer": "ipython3",
   "version": "3.11.7"
  }
 },
 "nbformat": 4,
 "nbformat_minor": 5
}
