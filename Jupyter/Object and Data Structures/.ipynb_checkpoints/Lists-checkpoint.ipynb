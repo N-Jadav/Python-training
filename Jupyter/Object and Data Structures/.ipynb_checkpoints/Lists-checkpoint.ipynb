{
 "cells": [
  {
   "cell_type": "code",
   "execution_count": 2,
   "id": "4e79367e-d691-42f5-b248-e41d6752f2cc",
   "metadata": {},
   "outputs": [
    {
     "data": {
      "text/plain": [
       "3"
      ]
     },
     "execution_count": 2,
     "metadata": {},
     "output_type": "execute_result"
    }
   ],
   "source": [
    "# Lists are ordered sequences that can hold a variety of object types\n",
    "\n",
    "my_list = ['String', 100, 23.2]\n",
    "\n",
    "#length of the list\n",
    "len(my_list)"
   ]
  },
  {
   "cell_type": "code",
   "execution_count": 5,
   "id": "a0118942-b74d-4881-8ba0-8dcf163613e6",
   "metadata": {},
   "outputs": [
    {
     "name": "stdout",
     "output_type": "stream",
     "text": [
      "23.2\n",
      "[100, 23.2]\n"
     ]
    }
   ],
   "source": [
    "#Indexing can be done\n",
    "print(my_list[2])\n",
    "\n",
    "#Slicing can be done\n",
    "print(my_list[1:])"
   ]
  },
  {
   "cell_type": "code",
   "execution_count": 14,
   "id": "6b7be5e5-b5c8-49fe-95a0-e24336fe99d3",
   "metadata": {},
   "outputs": [
    {
     "name": "stdout",
     "output_type": "stream",
     "text": [
      "['String', 100, 23.2, 'four', 23]\n"
     ]
    }
   ],
   "source": [
    "#Concatenation just like strings\n",
    "another_list = ['four', 23]\n",
    "new_list = my_list+another_list\n",
    "\n",
    "print(new_list)"
   ]
  },
  {
   "cell_type": "code",
   "execution_count": 15,
   "id": "c6d433cc-ceb6-4331-8e03-1ea94e964dda",
   "metadata": {},
   "outputs": [
    {
     "name": "stdout",
     "output_type": "stream",
     "text": [
      "['String', 100, 'New Item', 'four', 23]\n"
     ]
    }
   ],
   "source": [
    "#Lists are mutable\n",
    "new_list[2] = 'New Item'\n",
    "\n",
    "print(new_list)"
   ]
  },
  {
   "cell_type": "code",
   "execution_count": 16,
   "id": "174a124f-f868-4f5c-9069-07363ba38b78",
   "metadata": {},
   "outputs": [
    {
     "name": "stdout",
     "output_type": "stream",
     "text": [
      "['String', 100, 'New Item', 'four', 23, 54.7]\n"
     ]
    }
   ],
   "source": [
    "#Insert item at the end of the list\n",
    "new_list.append(54.7)\n",
    "print(new_list)"
   ]
  },
  {
   "cell_type": "code",
   "execution_count": 17,
   "id": "b8cba7b5-b0d7-4d4a-b002-bbcde69715e9",
   "metadata": {},
   "outputs": [
    {
     "name": "stdout",
     "output_type": "stream",
     "text": [
      "54.7 ['String', 100, 'New Item', 'four', 23]\n"
     ]
    }
   ],
   "source": [
    "#Pop method removes the last item of the list\n",
    "popped = new_list.pop()\n",
    "print(popped, new_list)"
   ]
  },
  {
   "cell_type": "code",
   "execution_count": 19,
   "id": "0189ea2b-8d78-48f1-8ce8-dfaa537945fa",
   "metadata": {},
   "outputs": [
    {
     "name": "stdout",
     "output_type": "stream",
     "text": [
      "['String', 'New Item', 'four', 23]\n"
     ]
    }
   ],
   "source": [
    "#Remove element from a specific index\n",
    "popped = new_list.pop(1) #Pop element from index 1\n",
    "print(new_list)"
   ]
  },
  {
   "cell_type": "code",
   "execution_count": 22,
   "id": "dd4edd88-26de-44d0-ac69-4a8d58285d27",
   "metadata": {},
   "outputs": [
    {
     "name": "stdout",
     "output_type": "stream",
     "text": [
      "['e', 'q', 'r', 't']\n"
     ]
    }
   ],
   "source": [
    "#In place Sorting the list\n",
    "string_list = ['q', 'e', 'r', 't']\n",
    "string_list.sort()\n",
    "print(string_list)"
   ]
  },
  {
   "cell_type": "code",
   "execution_count": 23,
   "id": "2649a1e5-12f0-4175-8ac6-4e33333a4f67",
   "metadata": {},
   "outputs": [
    {
     "name": "stdout",
     "output_type": "stream",
     "text": [
      "['t', 'r', 'q', 'e']\n"
     ]
    }
   ],
   "source": [
    "#Reverse the list\n",
    "string_list.reverse()\n",
    "print(string_list)"
   ]
  },
  {
   "cell_type": "code",
   "execution_count": null,
   "id": "f9abb112-b296-4364-90d7-724fdd711399",
   "metadata": {},
   "outputs": [],
   "source": []
  }
 ],
 "metadata": {
  "kernelspec": {
   "display_name": "Python 3 (ipykernel)",
   "language": "python",
   "name": "python3"
  },
  "language_info": {
   "codemirror_mode": {
    "name": "ipython",
    "version": 3
   },
   "file_extension": ".py",
   "mimetype": "text/x-python",
   "name": "python",
   "nbconvert_exporter": "python",
   "pygments_lexer": "ipython3",
   "version": "3.11.7"
  }
 },
 "nbformat": 4,
 "nbformat_minor": 5
}
