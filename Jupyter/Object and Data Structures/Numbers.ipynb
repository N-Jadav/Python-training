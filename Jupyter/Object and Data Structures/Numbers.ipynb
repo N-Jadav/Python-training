{
 "cells": [
  {
   "cell_type": "code",
   "execution_count": 1,
   "id": "d26cb0e5-8bb9-41f8-bd16-445634ee7b7f",
   "metadata": {},
   "outputs": [
    {
     "data": {
      "text/plain": [
       "21.0"
      ]
     },
     "execution_count": 1,
     "metadata": {},
     "output_type": "execute_result"
    }
   ],
   "source": [
    "((2*12)/2)-1+10"
   ]
  },
  {
   "cell_type": "code",
   "execution_count": 4,
   "id": "a5f2d7a4-0e2d-4c4f-9bec-1ebf5bb1699d",
   "metadata": {},
   "outputs": [
    {
     "data": {
      "text/plain": [
       "2"
      ]
     },
     "execution_count": 4,
     "metadata": {},
     "output_type": "execute_result"
    }
   ],
   "source": [
    "#Modulo or \"Mod\" operator\n",
    "\n",
    "18%4"
   ]
  },
  {
   "cell_type": "code",
   "execution_count": 5,
   "id": "3deecf8d-e782-4933-906a-7f3d5b7efa75",
   "metadata": {},
   "outputs": [
    {
     "data": {
      "text/plain": [
       "8"
      ]
     },
     "execution_count": 5,
     "metadata": {},
     "output_type": "execute_result"
    }
   ],
   "source": [
    "#Power operator\n",
    "\n",
    "2**3"
   ]
  },
  {
   "cell_type": "code",
   "execution_count": null,
   "id": "40c75859-3e59-4bb6-9c46-75c83ae84f93",
   "metadata": {},
   "outputs": [],
   "source": []
  }
 ],
 "metadata": {
  "kernelspec": {
   "display_name": "Python 3 (ipykernel)",
   "language": "python",
   "name": "python3"
  },
  "language_info": {
   "codemirror_mode": {
    "name": "ipython",
    "version": 3
   },
   "file_extension": ".py",
   "mimetype": "text/x-python",
   "name": "python",
   "nbconvert_exporter": "python",
   "pygments_lexer": "ipython3",
   "version": "3.11.7"
  }
 },
 "nbformat": 4,
 "nbformat_minor": 5
}
