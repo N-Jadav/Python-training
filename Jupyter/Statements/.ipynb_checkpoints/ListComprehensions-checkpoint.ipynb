{
 "cells": [
  {
   "cell_type": "code",
   "execution_count": 1,
   "id": "7f51acab-6b20-453f-a027-5399c6ad702e",
   "metadata": {},
   "outputs": [
    {
     "name": "stdout",
     "output_type": "stream",
     "text": [
      "['h', 'e', 'l', 'l', 'o']\n"
     ]
    }
   ],
   "source": [
    "## List comprehensions are a unique way of quickly creatign a list with Python\n",
    "\n",
    "myString = 'hello'\n",
    "myList = []\n",
    "\n",
    "for letter in myString:\n",
    "    myList.append(letter)\n",
    "\n",
    "print(myList)"
   ]
  },
  {
   "cell_type": "code",
   "execution_count": 5,
   "id": "38ac4ba4-5fa8-40c5-8812-9fdae74f8735",
   "metadata": {},
   "outputs": [
    {
     "name": "stdout",
     "output_type": "stream",
     "text": [
      "['h', 'e', 'l', 'l', 'o']\n"
     ]
    }
   ],
   "source": [
    "## More efficient way\n",
    "myList1 = [letter for letter in myString]\n",
    "\n",
    "print(myList1)"
   ]
  },
  {
   "cell_type": "code",
   "execution_count": 7,
   "id": "a11df969-cbfc-4d54-8c1e-b7b8bc5c859a",
   "metadata": {},
   "outputs": [
    {
     "name": "stdout",
     "output_type": "stream",
     "text": [
      "['w', 'o', 'r', 'l', 'd']\n"
     ]
    }
   ],
   "source": [
    "myList1 = [letter for letter in 'world']\n",
    "print(myList1)"
   ]
  },
  {
   "cell_type": "code",
   "execution_count": 8,
   "id": "2fa9764e-c11d-4319-8fd9-1cd8f82c63e1",
   "metadata": {},
   "outputs": [
    {
     "name": "stdout",
     "output_type": "stream",
     "text": [
      "[0, 1, 2, 3, 4, 5, 6, 7, 8, 9]\n"
     ]
    }
   ],
   "source": [
    "myList1 = [num for num in range(0,10)]\n",
    "print(myList1)"
   ]
  },
  {
   "cell_type": "code",
   "execution_count": 9,
   "id": "3b329a3f-f799-4dad-b9a5-0b3e0f47ce51",
   "metadata": {},
   "outputs": [
    {
     "name": "stdout",
     "output_type": "stream",
     "text": [
      "[0, 2, 4, 6, 8, 10, 12, 14, 16, 18]\n"
     ]
    }
   ],
   "source": [
    "## Operations can be performed within the list\n",
    "myList1 = [num*2 for num in range(0,10)]\n",
    "print(myList1)"
   ]
  },
  {
   "cell_type": "code",
   "execution_count": 11,
   "id": "76ec6bca-bf93-4fd9-934d-9f285430c184",
   "metadata": {},
   "outputs": [
    {
     "name": "stdout",
     "output_type": "stream",
     "text": [
      "[0, 2, 4, 6, 8]\n"
     ]
    }
   ],
   "source": [
    "## If-else can also be performed\n",
    "myList1 = [num for num in range(0,10) if num%2 ==0]\n",
    "print(myList1)"
   ]
  },
  {
   "cell_type": "code",
   "execution_count": 12,
   "id": "ea62daa7-4c99-48fa-a9b2-06bc09b4784b",
   "metadata": {},
   "outputs": [
    {
     "name": "stdout",
     "output_type": "stream",
     "text": [
      "[33.8, 50.0, 68.0, 94.1]\n"
     ]
    }
   ],
   "source": [
    "## More complex operations can also be done\n",
    "celcius = [1,10,20,34.5]\n",
    "\n",
    "fahrenheit = [((9/5)*temp + 32) for temp in celcius]\n",
    "print(fahrenheit)"
   ]
  },
  {
   "cell_type": "code",
   "execution_count": 13,
   "id": "816a6627-2c22-4781-a425-7e1159d2130c",
   "metadata": {},
   "outputs": [
    {
     "name": "stdout",
     "output_type": "stream",
     "text": [
      "[2, 20, 200, 4, 40, 400, 6, 60, 600]\n"
     ]
    }
   ],
   "source": [
    "myList = []\n",
    "\n",
    "for x in [2,4,6]:\n",
    "    for y in [1,10,100]:\n",
    "        myList.append(x*y)\n",
    "\n",
    "print(myList)"
   ]
  },
  {
   "cell_type": "code",
   "execution_count": 14,
   "id": "5907e44f-5f08-40ea-a22e-3f96ddeb3dfc",
   "metadata": {},
   "outputs": [
    {
     "name": "stdout",
     "output_type": "stream",
     "text": [
      "[2, 20, 400, 4, 40, 800, 6, 60, 1200]\n"
     ]
    }
   ],
   "source": [
    "myList1 = [x*y for x in [2,4,6] for y in [1,10,200]]\n",
    "print(myList1)"
   ]
  },
  {
   "cell_type": "code",
   "execution_count": null,
   "id": "6be9f343-939f-434b-8be6-35e230b986ce",
   "metadata": {},
   "outputs": [],
   "source": []
  }
 ],
 "metadata": {
  "kernelspec": {
   "display_name": "Python 3 (ipykernel)",
   "language": "python",
   "name": "python3"
  },
  "language_info": {
   "codemirror_mode": {
    "name": "ipython",
    "version": 3
   },
   "file_extension": ".py",
   "mimetype": "text/x-python",
   "name": "python",
   "nbconvert_exporter": "python",
   "pygments_lexer": "ipython3",
   "version": "3.11.7"
  }
 },
 "nbformat": 4,
 "nbformat_minor": 5
}
