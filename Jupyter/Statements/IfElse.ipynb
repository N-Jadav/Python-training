{
 "cells": [
  {
   "cell_type": "code",
   "execution_count": 2,
   "id": "5d54b4cd-fd57-4f7c-aa0b-acaa571cfe40",
   "metadata": {},
   "outputs": [
    {
     "name": "stdout",
     "output_type": "stream",
     "text": [
      "Hungry\n"
     ]
    }
   ],
   "source": [
    "hungry  = True\n",
    "if hungry:\n",
    "    print(\"Hungry\")\n",
    "else:\n",
    "    print(\"Not hungry\")"
   ]
  },
  {
   "cell_type": "code",
   "execution_count": 3,
   "id": "330219a6-3bc8-4bd2-9b07-0a139c3a8abf",
   "metadata": {},
   "outputs": [
    {
     "name": "stdout",
     "output_type": "stream",
     "text": [
      "Not hungry\n"
     ]
    }
   ],
   "source": [
    "hungry  = False\n",
    "if hungry:\n",
    "    print(\"Hungry\")\n",
    "else:\n",
    "    print(\"Not hungry\")"
   ]
  },
  {
   "cell_type": "code",
   "execution_count": 4,
   "id": "1e643f13-f916-497f-ac88-628de5e81db9",
   "metadata": {},
   "outputs": [
    {
     "name": "stdout",
     "output_type": "stream",
     "text": [
      "At the bank\n"
     ]
    }
   ],
   "source": [
    "location = \"Bank\"\n",
    "\n",
    "if location == \"Bank\":\n",
    "    print(\"At the bank\")\n",
    "elif location == \"Cafe\":\n",
    "    print(\"At the cafe\")\n",
    "else:\n",
    "    print(\"I don't know the location\")"
   ]
  },
  {
   "cell_type": "code",
   "execution_count": 5,
   "id": "e138ecde-8272-46e1-ab8e-921d9eb6d275",
   "metadata": {},
   "outputs": [
    {
     "name": "stdout",
     "output_type": "stream",
     "text": [
      "At the cafe\n"
     ]
    }
   ],
   "source": [
    "location = \"Cafe\"\n",
    "\n",
    "if location == \"Bank\":\n",
    "    print(\"At the bank\")\n",
    "elif location == \"Cafe\":\n",
    "    print(\"At the cafe\")\n",
    "else:\n",
    "    print(\"I don't know the location\")"
   ]
  },
  {
   "cell_type": "code",
   "execution_count": null,
   "id": "1cd9c54f-df65-4123-a992-e075011788d2",
   "metadata": {},
   "outputs": [],
   "source": []
  }
 ],
 "metadata": {
  "kernelspec": {
   "display_name": "Python 3 (ipykernel)",
   "language": "python",
   "name": "python3"
  },
  "language_info": {
   "codemirror_mode": {
    "name": "ipython",
    "version": 3
   },
   "file_extension": ".py",
   "mimetype": "text/x-python",
   "name": "python",
   "nbconvert_exporter": "python",
   "pygments_lexer": "ipython3",
   "version": "3.11.7"
  }
 },
 "nbformat": 4,
 "nbformat_minor": 5
}
