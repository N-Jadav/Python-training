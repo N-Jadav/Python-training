{
 "cells": [
  {
   "cell_type": "code",
   "execution_count": 2,
   "id": "253780b6-671b-4d65-989e-4be74f9da74f",
   "metadata": {},
   "outputs": [
    {
     "name": "stdout",
     "output_type": "stream",
     "text": [
      "1\n",
      "2\n",
      "3\n",
      "4\n",
      "5\n",
      "6\n"
     ]
    }
   ],
   "source": [
    "myList = [1,2,3,4,5,6]\n",
    "for i in myList:\n",
    "    print(i)"
   ]
  },
  {
   "cell_type": "code",
   "execution_count": 7,
   "id": "bf6e25f9-5bb6-4820-b4a3-6c2f01280450",
   "metadata": {},
   "outputs": [
    {
     "name": "stdout",
     "output_type": "stream",
     "text": [
      "Odd number: 1\n",
      "2\n",
      "Odd number: 3\n",
      "4\n",
      "Odd number: 5\n",
      "6\n"
     ]
    }
   ],
   "source": [
    "for num in myList:\n",
    "    if num%2 == 0:\n",
    "        print(num)\n",
    "    else:\n",
    "        print(f'Odd number: {num}')"
   ]
  },
  {
   "cell_type": "code",
   "execution_count": 9,
   "id": "18b152cf-213a-436b-8545-a209ffd634c3",
   "metadata": {},
   "outputs": [
    {
     "name": "stdout",
     "output_type": "stream",
     "text": [
      "H\n",
      "e\n",
      "l\n",
      "l\n",
      "o\n",
      " \n",
      "W\n",
      "o\n",
      "r\n",
      "l\n",
      "d\n"
     ]
    }
   ],
   "source": [
    "str = \"Hello World\"\n",
    "for _ in str:\n",
    "    print(_)"
   ]
  },
  {
   "cell_type": "code",
   "execution_count": 11,
   "id": "2db5f5a3-3ecc-47f8-bb63-94f2ece15dac",
   "metadata": {},
   "outputs": [
    {
     "name": "stdout",
     "output_type": "stream",
     "text": [
      "(5, 6)\n",
      "(3, 4)\n",
      "(1, 2)\n"
     ]
    }
   ],
   "source": [
    "myList = [(5,6),(3,4), (1,2)]\n",
    "\n",
    "for i in myList:\n",
    "        print(i)"
   ]
  },
  {
   "cell_type": "code",
   "execution_count": 12,
   "id": "54269708-cd9d-4ec1-99f2-455e76bf4e6c",
   "metadata": {},
   "outputs": [
    {
     "name": "stdout",
     "output_type": "stream",
     "text": [
      "5\n",
      "6\n",
      "3\n",
      "4\n",
      "1\n",
      "2\n"
     ]
    }
   ],
   "source": [
    "## No need for nested loops\n",
    "for (i,j) in myList:\n",
    "    print(i)\n",
    "    print(j)"
   ]
  },
  {
   "cell_type": "code",
   "execution_count": 13,
   "id": "47c2547b-007e-4946-8b28-745762bf8b9d",
   "metadata": {},
   "outputs": [
    {
     "name": "stdout",
     "output_type": "stream",
     "text": [
      "k1\n",
      "k2\n",
      "k3\n"
     ]
    }
   ],
   "source": [
    "myObj = {'k1': 1, 'k2': 2, 'k3': 3}\n",
    "\n",
    "## By default when a dictionary is iterated, it iterates over the keys only\n",
    "for item in myObj:\n",
    "    print(item)"
   ]
  },
  {
   "cell_type": "code",
   "execution_count": 14,
   "id": "e3ed16e1-ab7f-4b82-b5d8-aef86fc696d9",
   "metadata": {},
   "outputs": [
    {
     "name": "stdout",
     "output_type": "stream",
     "text": [
      "('k1', 1)\n",
      "('k2', 2)\n",
      "('k3', 3)\n"
     ]
    }
   ],
   "source": [
    "## To iterate over items\n",
    "for item in myObj.items():\n",
    "    print(item)"
   ]
  },
  {
   "cell_type": "code",
   "execution_count": 15,
   "id": "ee6e2318-395f-4f18-915a-36c4a0391deb",
   "metadata": {},
   "outputs": [
    {
     "name": "stdout",
     "output_type": "stream",
     "text": [
      "1\n",
      "2\n",
      "3\n"
     ]
    }
   ],
   "source": [
    "## To iterate over items, another way\n",
    "for key,value in myObj.items():\n",
    "    print(value)"
   ]
  },
  {
   "cell_type": "code",
   "execution_count": null,
   "id": "28bd66d5-ff1a-4c48-9974-5d9e4b1bdb30",
   "metadata": {},
   "outputs": [],
   "source": []
  }
 ],
 "metadata": {
  "kernelspec": {
   "display_name": "Python 3 (ipykernel)",
   "language": "python",
   "name": "python3"
  },
  "language_info": {
   "codemirror_mode": {
    "name": "ipython",
    "version": 3
   },
   "file_extension": ".py",
   "mimetype": "text/x-python",
   "name": "python",
   "nbconvert_exporter": "python",
   "pygments_lexer": "ipython3",
   "version": "3.11.7"
  }
 },
 "nbformat": 4,
 "nbformat_minor": 5
}
