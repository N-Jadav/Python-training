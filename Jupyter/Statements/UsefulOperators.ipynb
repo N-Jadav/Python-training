{
 "cells": [
  {
   "cell_type": "code",
   "execution_count": 2,
   "id": "810e01b7-0ae9-414b-a2da-ae1400cebad2",
   "metadata": {},
   "outputs": [
    {
     "name": "stdout",
     "output_type": "stream",
     "text": [
      "0\n",
      "1\n",
      "2\n",
      "3\n",
      "4\n",
      "5\n",
      "6\n",
      "7\n",
      "8\n",
      "9\n"
     ]
    }
   ],
   "source": [
    "## Range operator\n",
    "\n",
    "## Print from 0 to 9\n",
    "for num in range(10):\n",
    "    print(num)\n"
   ]
  },
  {
   "cell_type": "code",
   "execution_count": 3,
   "id": "a22b216d-7421-44f4-b197-26bd4f90fd40",
   "metadata": {},
   "outputs": [
    {
     "name": "stdout",
     "output_type": "stream",
     "text": [
      "3\n",
      "4\n",
      "5\n",
      "6\n",
      "7\n",
      "8\n",
      "9\n"
     ]
    }
   ],
   "source": [
    "##Print from 3 to 9\n",
    "for num in range(3, 10):\n",
    "    print(num)"
   ]
  },
  {
   "cell_type": "code",
   "execution_count": 5,
   "id": "d8fa9915-bd09-429c-84e0-2d3b82eb37c9",
   "metadata": {},
   "outputs": [
    {
     "name": "stdout",
     "output_type": "stream",
     "text": [
      "2\n",
      "4\n",
      "6\n",
      "8\n"
     ]
    }
   ],
   "source": [
    "##Print from 2 to 9 in step of 2\n",
    "for num in range(2, 10,2):\n",
    "    print(num)"
   ]
  },
  {
   "cell_type": "code",
   "execution_count": 6,
   "id": "2af4b8b9-ad0c-4457-afd8-d8e5086edcb3",
   "metadata": {},
   "outputs": [
    {
     "name": "stdout",
     "output_type": "stream",
     "text": [
      "[0, 1, 2, 3, 4, 5, 6, 7, 8, 9]\n"
     ]
    }
   ],
   "source": [
    "myList = list(range(0,10))\n",
    "print(myList)"
   ]
  },
  {
   "cell_type": "code",
   "execution_count": 8,
   "id": "8b57975f-ce79-4482-8ac4-0b3b21a8c869",
   "metadata": {},
   "outputs": [
    {
     "name": "stdout",
     "output_type": "stream",
     "text": [
      "At index 0 the letter is q\n",
      "At index 1 the letter is w\n",
      "At index 2 the letter is e\n",
      "At index 3 the letter is r\n",
      "At index 4 the letter is t\n",
      "At index 5 the letter is y\n"
     ]
    }
   ],
   "source": [
    "## Enumerate operator\n",
    "index_count = 0\n",
    "word = 'qwerty'\n",
    "for letter in word:\n",
    "    print(f'At index {index_count} the letter is {letter}')\n",
    "    index_count += 1;"
   ]
  },
  {
   "cell_type": "code",
   "execution_count": 11,
   "id": "be8ca149-5d81-4efc-907c-36644ebe8abf",
   "metadata": {},
   "outputs": [
    {
     "name": "stdout",
     "output_type": "stream",
     "text": [
      "(0, 'q')\n",
      "(1, 'w')\n",
      "(2, 'e')\n",
      "(3, 'r')\n",
      "(4, 't')\n",
      "(5, 'y')\n",
      "0 q\n",
      "1 w\n",
      "2 e\n",
      "3 r\n",
      "4 t\n",
      "5 y\n"
     ]
    }
   ],
   "source": [
    "## Index count is done automatically using enumerate\n",
    "for item in enumerate(word):\n",
    "    print(item)\n",
    "\n",
    "for index,letter in enumerate(word):\n",
    "    print(index, letter)"
   ]
  },
  {
   "cell_type": "code",
   "execution_count": 13,
   "id": "03f5e5d5-234e-4bc1-bb21-73e8cac8749d",
   "metadata": {},
   "outputs": [
    {
     "name": "stdout",
     "output_type": "stream",
     "text": [
      "(1, 'q', 100)\n",
      "(2, 'w', 200)\n",
      "(3, 'e', 300)\n"
     ]
    }
   ],
   "source": [
    "## zip operator, zips 2 lists together\n",
    "myList1 = [1,2,3]\n",
    "myList2 = ['q', 'w', 'e']\n",
    "myList3 = [100, 200, 300, 400]\n",
    "\n",
    "## zip will go as far as the length of the shortest, it will ignore the rest\n",
    "for item in zip(myList1, myList2, myList3):\n",
    "    print(item)"
   ]
  },
  {
   "cell_type": "code",
   "execution_count": 15,
   "id": "36e96063-8fd2-4b1a-9dc9-612613474d61",
   "metadata": {},
   "outputs": [
    {
     "data": {
      "text/plain": [
       "[(1, 'q'), (2, 'w'), (3, 'e')]"
      ]
     },
     "execution_count": 15,
     "metadata": {},
     "output_type": "execute_result"
    }
   ],
   "source": [
    "list(zip(myList1, myList2))"
   ]
  },
  {
   "cell_type": "code",
   "execution_count": 16,
   "id": "b41b37d9-f56e-4121-b5aa-730cf61a728d",
   "metadata": {},
   "outputs": [
    {
     "data": {
      "text/plain": [
       "False"
      ]
     },
     "execution_count": 16,
     "metadata": {},
     "output_type": "execute_result"
    }
   ],
   "source": [
    "## IN operator, to check if a certain element is present or not\n",
    "'v' in [1,2,3]"
   ]
  },
  {
   "cell_type": "code",
   "execution_count": 17,
   "id": "67394207-884b-472d-88d3-d02b63f65a11",
   "metadata": {},
   "outputs": [
    {
     "data": {
      "text/plain": [
       "True"
      ]
     },
     "execution_count": 17,
     "metadata": {},
     "output_type": "execute_result"
    }
   ],
   "source": [
    "'x' in ['x','e','r']"
   ]
  },
  {
   "cell_type": "code",
   "execution_count": 18,
   "id": "f887f031-4d21-4950-b09e-0c3e33ed5da9",
   "metadata": {},
   "outputs": [
    {
     "data": {
      "text/plain": [
       "True"
      ]
     },
     "execution_count": 18,
     "metadata": {},
     "output_type": "execute_result"
    }
   ],
   "source": [
    "'a' in 'Neerali'"
   ]
  },
  {
   "cell_type": "code",
   "execution_count": 19,
   "id": "61b723f1-24a9-405e-8173-7d34a5d144b5",
   "metadata": {},
   "outputs": [
    {
     "data": {
      "text/plain": [
       "True"
      ]
     },
     "execution_count": 19,
     "metadata": {},
     "output_type": "execute_result"
    }
   ],
   "source": [
    "'myKey' in {'k1': 1, 'myKey': 2}"
   ]
  },
  {
   "cell_type": "code",
   "execution_count": 20,
   "id": "275e41ed-8ace-409b-9d4a-a8d26e0a1742",
   "metadata": {},
   "outputs": [
    {
     "data": {
      "text/plain": [
       "True"
      ]
     },
     "execution_count": 20,
     "metadata": {},
     "output_type": "execute_result"
    }
   ],
   "source": [
    "d = {'k1': 1, 'myKey': 2}\n",
    "\n",
    "2 in d.values()"
   ]
  },
  {
   "cell_type": "code",
   "execution_count": 21,
   "id": "66e09550-7903-4c1b-958d-2407ff9711d0",
   "metadata": {},
   "outputs": [
    {
     "name": "stdout",
     "output_type": "stream",
     "text": [
      "10 50\n"
     ]
    }
   ],
   "source": [
    "## min, max\n",
    "myList = [10,20,30,40,50]\n",
    "print(min(myList), max(myList))"
   ]
  },
  {
   "cell_type": "code",
   "execution_count": 23,
   "id": "19ba3116-f23d-47ec-afaa-cd63b1d7b3e0",
   "metadata": {},
   "outputs": [
    {
     "name": "stdout",
     "output_type": "stream",
     "text": [
      "[40, 30, 10, 50, 20]\n"
     ]
    }
   ],
   "source": [
    "## Random library\n",
    "from random import shuffle\n",
    "\n",
    "## shuffles the list, its an inplace functions -> does not return anything\n",
    "shuffle(myList)\n",
    "print(myList)"
   ]
  },
  {
   "cell_type": "code",
   "execution_count": 25,
   "id": "6d56a5e3-b745-488e-8639-52bbf62d5225",
   "metadata": {},
   "outputs": [
    {
     "name": "stdout",
     "output_type": "stream",
     "text": [
      "10\n"
     ]
    }
   ],
   "source": [
    "from random import randint\n",
    "\n",
    "## Returns random integer from 0 to 10\n",
    "x = randint(0,10)\n",
    "print(x)"
   ]
  },
  {
   "cell_type": "code",
   "execution_count": 29,
   "id": "d205e49d-fe68-4675-a6ed-3bc51c898bd0",
   "metadata": {},
   "outputs": [
    {
     "name": "stdin",
     "output_type": "stream",
     "text": [
      "Enter a number:  2\n"
     ]
    },
    {
     "name": "stdout",
     "output_type": "stream",
     "text": [
      "2 <class 'int'>\n"
     ]
    }
   ],
   "source": [
    "## User input, always accepts everything as a string\n",
    "\n",
    "result = input('Enter a number: ')\n",
    "print(result, type(result))"
   ]
  },
  {
   "cell_type": "code",
   "execution_count": 30,
   "id": "046cb59d-7569-49d9-8f40-ee31de49a9dd",
   "metadata": {},
   "outputs": [
    {
     "name": "stdin",
     "output_type": "stream",
     "text": [
      "Enter a number:  3\n"
     ]
    },
    {
     "name": "stdout",
     "output_type": "stream",
     "text": [
      "3 <class 'int'>\n"
     ]
    }
   ],
   "source": [
    "result = int(input('Enter a number: '))\n",
    "print(result, type(result))"
   ]
  },
  {
   "cell_type": "code",
   "execution_count": null,
   "id": "6960802a-2904-4a48-84c0-35bb281dbae9",
   "metadata": {},
   "outputs": [],
   "source": []
  }
 ],
 "metadata": {
  "kernelspec": {
   "display_name": "Python 3 (ipykernel)",
   "language": "python",
   "name": "python3"
  },
  "language_info": {
   "codemirror_mode": {
    "name": "ipython",
    "version": 3
   },
   "file_extension": ".py",
   "mimetype": "text/x-python",
   "name": "python",
   "nbconvert_exporter": "python",
   "pygments_lexer": "ipython3",
   "version": "3.11.7"
  }
 },
 "nbformat": 4,
 "nbformat_minor": 5
}
