{
 "cells": [
  {
   "cell_type": "code",
   "execution_count": 9,
   "id": "f1c3c05f-93e7-42b3-bd53-71ca4d718633",
   "metadata": {},
   "outputs": [],
   "source": [
    "def hello(name=\"Jose\"):\n",
    "    print(\"The hello function has been executed!\")\n",
    "\n",
    "    def greet():\n",
    "        return '\\t This is the greet function inside hello!'\n",
    "    def welcome():\n",
    "        return '\\t This is welcome inside hello'\n",
    "\n",
    "    print(\"I am going to return a function\")\n",
    "\n",
    "    if name == 'Jose':\n",
    "        return greet\n",
    "    else:\n",
    "        return welcome"
   ]
  },
  {
   "cell_type": "code",
   "execution_count": 10,
   "id": "eab4c14e-89d5-46f2-92d2-d62c26c7c83c",
   "metadata": {},
   "outputs": [
    {
     "name": "stdout",
     "output_type": "stream",
     "text": [
      "The hello function has been executed!\n",
      "I am going to return a function\n",
      "\t This is the greet function inside hello!\n"
     ]
    }
   ],
   "source": [
    "my_new_func = hello('Jose')\n",
    "print(my_new_func())"
   ]
  },
  {
   "cell_type": "raw",
   "id": "097f2c29-ca14-4b29-8d88-2d143961666b",
   "metadata": {},
   "source": []
  }
 ],
 "metadata": {
  "kernelspec": {
   "display_name": "Python 3 (ipykernel)",
   "language": "python",
   "name": "python3"
  },
  "language_info": {
   "codemirror_mode": {
    "name": "ipython",
    "version": 3
   },
   "file_extension": ".py",
   "mimetype": "text/x-python",
   "name": "python",
   "nbconvert_exporter": "python",
   "pygments_lexer": "ipython3",
   "version": "3.11.7"
  }
 },
 "nbformat": 4,
 "nbformat_minor": 5
}
