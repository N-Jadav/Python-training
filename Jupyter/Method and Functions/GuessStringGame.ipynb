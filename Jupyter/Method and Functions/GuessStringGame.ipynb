{
 "cells": [
  {
   "cell_type": "code",
   "execution_count": 2,
   "id": "edaf3f7d-7e50-4bf9-a3ff-240b794e3170",
   "metadata": {},
   "outputs": [],
   "source": []
  },
  {
   "cell_type": "code",
   "execution_count": 7,
   "id": "400a0e29-d63a-459e-99df-4f6a271e6a03",
   "metadata": {},
   "outputs": [
    {
     "name": "stdin",
     "output_type": "stream",
     "text": [
      "Pick  a number 0, 1 or 2 2\n"
     ]
    },
    {
     "name": "stdout",
     "output_type": "stream",
     "text": [
      "Correct!\n"
     ]
    }
   ],
   "source": [
    "##Game list is 3 strings one will be 'O'. The user needs to guess where is the O\n",
    "from random import shuffle\n",
    "\n",
    "## Returns the shuffled list\n",
    "def shuffle_list(myList):\n",
    "    shuffle(myList)\n",
    "    return myList\n",
    "\n",
    "\n",
    "## Takes guess from player\n",
    "def player_guess():\n",
    "    guess = \"\"\n",
    "    \n",
    "    ## Keep asking until user enters a valid guess\n",
    "    while guess not in ['0','1', '2']:\n",
    "        guess = input(\"Pick  a number 0, 1 or 2\")\n",
    "    return int(guess)\n",
    "\n",
    "## Checks if the guess is correct or not\n",
    "def check_guess(myList, guess):\n",
    "    if myList[guess] == 'O':\n",
    "        print(\"Correct!\")\n",
    "    else:\n",
    "        print(f\"Wrong guess {myList}!\")\n",
    "\n",
    "\n",
    "##INITIAL LIST\n",
    "myList = ['','O','']\n",
    "\n",
    "##SHUFFLE LIST\n",
    "mixedupList = shuffle_list(myList)\n",
    "\n",
    "##USER GUESS\n",
    "guess = player_guess()\n",
    "\n",
    "##CHECK GUESS\n",
    "check_guess(mixedupList, guess)    "
   ]
  },
  {
   "cell_type": "code",
   "execution_count": null,
   "id": "6ddb9195-9c4c-47e3-b083-315d5826a44b",
   "metadata": {},
   "outputs": [],
   "source": []
  }
 ],
 "metadata": {
  "kernelspec": {
   "display_name": "Python 3 (ipykernel)",
   "language": "python",
   "name": "python3"
  },
  "language_info": {
   "codemirror_mode": {
    "name": "ipython",
    "version": 3
   },
   "file_extension": ".py",
   "mimetype": "text/x-python",
   "name": "python",
   "nbconvert_exporter": "python",
   "pygments_lexer": "ipython3",
   "version": "3.11.7"
  }
 },
 "nbformat": 4,
 "nbformat_minor": 5
}
