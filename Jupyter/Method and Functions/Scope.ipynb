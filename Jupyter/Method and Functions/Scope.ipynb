{
 "cells": [
  {
   "cell_type": "code",
   "execution_count": 1,
   "id": "f751a128-2cfc-4668-93fd-c7a3821777bd",
   "metadata": {},
   "outputs": [],
   "source": [
    "## Methods and variable scopes\n",
    "\n",
    "x = 23;\n",
    "\n",
    "def printer():\n",
    "    x = 34\n",
    "    return x"
   ]
  },
  {
   "cell_type": "code",
   "execution_count": 2,
   "id": "9abd03db-f2b9-4723-a609-7466051ea178",
   "metadata": {},
   "outputs": [
    {
     "name": "stdout",
     "output_type": "stream",
     "text": [
      "23\n"
     ]
    }
   ],
   "source": [
    "print(x)"
   ]
  },
  {
   "cell_type": "code",
   "execution_count": 3,
   "id": "6adadebb-8aa6-4f52-aef0-ec6a4023d45f",
   "metadata": {},
   "outputs": [
    {
     "name": "stdout",
     "output_type": "stream",
     "text": [
      "34\n"
     ]
    }
   ],
   "source": [
    "print(printer())"
   ]
  },
  {
   "cell_type": "code",
   "execution_count": 5,
   "id": "2f306295-2bb4-420d-8857-0138dbde6074",
   "metadata": {},
   "outputs": [],
   "source": [
    "## LEGB rules are the rules python follows to identify the scope of the variables\n",
    "# L:Local Namespace - Names assigned in any way within a function (def or lambda), and not declared global in that function\n",
    "# E: Enclosing function locals Namespace - Names in the local scope of any and all enclosing functions (def or lambda), from inner to outer\n",
    "# G: Global(module) Namespace - Names assigned wt the top level of a module file or declared global in a def within the file\n",
    "# B: Built-in (Pyhton) Namespace - Names preassigned in the built-in names module: open, range, SyntaxError..."
   ]
  },
  {
   "cell_type": "code",
   "execution_count": 6,
   "id": "59cc5b6d-f4ca-4505-91e6-eb56cffe95bb",
   "metadata": {},
   "outputs": [],
   "source": [
    "## Local example: num is the local variable to the function\n",
    "lambda num:num%2 == 0"
   ]
  },
  {
   "cell_type": "code",
   "execution_count": 7,
   "id": "5ecd978c-6027-4917-83dc-6f6d5e10baf1",
   "metadata": {},
   "outputs": [
    {
     "name": "stdout",
     "output_type": "stream",
     "text": [
      "Hello Sally\n"
     ]
    }
   ],
   "source": [
    "## Enclosing function locals example:\n",
    "name = 'This is a global string'\n",
    "\n",
    "def greet():\n",
    "    name = 'Sally'\n",
    "    def hello():\n",
    "        print('Hello '+name)\n",
    "    hello()\n",
    "greet()"
   ]
  },
  {
   "cell_type": "code",
   "execution_count": 11,
   "id": "43391c20-2bdf-436a-8580-84f951fc7a3a",
   "metadata": {},
   "outputs": [
    {
     "name": "stdout",
     "output_type": "stream",
     "text": [
      "Hello I am local\n"
     ]
    }
   ],
   "source": [
    "## GLOBAL:\n",
    "name = 'This is a global string'\n",
    "\n",
    "def greet():\n",
    "    ## ENCLOSING\n",
    "    name = 'Sally'\n",
    "    def hello():\n",
    "        ## LOCAL\n",
    "        name = 'I am local'\n",
    "        print('Hello '+name)\n",
    "    hello()\n",
    "greet()"
   ]
  },
  {
   "cell_type": "code",
   "execution_count": 14,
   "id": "2a1c0467-e55e-422a-875a-e65bd0ed62c6",
   "metadata": {},
   "outputs": [
    {
     "name": "stdout",
     "output_type": "stream",
     "text": [
      "I locally changed the global x to 200\n"
     ]
    }
   ],
   "source": [
    "## IF we want to use global variables\n",
    "x = 50\n",
    "\n",
    "def func():\n",
    "    global x\n",
    "    x = 200\n",
    "    print(f'I locally changed the global x to {x}')\n",
    "func()"
   ]
  },
  {
   "cell_type": "code",
   "execution_count": null,
   "id": "ccb08484-95bf-4a6e-9909-a7182d84d981",
   "metadata": {},
   "outputs": [],
   "source": []
  }
 ],
 "metadata": {
  "kernelspec": {
   "display_name": "Python 3 (ipykernel)",
   "language": "python",
   "name": "python3"
  },
  "language_info": {
   "codemirror_mode": {
    "name": "ipython",
    "version": 3
   },
   "file_extension": ".py",
   "mimetype": "text/x-python",
   "name": "python",
   "nbconvert_exporter": "python",
   "pygments_lexer": "ipython3",
   "version": "3.11.7"
  }
 },
 "nbformat": 4,
 "nbformat_minor": 5
}
