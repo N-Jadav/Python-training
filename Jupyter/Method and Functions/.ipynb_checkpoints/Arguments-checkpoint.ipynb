{
 "cells": [
  {
   "cell_type": "code",
   "execution_count": 1,
   "id": "36e0063e-4fa3-40de-9279-46aa4dbe635b",
   "metadata": {},
   "outputs": [],
   "source": [
    "def my_func(a,b):\n",
    "    #Returns 5% of the sum of a,b\n",
    "    return sum((a,b))*0.5"
   ]
  },
  {
   "cell_type": "code",
   "execution_count": 2,
   "id": "a8a737f6-da59-44cd-9496-285047e05b89",
   "metadata": {},
   "outputs": [
    {
     "data": {
      "text/plain": [
       "50.0"
      ]
     },
     "execution_count": 2,
     "metadata": {},
     "output_type": "execute_result"
    }
   ],
   "source": [
    "my_func(40,60)"
   ]
  },
  {
   "cell_type": "code",
   "execution_count": 3,
   "id": "394562e1-d494-47eb-910a-a7b883c551f6",
   "metadata": {},
   "outputs": [],
   "source": [
    "## If we want to pass more parameters to the function\n",
    "## *args allows to pass n number of arguments, and they will be treated as tuples in the function\n",
    "def my_func(*args):\n",
    "    return sum(args)*0.5"
   ]
  },
  {
   "cell_type": "code",
   "execution_count": 4,
   "id": "899fde22-e78b-419f-825c-1a2ba971da68",
   "metadata": {},
   "outputs": [
    {
     "data": {
      "text/plain": [
       "4.5"
      ]
     },
     "execution_count": 4,
     "metadata": {},
     "output_type": "execute_result"
    }
   ],
   "source": [
    "my_func(2,3,4)"
   ]
  },
  {
   "cell_type": "code",
   "execution_count": 5,
   "id": "94416c19-65ce-4dfc-a2d1-38190e64d3b9",
   "metadata": {},
   "outputs": [
    {
     "data": {
      "text/plain": [
       "22.5"
      ]
     },
     "execution_count": 5,
     "metadata": {},
     "output_type": "execute_result"
    }
   ],
   "source": [
    "my_func(1,2,3,4,5,6,7,8,9)"
   ]
  },
  {
   "cell_type": "code",
   "execution_count": 11,
   "id": "a7541945-fcb9-4b28-a0cd-d82d98dd050c",
   "metadata": {},
   "outputs": [],
   "source": [
    "## *kwargs allows to send n number of keyworded arguments, they are threated as dictionary inside the function\n",
    "def myfunc(**kwargs):\n",
    "    print(kwargs)\n",
    "    if 'fruit' in kwargs:\n",
    "        print('My fruit of choice is {}'.format(kwargs['fruit']))\n",
    "    else:\n",
    "        print('I did not find any fruit here')\n"
   ]
  },
  {
   "cell_type": "code",
   "execution_count": 7,
   "id": "2a0bbac9-3514-4141-8923-bfbdfce60faf",
   "metadata": {},
   "outputs": [
    {
     "name": "stdout",
     "output_type": "stream",
     "text": [
      "My fruit of choice is apple\n"
     ]
    }
   ],
   "source": [
    "myfunc(fruit = 'apple')"
   ]
  },
  {
   "cell_type": "code",
   "execution_count": 12,
   "id": "360e2e6d-e4f6-4b30-9212-e41589cdb41e",
   "metadata": {},
   "outputs": [
    {
     "name": "stdout",
     "output_type": "stream",
     "text": [
      "{'veggi': 'spinach'}\n",
      "I did not find any fruit here\n"
     ]
    }
   ],
   "source": [
    "myfunc(veggi = 'spinach')"
   ]
  },
  {
   "cell_type": "code",
   "execution_count": 15,
   "id": "4cfc4ac2-b5bf-4385-a66e-ae0fbe4a9190",
   "metadata": {},
   "outputs": [],
   "source": [
    "def myfunc(*args, **kwargs):\n",
    "    print('I would like to have {} {}'.format(args[0], kwargs['food']))"
   ]
  },
  {
   "cell_type": "code",
   "execution_count": 16,
   "id": "1226654c-478b-44d8-84c1-decf6aeb0c2a",
   "metadata": {},
   "outputs": [
    {
     "name": "stdout",
     "output_type": "stream",
     "text": [
      "I would like to have 1 Pizza\n"
     ]
    }
   ],
   "source": [
    "myfunc(1,2,3,4, fruit='Orange', food='Pizza', drink='Coke')"
   ]
  },
  {
   "cell_type": "code",
   "execution_count": null,
   "id": "45f16cc8-8478-4a26-827b-0c06c2c4c9ec",
   "metadata": {},
   "outputs": [],
   "source": []
  }
 ],
 "metadata": {
  "kernelspec": {
   "display_name": "Python 3 (ipykernel)",
   "language": "python",
   "name": "python3"
  },
  "language_info": {
   "codemirror_mode": {
    "name": "ipython",
    "version": 3
   },
   "file_extension": ".py",
   "mimetype": "text/x-python",
   "name": "python",
   "nbconvert_exporter": "python",
   "pygments_lexer": "ipython3",
   "version": "3.11.7"
  }
 },
 "nbformat": 4,
 "nbformat_minor": 5
}
