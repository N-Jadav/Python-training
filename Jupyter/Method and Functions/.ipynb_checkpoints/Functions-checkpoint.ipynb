{
 "cells": [
  {
   "cell_type": "code",
   "execution_count": 8,
   "id": "243a9767-6193-4564-b8a8-1da3fd2a09e4",
   "metadata": {},
   "outputs": [
    {
     "name": "stdout",
     "output_type": "stream",
     "text": [
      "Hello World User\n"
     ]
    }
   ],
   "source": [
    "## Functions allow to create blocks of code that can be easily executed many times\n",
    "## Snake casing is used for function name\n",
    "def say_hello(name):\n",
    "    '''\n",
    "    Defination of the function,\n",
    "    To explain what the function do.\n",
    "    '''\n",
    "    print('Hello World '+ name)\n",
    "    \n",
    "say_hello('User')"
   ]
  },
  {
   "cell_type": "code",
   "execution_count": 10,
   "id": "5f0c2ccc-6878-4263-8c72-5aeffdc54c0d",
   "metadata": {},
   "outputs": [
    {
     "name": "stdout",
     "output_type": "stream",
     "text": [
      "5 6\n"
     ]
    }
   ],
   "source": [
    "## num2=3, 3 is the default value for num2\n",
    "def sum(num1, num2=3):\n",
    "    return num1+num2\n",
    "\n",
    "result = sum(2,3)\n",
    "\n",
    "##defaultResult will use the default value of num2\n",
    "defaultResult = sum(3)\n",
    "print(result, defaultResult)"
   ]
  },
  {
   "cell_type": "code",
   "execution_count": 15,
   "id": "d01184cc-b9a5-4ab2-8e98-a89f379904b4",
   "metadata": {},
   "outputs": [
    {
     "name": "stdout",
     "output_type": "stream",
     "text": [
      "False\n"
     ]
    }
   ],
   "source": [
    "## Function to check if a given number is odd or even\n",
    "def even_check(number):\n",
    "    if number%2 == 0:\n",
    "        return True\n",
    "    else:\n",
    "        return False\n",
    "\n",
    "result = even_check(3)\n",
    "print(result)"
   ]
  },
  {
   "cell_type": "code",
   "execution_count": 12,
   "id": "ea798d0b-66f5-4cc8-9430-09bb704c5cc9",
   "metadata": {},
   "outputs": [
    {
     "name": "stdout",
     "output_type": "stream",
     "text": [
      "Even number: 4\n"
     ]
    }
   ],
   "source": [
    "even_check(4)"
   ]
  },
  {
   "cell_type": "code",
   "execution_count": 18,
   "id": "6291e7de-6a63-4471-9717-24a19fe03ab8",
   "metadata": {},
   "outputs": [
    {
     "data": {
      "text/plain": [
       "False"
      ]
     },
     "execution_count": 18,
     "metadata": {},
     "output_type": "execute_result"
    }
   ],
   "source": [
    "##Return true if any number is even inside a list\n",
    "def check_even_list(numList):\n",
    "    for num in numList:\n",
    "        if(even_check(num)):\n",
    "            return True\n",
    "        else:\n",
    "            pass\n",
    "    return False\n",
    "\n",
    "check_even_list([1,1,1])\n",
    "    "
   ]
  },
  {
   "cell_type": "code",
   "execution_count": 19,
   "id": "0319b210-216f-4d22-902e-a5eae1833484",
   "metadata": {},
   "outputs": [
    {
     "data": {
      "text/plain": [
       "[2, 4, 6]"
      ]
     },
     "execution_count": 19,
     "metadata": {},
     "output_type": "execute_result"
    }
   ],
   "source": [
    "##Return all the even numbers from a list\n",
    "def return_even_list(numList):\n",
    "    evenList = []\n",
    "    for num in numList:\n",
    "        if(even_check(num)):\n",
    "            evenList.append(num)\n",
    "        else:\n",
    "            pass\n",
    "    return evenList\n",
    "\n",
    "return_even_list([1,2,3,4,5,6])"
   ]
  },
  {
   "cell_type": "code",
   "execution_count": null,
   "id": "0a551da3-faae-4669-8f56-b6ffe36db5eb",
   "metadata": {},
   "outputs": [],
   "source": []
  }
 ],
 "metadata": {
  "kernelspec": {
   "display_name": "Python 3 (ipykernel)",
   "language": "python",
   "name": "python3"
  },
  "language_info": {
   "codemirror_mode": {
    "name": "ipython",
    "version": 3
   },
   "file_extension": ".py",
   "mimetype": "text/x-python",
   "name": "python",
   "nbconvert_exporter": "python",
   "pygments_lexer": "ipython3",
   "version": "3.11.7"
  }
 },
 "nbformat": 4,
 "nbformat_minor": 5
}
