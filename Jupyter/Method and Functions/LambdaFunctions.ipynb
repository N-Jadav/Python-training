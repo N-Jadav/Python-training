{
 "cells": [
  {
   "cell_type": "code",
   "execution_count": 2,
   "id": "f7215888-a766-4859-ada4-1d0d465cea1c",
   "metadata": {},
   "outputs": [],
   "source": [
    "## Lambda expression is a way to write a function\n",
    "\n",
    "def square(num):\n",
    "    result = num**2\n",
    "    return result"
   ]
  },
  {
   "cell_type": "code",
   "execution_count": 3,
   "id": "978a4ab1-56af-44c4-8f2e-cedfd7ea23a6",
   "metadata": {},
   "outputs": [
    {
     "data": {
      "text/plain": [
       "4"
      ]
     },
     "execution_count": 3,
     "metadata": {},
     "output_type": "execute_result"
    }
   ],
   "source": [
    "square(2)"
   ]
  },
  {
   "cell_type": "code",
   "execution_count": 4,
   "id": "068ba30d-d87d-4887-a470-7f35bd90bfec",
   "metadata": {},
   "outputs": [],
   "source": [
    "## Lambda expression also known as anonymous function, so its mostly used when the function is needed for just one time\n",
    "\n",
    "square = lambda num : num**2"
   ]
  },
  {
   "cell_type": "code",
   "execution_count": 5,
   "id": "c46e8093-447c-479c-bf1c-99e2f2bc3671",
   "metadata": {},
   "outputs": [
    {
     "data": {
      "text/plain": [
       "4"
      ]
     },
     "execution_count": 5,
     "metadata": {},
     "output_type": "execute_result"
    }
   ],
   "source": [
    "square(2)"
   ]
  },
  {
   "cell_type": "code",
   "execution_count": 7,
   "id": "22b2339f-58d0-49a0-b243-a1b15ed6fc16",
   "metadata": {},
   "outputs": [
    {
     "data": {
      "text/plain": [
       "[2, 4, 6, 8, 10, 12]"
      ]
     },
     "execution_count": 7,
     "metadata": {},
     "output_type": "execute_result"
    }
   ],
   "source": [
    "mynums = [1,2,3,4,5,6]\n",
    "list(map(lambda num:num*2, mynums))"
   ]
  },
  {
   "cell_type": "code",
   "execution_count": 9,
   "id": "770e5c43-798c-49ca-8074-8e8e1418e3a7",
   "metadata": {},
   "outputs": [
    {
     "data": {
      "text/plain": [
       "[2, 4, 6]"
      ]
     },
     "execution_count": 9,
     "metadata": {},
     "output_type": "execute_result"
    }
   ],
   "source": [
    "list(filter(lambda num: num%2==0, mynums))"
   ]
  },
  {
   "cell_type": "code",
   "execution_count": 11,
   "id": "6f0ebbee-209f-4e04-94dc-f64dfb9b2c9f",
   "metadata": {},
   "outputs": [
    {
     "data": {
      "text/plain": [
       "['ydnA', 'avE', 'yllaS']"
      ]
     },
     "execution_count": 11,
     "metadata": {},
     "output_type": "execute_result"
    }
   ],
   "source": [
    "## reverse the words\n",
    "names = ['Andy', 'Eva', 'Sally']\n",
    "list(map(lambda str: str[::-1], names))"
   ]
  },
  {
   "cell_type": "code",
   "execution_count": null,
   "id": "b8bc4351-6d29-471b-8c07-63ed583d5aab",
   "metadata": {},
   "outputs": [],
   "source": []
  }
 ],
 "metadata": {
  "kernelspec": {
   "display_name": "Python 3 (ipykernel)",
   "language": "python",
   "name": "python3"
  },
  "language_info": {
   "codemirror_mode": {
    "name": "ipython",
    "version": 3
   },
   "file_extension": ".py",
   "mimetype": "text/x-python",
   "name": "python",
   "nbconvert_exporter": "python",
   "pygments_lexer": "ipython3",
   "version": "3.11.7"
  }
 },
 "nbformat": 4,
 "nbformat_minor": 5
}
