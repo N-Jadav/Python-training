{
 "cells": [
  {
   "cell_type": "code",
   "execution_count": 5,
   "id": "c4671ab3-699c-4842-9d52-f30cbe462e40",
   "metadata": {},
   "outputs": [
    {
     "name": "stdout",
     "output_type": "stream",
     "text": [
      "('GOOG', 750) GOOG 750\n"
     ]
    }
   ],
   "source": [
    "##Return higest priced stock\n",
    "stock_prices = [('APPLE', 300),('GOOG', 750),('MSFT', 100)]\n",
    "def stock_check(stock_details):\n",
    "    curr_max = 0\n",
    "    stock_name = ''\n",
    "    for ticker,price in stock_details:\n",
    "        if(price > curr_max):\n",
    "            curr_max = price\n",
    "            stock_name = ticker\n",
    "        else:\n",
    "            pass\n",
    "    return (stock_name, curr_max)\n",
    "\n",
    "result = stock_check(stock_prices)\n",
    "name, price = stock_check(stock_prices)\n",
    "print(result, name, price)\n",
    "\n",
    "\n",
    "\n",
    "    "
   ]
  },
  {
   "cell_type": "code",
   "execution_count": null,
   "id": "cd35c0a1-a475-4a83-9acb-85faf52d069b",
   "metadata": {},
   "outputs": [],
   "source": []
  }
 ],
 "metadata": {
  "kernelspec": {
   "display_name": "Python 3 (ipykernel)",
   "language": "python",
   "name": "python3"
  },
  "language_info": {
   "codemirror_mode": {
    "name": "ipython",
    "version": 3
   },
   "file_extension": ".py",
   "mimetype": "text/x-python",
   "name": "python",
   "nbconvert_exporter": "python",
   "pygments_lexer": "ipython3",
   "version": "3.11.7"
  }
 },
 "nbformat": 4,
 "nbformat_minor": 5
}
