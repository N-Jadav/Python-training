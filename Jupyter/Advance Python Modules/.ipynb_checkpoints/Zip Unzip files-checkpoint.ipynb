{
 "cells": [
  {
   "cell_type": "code",
   "execution_count": 8,
   "id": "eb21b454-2f56-4dff-ba8a-bf7d929bb09f",
   "metadata": {},
   "outputs": [],
   "source": [
    "f = open('fileone.txt', 'w+')\n",
    "f.write('First file')\n",
    "f.close()"
   ]
  },
  {
   "cell_type": "code",
   "execution_count": 9,
   "id": "80307f88-4e7a-4724-b408-6069d8ad422e",
   "metadata": {},
   "outputs": [],
   "source": [
    "f = open('filetwo.txt', 'w+')\n",
    "f.write('Second file')\n",
    "f.close()"
   ]
  },
  {
   "cell_type": "code",
   "execution_count": 10,
   "id": "c9eb9ec2-c777-4484-9c7b-1af1a709e586",
   "metadata": {},
   "outputs": [],
   "source": [
    "# Compress the files\n",
    "\n",
    "import zipfile\n",
    "# This will create a zip file\n",
    "comp_file = zipfile.ZipFile('com_file.zip', 'w')"
   ]
  },
  {
   "cell_type": "code",
   "execution_count": 11,
   "id": "3449da92-cb2b-477b-af58-7b7ef1555db7",
   "metadata": {},
   "outputs": [],
   "source": [
    "# write the compressed fileone to the zipfile\n",
    "comp_file.write('fileone.txt', compress_type=zipfile.ZIP_DEFLATED)"
   ]
  },
  {
   "cell_type": "code",
   "execution_count": 12,
   "id": "365991e0-900b-4d91-b520-daeff218071c",
   "metadata": {},
   "outputs": [],
   "source": [
    "# write the compressed filetwo to the zipfile\n",
    "comp_file.write('filetwo.txt', compress_type=zipfile.ZIP_DEFLATED)"
   ]
  },
  {
   "cell_type": "code",
   "execution_count": 13,
   "id": "64a26f14-8773-40da-839a-627e44224b77",
   "metadata": {},
   "outputs": [],
   "source": [
    "comp_file.close()"
   ]
  },
  {
   "cell_type": "code",
   "execution_count": 17,
   "id": "d24c7a56-7aa9-494f-9857-1c1dc43c391d",
   "metadata": {},
   "outputs": [],
   "source": [
    "## Extract fromt he zip file\n",
    "\n",
    "zip_obj = zipfile.ZipFile('com_file.zip', 'r')"
   ]
  },
  {
   "cell_type": "code",
   "execution_count": 18,
   "id": "4656fbdc-18dc-49cb-acd6-f8a299520e7e",
   "metadata": {},
   "outputs": [],
   "source": [
    "## we have taked the com_file and extracted the contents to extracted_content folder\n",
    "zip_obj.extractall('extracted_content')"
   ]
  },
  {
   "cell_type": "code",
   "execution_count": 19,
   "id": "7ca7ea99-3420-42c5-ae3e-3c90c9b4cda7",
   "metadata": {},
   "outputs": [
    {
     "data": {
      "text/plain": [
       "'C:\\\\Users\\\\canee\\\\Desktop\\\\MyProjects\\\\Python-training\\\\Jupyter\\\\Advance Python Modules'"
      ]
     },
     "execution_count": 19,
     "metadata": {},
     "output_type": "execute_result"
    }
   ],
   "source": [
    "pwd"
   ]
  },
  {
   "cell_type": "code",
   "execution_count": 20,
   "id": "85f62893-9ca7-4b67-84e2-3cca707ee649",
   "metadata": {},
   "outputs": [
    {
     "data": {
      "text/plain": [
       "'C:\\\\Users\\\\canee\\\\Desktop\\\\MyProjects\\\\Python-training\\\\Jupyter\\\\Advance Python Modules\\\\example.zip'"
      ]
     },
     "execution_count": 20,
     "metadata": {},
     "output_type": "execute_result"
    }
   ],
   "source": [
    "# Archive and extract folders, then shell utility library is better option\n",
    "import shutil\n",
    "\n",
    "# Compress the extracted_content folder\n",
    "dir_to_zip = 'C:\\\\Users\\\\canee\\\\Desktop\\\\MyProjects\\\\Python-training\\\\Jupyter\\\\Advance Python Modules\\\\extracted_content'\n",
    "output_filename = 'example'\n",
    "\n",
    "# pass the destination, the type to be converted to and the dir to convert i.e the source\n",
    "shutil.make_archive(output_filename, 'zip', dir_to_zip)"
   ]
  },
  {
   "cell_type": "code",
   "execution_count": 22,
   "id": "3d8409e7-3466-4e8a-bbef-06d68813cfc6",
   "metadata": {},
   "outputs": [],
   "source": [
    "## Extract the files\n",
    "shutil.unpack_archive('example.zip', 'final_unzip', 'zip')"
   ]
  },
  {
   "cell_type": "code",
   "execution_count": null,
   "id": "479afd51-72cb-4bd8-a68c-765c0d58273e",
   "metadata": {},
   "outputs": [],
   "source": []
  }
 ],
 "metadata": {
  "kernelspec": {
   "display_name": "Python 3 (ipykernel)",
   "language": "python",
   "name": "python3"
  },
  "language_info": {
   "codemirror_mode": {
    "name": "ipython",
    "version": 3
   },
   "file_extension": ".py",
   "mimetype": "text/x-python",
   "name": "python",
   "nbconvert_exporter": "python",
   "pygments_lexer": "ipython3",
   "version": "3.11.7"
  }
 },
 "nbformat": 4,
 "nbformat_minor": 5
}
