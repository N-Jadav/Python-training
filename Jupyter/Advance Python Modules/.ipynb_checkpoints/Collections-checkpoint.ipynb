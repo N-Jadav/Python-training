{
 "cells": [
  {
   "cell_type": "code",
   "execution_count": 1,
   "id": "60bf9387-be8b-487d-93e4-67ad22fb84d5",
   "metadata": {},
   "outputs": [],
   "source": [
    "# Collections are special container types\n",
    "\n"
   ]
  },
  {
   "cell_type": "code",
   "execution_count": 3,
   "id": "e1e33060-1e38-4f4b-89b8-681a0ad650c2",
   "metadata": {},
   "outputs": [
    {
     "data": {
      "text/plain": [
       "Counter({1: 3, 2: 3, 3: 3, 4: 3})"
      ]
     },
     "execution_count": 3,
     "metadata": {},
     "output_type": "execute_result"
    }
   ],
   "source": [
    "# Counter is a collection which stores dictionary of elements with their count\n",
    "\n",
    "from collections import Counter\n",
    "mylist = [1,1,1,2,2,2,3,3,3,4,4,4]\n",
    "\n",
    "# Get count of each element\n",
    "Counter(mylist)"
   ]
  },
  {
   "cell_type": "code",
   "execution_count": 5,
   "id": "ed226707-fab7-4ed9-bab8-142629121adc",
   "metadata": {},
   "outputs": [
    {
     "data": {
      "text/plain": [
       "Counter({1: 3, 'a': 2})"
      ]
     },
     "execution_count": 5,
     "metadata": {},
     "output_type": "execute_result"
    }
   ],
   "source": [
    "mylist = ['a', 'a', 1,1,1]\n",
    "Counter(mylist)"
   ]
  },
  {
   "cell_type": "code",
   "execution_count": 6,
   "id": "a9bd329a-0a81-429e-a0b9-eb5727015be9",
   "metadata": {},
   "outputs": [
    {
     "data": {
      "text/plain": [
       "Counter({'b': 4, 's': 4, 'a': 3})"
      ]
     },
     "execution_count": 6,
     "metadata": {},
     "output_type": "execute_result"
    }
   ],
   "source": [
    "Counter(\"aaabbbbssss\")"
   ]
  },
  {
   "cell_type": "code",
   "execution_count": 9,
   "id": "44565e27-7a1c-43d6-8c9c-505634d13a62",
   "metadata": {},
   "outputs": [],
   "source": [
    "# Count words in a sentence\n",
    "sentence = \"Is it harder to toot or tutor two to toot\"\n",
    "c = Counter(sentence.split(\" \"))"
   ]
  },
  {
   "cell_type": "code",
   "execution_count": 10,
   "id": "e446964e-742f-4956-91a0-885554988df1",
   "metadata": {},
   "outputs": [
    {
     "name": "stdout",
     "output_type": "stream",
     "text": [
      "Counter({'to': 2, 'toot': 2, 'Is': 1, 'it': 1, 'harder': 1, 'or': 1, 'tutor': 1, 'two': 1})\n"
     ]
    }
   ],
   "source": [
    "print(c)"
   ]
  },
  {
   "cell_type": "code",
   "execution_count": 12,
   "id": "13191cbc-6529-4604-ba33-9703a7f05e89",
   "metadata": {},
   "outputs": [
    {
     "name": "stdout",
     "output_type": "stream",
     "text": [
      "[('to', 2), ('toot', 2)]\n"
     ]
    }
   ],
   "source": [
    "# Shows top 2 most common\n",
    "print(c.most_common(2))"
   ]
  },
  {
   "cell_type": "code",
   "execution_count": 13,
   "id": "f99b3697-0e64-46fa-8df6-7a24ea4d4ad5",
   "metadata": {},
   "outputs": [
    {
     "ename": "KeyError",
     "evalue": "'b'",
     "output_type": "error",
     "traceback": [
      "\u001b[1;31m---------------------------------------------------------------------------\u001b[0m",
      "\u001b[1;31mKeyError\u001b[0m                                  Traceback (most recent call last)",
      "Cell \u001b[1;32mIn[13], line 10\u001b[0m\n\u001b[0;32m      7\u001b[0m d[\u001b[38;5;124m'\u001b[39m\u001b[38;5;124ma\u001b[39m\u001b[38;5;124m'\u001b[39m]\n\u001b[0;32m      9\u001b[0m \u001b[38;5;66;03m## This will cause error and will stop the execution\u001b[39;00m\n\u001b[1;32m---> 10\u001b[0m d[\u001b[38;5;124m'\u001b[39m\u001b[38;5;124mb\u001b[39m\u001b[38;5;124m'\u001b[39m]\n",
      "\u001b[1;31mKeyError\u001b[0m: 'b'"
     ]
    }
   ],
   "source": [
    "# Normal dictionary\n",
    "d = {'a': 10}\n",
    "## this will show 10\n",
    "d['a']\n",
    "\n",
    "## This will cause error and will stop the execution\n",
    "d['b']"
   ]
  },
  {
   "cell_type": "code",
   "execution_count": 15,
   "id": "c7f65006-735a-4e07-9721-8e395e9de17c",
   "metadata": {},
   "outputs": [
    {
     "name": "stdout",
     "output_type": "stream",
     "text": [
      "10\n",
      "0\n"
     ]
    }
   ],
   "source": [
    "# defaultdict will assign a default value to a keyword that can cause the error\n",
    "from collections import defaultdict\n",
    "\n",
    "d = defaultdict(lambda: 0)\n",
    "d['a'] = 10\n",
    "print(d['a'])\n",
    "print(d['b'])"
   ]
  },
  {
   "cell_type": "code",
   "execution_count": 17,
   "id": "eb120548-3eac-4be7-ab90-eb8a70d4c762",
   "metadata": {},
   "outputs": [
    {
     "data": {
      "text/plain": [
       "10"
      ]
     },
     "execution_count": 17,
     "metadata": {},
     "output_type": "execute_result"
    }
   ],
   "source": [
    "my_tuple = (10,20,30)\n",
    "my_tuple[0]"
   ]
  },
  {
   "cell_type": "code",
   "execution_count": 18,
   "id": "e4671e90-20fd-4e95-a0af-afd1e8fe359a",
   "metadata": {},
   "outputs": [],
   "source": [
    "## namedtuple have named index, eg for a very large tuple where the index of elements are difficult to remember this can be useful\n",
    "from collections import namedtuple\n",
    "\n",
    "Dog = namedtuple('Dog', ['age', 'breed', 'name'])\n",
    "\n",
    "sammy = Dog(5, 'huskey', 'sam')"
   ]
  },
  {
   "cell_type": "code",
   "execution_count": 19,
   "id": "24dfc6b6-0a41-400a-ac92-419aefcee1de",
   "metadata": {},
   "outputs": [
    {
     "data": {
      "text/plain": [
       "Dog(age=5, breed='huskey', name='sam')"
      ]
     },
     "execution_count": 19,
     "metadata": {},
     "output_type": "execute_result"
    }
   ],
   "source": [
    "sammy"
   ]
  },
  {
   "cell_type": "code",
   "execution_count": 20,
   "id": "b06881da-b4bd-44f0-bd1f-29f92e9bc6f2",
   "metadata": {},
   "outputs": [
    {
     "data": {
      "text/plain": [
       "5"
      ]
     },
     "execution_count": 20,
     "metadata": {},
     "output_type": "execute_result"
    }
   ],
   "source": [
    "sammy.age"
   ]
  },
  {
   "cell_type": "code",
   "execution_count": 21,
   "id": "fef46295-9d35-4e2f-935a-a9825f0e9244",
   "metadata": {},
   "outputs": [
    {
     "data": {
      "text/plain": [
       "5"
      ]
     },
     "execution_count": 21,
     "metadata": {},
     "output_type": "execute_result"
    }
   ],
   "source": [
    "sammy[0]"
   ]
  },
  {
   "cell_type": "code",
   "execution_count": null,
   "id": "23bceb24-7845-4570-82d9-e5957ddb6d05",
   "metadata": {},
   "outputs": [],
   "source": []
  }
 ],
 "metadata": {
  "kernelspec": {
   "display_name": "Python 3 (ipykernel)",
   "language": "python",
   "name": "python3"
  },
  "language_info": {
   "codemirror_mode": {
    "name": "ipython",
    "version": 3
   },
   "file_extension": ".py",
   "mimetype": "text/x-python",
   "name": "python",
   "nbconvert_exporter": "python",
   "pygments_lexer": "ipython3",
   "version": "3.11.7"
  }
 },
 "nbformat": 4,
 "nbformat_minor": 5
}
