{
 "cells": [
  {
   "cell_type": "code",
   "execution_count": 1,
   "id": "ce5fc62d-2a7f-4a5a-b1e7-9f3d16fa0b08",
   "metadata": {},
   "outputs": [],
   "source": [
    "# Track the time of the code execution, to figure out which solution is fastest or in general to know how much time a code takes for execution\n",
    "\n",
    "def func_one(n):\n",
    "    return [str(num) for num in range(n)]"
   ]
  },
  {
   "cell_type": "code",
   "execution_count": 2,
   "id": "bd67f91b-aae0-475e-8600-aee00fd763e6",
   "metadata": {},
   "outputs": [
    {
     "data": {
      "text/plain": [
       "['0', '1', '2', '3', '4', '5', '6', '7', '8', '9']"
      ]
     },
     "execution_count": 2,
     "metadata": {},
     "output_type": "execute_result"
    }
   ],
   "source": [
    "func_one(10)"
   ]
  },
  {
   "cell_type": "code",
   "execution_count": 3,
   "id": "4b156adb-a5f6-4283-b490-af09ebcf14ce",
   "metadata": {},
   "outputs": [],
   "source": [
    "def func_two(n):\n",
    "    return list(map(str,range(n)))"
   ]
  },
  {
   "cell_type": "code",
   "execution_count": 4,
   "id": "39f50962-ca15-436d-8e4a-3aa4349efa74",
   "metadata": {},
   "outputs": [
    {
     "data": {
      "text/plain": [
       "['0', '1', '2', '3', '4', '5', '6', '7', '8', '9']"
      ]
     },
     "execution_count": 4,
     "metadata": {},
     "output_type": "execute_result"
    }
   ],
   "source": [
    "func_two(10)"
   ]
  },
  {
   "cell_type": "code",
   "execution_count": 7,
   "id": "3db080eb-0961-4755-b4c1-4c8d8fa14830",
   "metadata": {},
   "outputs": [
    {
     "name": "stdout",
     "output_type": "stream",
     "text": [
      "0.9185044765472412\n"
     ]
    }
   ],
   "source": [
    "import time\n",
    "\n",
    "# Grab the current time before code execution\n",
    "start_time = time.time()\n",
    "\n",
    "# run the code\n",
    "result = func_one(10000000)\n",
    "\n",
    "# Grab the current time after code execution \n",
    "end_time = time.time()\n",
    "\n",
    "# get the difference for elapsed time\n",
    "elapsed_time = end_time-start_time\n",
    "\n",
    "print(elapsed_time)"
   ]
  },
  {
   "cell_type": "code",
   "execution_count": 8,
   "id": "03a294f9-0078-4165-8fe3-2c2a99373fca",
   "metadata": {},
   "outputs": [
    {
     "name": "stdout",
     "output_type": "stream",
     "text": [
      "1.1493566036224365\n"
     ]
    }
   ],
   "source": [
    "import time\n",
    "\n",
    "# Grab the current time before code execution\n",
    "start_time = time.time()\n",
    "\n",
    "# run the code\n",
    "result = func_two(10000000)\n",
    "\n",
    "# Grab the current time after code execution \n",
    "end_time = time.time()\n",
    "\n",
    "# get the difference for elapsed time\n",
    "elapsed_time = end_time-start_time\n",
    "\n",
    "print(elapsed_time)"
   ]
  },
  {
   "cell_type": "code",
   "execution_count": 9,
   "id": "a4f36549-030d-4e44-86ab-67602e0d0fb3",
   "metadata": {},
   "outputs": [],
   "source": [
    "# Time library don't have very good precision for very small fast running codes, so we can use timeit module"
   ]
  },
  {
   "cell_type": "code",
   "execution_count": 10,
   "id": "aa3f34bc-0e68-4e30-ad39-e1fbba72700c",
   "metadata": {},
   "outputs": [],
   "source": [
    "import timeit"
   ]
  },
  {
   "cell_type": "code",
   "execution_count": 12,
   "id": "a619f18c-75e6-4b2b-967b-6239597689a5",
   "metadata": {},
   "outputs": [
    {
     "data": {
      "text/plain": [
       "0.006123300001490861"
      ]
     },
     "execution_count": 12,
     "metadata": {},
     "output_type": "execute_result"
    }
   ],
   "source": [
    "stmt = ''' \n",
    "func_one(100)\n",
    "'''\n",
    "setup = ''' \n",
    "def func_one(n):\n",
    "    return [str(num) for num in range(n)]\n",
    "'''\n",
    "# stmt is the function call, setup is the function defination and number is how many time to run the function to get the precise time\n",
    "timeit.timeit(stmt, setup, number = 1000)"
   ]
  },
  {
   "cell_type": "code",
   "execution_count": 13,
   "id": "50a82204-84b6-4b01-bf0f-d7946f6f3b1e",
   "metadata": {},
   "outputs": [
    {
     "data": {
      "text/plain": [
       "0.00781699997605756"
      ]
     },
     "execution_count": 13,
     "metadata": {},
     "output_type": "execute_result"
    }
   ],
   "source": [
    "stmt2 = ''' \n",
    "func_two(100)\n",
    "'''\n",
    "setup2 = ''' \n",
    "def func_two(n):\n",
    "    return list(map(str,range(n)))\n",
    "'''\n",
    "# stmt is the function call, setup is the function defination and number is how many time to run the function to get the precise time\n",
    "timeit.timeit(stmt2, setup2, number = 1000)"
   ]
  }
 ],
 "metadata": {
  "kernelspec": {
   "display_name": "Python 3 (ipykernel)",
   "language": "python",
   "name": "python3"
  },
  "language_info": {
   "codemirror_mode": {
    "name": "ipython",
    "version": 3
   },
   "file_extension": ".py",
   "mimetype": "text/x-python",
   "name": "python",
   "nbconvert_exporter": "python",
   "pygments_lexer": "ipython3",
   "version": "3.11.7"
  }
 },
 "nbformat": 4,
 "nbformat_minor": 5
}
