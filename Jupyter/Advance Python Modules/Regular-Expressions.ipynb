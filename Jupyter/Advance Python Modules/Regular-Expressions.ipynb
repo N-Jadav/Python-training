{
 "cells": [
  {
   "cell_type": "code",
   "execution_count": 13,
   "id": "4c56b2bf-7e94-4713-b073-e1fabad77796",
   "metadata": {},
   "outputs": [
    {
     "data": {
      "text/plain": [
       "True"
      ]
     },
     "execution_count": 13,
     "metadata": {},
     "output_type": "execute_result"
    }
   ],
   "source": [
    "## Regular expression helps to look for patterns in strings, re module helps in this\n",
    "\n",
    "text = \"The agent's phone number is 432-222-1111. Call the phone\"\n",
    "'phone' in text"
   ]
  },
  {
   "cell_type": "code",
   "execution_count": 14,
   "id": "a8540fc7-a795-491f-880b-7cc2ae1208da",
   "metadata": {},
   "outputs": [],
   "source": [
    "import re\n",
    "\n",
    "pattern = 'phone'\n",
    "\n",
    "## will return the match, as well as the index\n",
    "## It only return the very first match it finds\n",
    "match = re.search(pattern,text)"
   ]
  },
  {
   "cell_type": "code",
   "execution_count": 15,
   "id": "45a8b8e9-f862-423e-a0ae-2da30f3a1a25",
   "metadata": {},
   "outputs": [],
   "source": [
    "pattern = 'Hello'\n",
    "re.search(pattern, text)"
   ]
  },
  {
   "cell_type": "code",
   "execution_count": 16,
   "id": "3338fab8-d1d4-4a5a-a22d-26b9cc53b898",
   "metadata": {},
   "outputs": [
    {
     "data": {
      "text/plain": [
       "(12, 17)"
      ]
     },
     "execution_count": 16,
     "metadata": {},
     "output_type": "execute_result"
    }
   ],
   "source": [
    "match.span()"
   ]
  },
  {
   "cell_type": "code",
   "execution_count": 17,
   "id": "028c1a7a-796f-41c4-b005-09508bba0761",
   "metadata": {},
   "outputs": [
    {
     "data": {
      "text/plain": [
       "12"
      ]
     },
     "execution_count": 17,
     "metadata": {},
     "output_type": "execute_result"
    }
   ],
   "source": [
    "match.start()"
   ]
  },
  {
   "cell_type": "code",
   "execution_count": 18,
   "id": "f455e490-b436-4f36-ae79-ec832e1567f9",
   "metadata": {},
   "outputs": [
    {
     "data": {
      "text/plain": [
       "17"
      ]
     },
     "execution_count": 18,
     "metadata": {},
     "output_type": "execute_result"
    }
   ],
   "source": [
    "match.end()"
   ]
  },
  {
   "cell_type": "code",
   "execution_count": 21,
   "id": "611159be-5ad5-4c17-b727-46ab751358dc",
   "metadata": {},
   "outputs": [],
   "source": [
    "all_matches = re.findall('phone', text)"
   ]
  },
  {
   "cell_type": "code",
   "execution_count": 23,
   "id": "c3e6ed4e-50ed-496b-8d85-78e2ad295706",
   "metadata": {},
   "outputs": [
    {
     "name": "stdout",
     "output_type": "stream",
     "text": [
      "['phone', 'phone']\n",
      "2\n"
     ]
    }
   ],
   "source": [
    "print(all_matches)\n",
    "print(len(all_matches))\n"
   ]
  },
  {
   "cell_type": "code",
   "execution_count": 25,
   "id": "1bdad348-0d07-40e3-875f-221c67463c67",
   "metadata": {},
   "outputs": [
    {
     "name": "stdout",
     "output_type": "stream",
     "text": [
      "<re.Match object; span=(12, 17), match='phone'>\n",
      "phone\n",
      "<re.Match object; span=(51, 56), match='phone'>\n",
      "phone\n"
     ]
    }
   ],
   "source": [
    "## returns the matches in iterable form\n",
    "for match in re.finditer('phone', text):\n",
    "    print(match)\n",
    "    print(match.group())\n",
    "    "
   ]
  },
  {
   "cell_type": "code",
   "execution_count": null,
   "id": "b045d8c9-17c2-47f8-b2cc-12f2e13f2a4e",
   "metadata": {},
   "outputs": [],
   "source": []
  }
 ],
 "metadata": {
  "kernelspec": {
   "display_name": "Python 3 (ipykernel)",
   "language": "python",
   "name": "python3"
  },
  "language_info": {
   "codemirror_mode": {
    "name": "ipython",
    "version": 3
   },
   "file_extension": ".py",
   "mimetype": "text/x-python",
   "name": "python",
   "nbconvert_exporter": "python",
   "pygments_lexer": "ipython3",
   "version": "3.11.7"
  }
 },
 "nbformat": 4,
 "nbformat_minor": 5
}
