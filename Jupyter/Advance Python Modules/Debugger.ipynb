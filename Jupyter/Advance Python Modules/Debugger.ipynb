{
 "cells": [
  {
   "cell_type": "code",
   "execution_count": 3,
   "id": "67c08cf2-abd2-40d2-bbb7-8288a1baf786",
   "metadata": {},
   "outputs": [
    {
     "ename": "TypeError",
     "evalue": "can only concatenate list (not \"int\") to list",
     "output_type": "error",
     "traceback": [
      "\u001b[1;31m---------------------------------------------------------------------------\u001b[0m",
      "\u001b[1;31mTypeError\u001b[0m                                 Traceback (most recent call last)",
      "Cell \u001b[1;32mIn[3], line 6\u001b[0m\n\u001b[0;32m      3\u001b[0m z\u001b[38;5;241m=\u001b[39m\u001b[38;5;241m3\u001b[39m\n\u001b[0;32m      5\u001b[0m result \u001b[38;5;241m=\u001b[39m y\u001b[38;5;241m+\u001b[39mz\n\u001b[1;32m----> 6\u001b[0m result2 \u001b[38;5;241m=\u001b[39m x\u001b[38;5;241m+\u001b[39my\n",
      "\u001b[1;31mTypeError\u001b[0m: can only concatenate list (not \"int\") to list"
     ]
    }
   ],
   "source": [
    "x = [1,2,3]\n",
    "y=2\n",
    "z=3\n",
    "\n",
    "result = y+z\n",
    "result2 = x+y"
   ]
  },
  {
   "cell_type": "code",
   "execution_count": 5,
   "id": "c69ec5b5-a0ef-43e1-856a-12761af1665f",
   "metadata": {},
   "outputs": [
    {
     "name": "stdout",
     "output_type": "stream",
     "text": [
      "--Return--\n",
      "None\n",
      "> \u001b[1;32mc:\\users\\canee\\appdata\\local\\temp\\ipykernel_23136\\1144711875.py\u001b[0m(10)\u001b[0;36m<module>\u001b[1;34m()\u001b[0m\n",
      "\n"
     ]
    },
    {
     "name": "stdin",
     "output_type": "stream",
     "text": [
      "ipdb>  q\n"
     ]
    }
   ],
   "source": [
    "# Use python debugger to debug the issue\n",
    "import pdb\n",
    "\n",
    "x = [1,2,3]\n",
    "y=2\n",
    "z=3\n",
    "\n",
    "result_one = y+z\n",
    "# Allows to pause the execution mid script, and let the user play with the variables in order to help debug\n",
    "pdb.set_trace()\n",
    "result_two = x+y"
   ]
  },
  {
   "cell_type": "code",
   "execution_count": null,
   "id": "f932a346-bfb0-43fe-8498-5c85629bb731",
   "metadata": {},
   "outputs": [],
   "source": []
  }
 ],
 "metadata": {
  "kernelspec": {
   "display_name": "Python 3 (ipykernel)",
   "language": "python",
   "name": "python3"
  },
  "language_info": {
   "codemirror_mode": {
    "name": "ipython",
    "version": 3
   },
   "file_extension": ".py",
   "mimetype": "text/x-python",
   "name": "python",
   "nbconvert_exporter": "python",
   "pygments_lexer": "ipython3",
   "version": "3.11.7"
  }
 },
 "nbformat": 4,
 "nbformat_minor": 5
}
