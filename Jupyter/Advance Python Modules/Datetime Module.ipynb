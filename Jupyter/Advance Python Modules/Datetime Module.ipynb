{
 "cells": [
  {
   "cell_type": "code",
   "execution_count": 25,
   "id": "58d78cb3-d20e-4b0e-a13b-c59bb8eaa65c",
   "metadata": {},
   "outputs": [],
   "source": [
    "import datetime\n",
    "\n",
    "# Works on 24 hour format\n",
    "mytime = datetime.time(2,20, 3, 15)\n"
   ]
  },
  {
   "cell_type": "code",
   "execution_count": 26,
   "id": "9d87ffc5-8abf-459d-b30c-4c7ff6a68dea",
   "metadata": {},
   "outputs": [
    {
     "data": {
      "text/plain": [
       "20"
      ]
     },
     "execution_count": 26,
     "metadata": {},
     "output_type": "execute_result"
    }
   ],
   "source": [
    "mytime.minute"
   ]
  },
  {
   "cell_type": "code",
   "execution_count": 27,
   "id": "9f50f622-1f3a-4c49-a8c2-4b948bbc0c50",
   "metadata": {},
   "outputs": [
    {
     "data": {
      "text/plain": [
       "2"
      ]
     },
     "execution_count": 27,
     "metadata": {},
     "output_type": "execute_result"
    }
   ],
   "source": [
    "mytime.hour"
   ]
  },
  {
   "cell_type": "code",
   "execution_count": 28,
   "id": "f2a946cc-1dfc-432e-ba24-6bad92b4069e",
   "metadata": {},
   "outputs": [
    {
     "name": "stdout",
     "output_type": "stream",
     "text": [
      "02:20:03.000015\n"
     ]
    }
   ],
   "source": [
    "print(mytime)"
   ]
  },
  {
   "cell_type": "code",
   "execution_count": 29,
   "id": "997aa1b2-6538-4daa-a09f-eb866843d61f",
   "metadata": {},
   "outputs": [
    {
     "data": {
      "text/plain": [
       "15"
      ]
     },
     "execution_count": 29,
     "metadata": {},
     "output_type": "execute_result"
    }
   ],
   "source": [
    "mytime.microsecond"
   ]
  },
  {
   "cell_type": "code",
   "execution_count": 30,
   "id": "457cc2f3-255f-4f13-83e2-10f473ea64a0",
   "metadata": {},
   "outputs": [
    {
     "data": {
      "text/plain": [
       "datetime.time"
      ]
     },
     "execution_count": 30,
     "metadata": {},
     "output_type": "execute_result"
    }
   ],
   "source": [
    "type(mytime)"
   ]
  },
  {
   "cell_type": "code",
   "execution_count": 31,
   "id": "62effa9e-f6af-4a1c-9b69-d682ed275a32",
   "metadata": {},
   "outputs": [],
   "source": [
    "today = datetime.date.today()"
   ]
  },
  {
   "cell_type": "code",
   "execution_count": 32,
   "id": "780a5783-c232-4fdf-a685-e4edd4718217",
   "metadata": {},
   "outputs": [
    {
     "name": "stdout",
     "output_type": "stream",
     "text": [
      "2024-04-13\n"
     ]
    }
   ],
   "source": [
    "print(today)"
   ]
  },
  {
   "cell_type": "code",
   "execution_count": 33,
   "id": "1db57d8c-8066-40df-a6da-fd2c19c0e432",
   "metadata": {},
   "outputs": [
    {
     "name": "stdout",
     "output_type": "stream",
     "text": [
      "2024 4 13\n"
     ]
    }
   ],
   "source": [
    "print(f'{today.year} {today.month} {today.day}')"
   ]
  },
  {
   "cell_type": "code",
   "execution_count": 34,
   "id": "bf5eb350-e84f-4c16-a2a0-490182c6cfb9",
   "metadata": {},
   "outputs": [
    {
     "data": {
      "text/plain": [
       "'Sat Apr 13 00:00:00 2024'"
      ]
     },
     "execution_count": 34,
     "metadata": {},
     "output_type": "execute_result"
    }
   ],
   "source": [
    "today.ctime()"
   ]
  },
  {
   "cell_type": "code",
   "execution_count": 43,
   "id": "dd2e2662-273a-4866-853f-c7a5917112b0",
   "metadata": {},
   "outputs": [],
   "source": [
    "from datetime import datetime\n",
    "# datetime creates and object with date and time\n",
    "mydatetime = datetime(2024,4,11,14,32,12)"
   ]
  },
  {
   "cell_type": "code",
   "execution_count": 44,
   "id": "997d40c8-0a67-4030-bd9a-276e6f579fa8",
   "metadata": {},
   "outputs": [
    {
     "name": "stdout",
     "output_type": "stream",
     "text": [
      "2024-04-11 14:32:12\n"
     ]
    }
   ],
   "source": [
    "print(mydatetime)"
   ]
  },
  {
   "cell_type": "code",
   "execution_count": 45,
   "id": "d1513f8c-d40b-4c42-9a51-be94a0f92b63",
   "metadata": {},
   "outputs": [],
   "source": [
    "mydatetime = mydatetime.replace(year=2020)"
   ]
  },
  {
   "cell_type": "code",
   "execution_count": 46,
   "id": "d93ebf40-ba44-4638-bed4-b8e52e9e9e8e",
   "metadata": {},
   "outputs": [
    {
     "name": "stdout",
     "output_type": "stream",
     "text": [
      "2020-04-11 14:32:12\n"
     ]
    }
   ],
   "source": [
    "print(mydatetime)"
   ]
  },
  {
   "cell_type": "code",
   "execution_count": 48,
   "id": "72bb75fd-a833-4cfa-81e6-3032976c1787",
   "metadata": {},
   "outputs": [
    {
     "name": "stdout",
     "output_type": "stream",
     "text": [
      "365 days, 0:00:00\n"
     ]
    }
   ],
   "source": [
    "## Arithmatic operations can be performed on date or time\n",
    "from datetime import date\n",
    "\n",
    "date1 = date(2021,11,3)\n",
    "date2 = date(2020,11,3)\n",
    "\n",
    "## return result in number of days\n",
    "diff = date1-date2\n",
    "\n",
    "print(diff)"
   ]
  },
  {
   "cell_type": "code",
   "execution_count": 52,
   "id": "9632694b-178e-4434-ad15-88eacb04835b",
   "metadata": {},
   "outputs": [
    {
     "name": "stdout",
     "output_type": "stream",
     "text": [
      "365 days, 10:00:00\n",
      "31572000.0\n"
     ]
    }
   ],
   "source": [
    "datetime1 = datetime(2021,11,3,22,0)\n",
    "datetime2 = datetime(2020,11,3,12,0)\n",
    "\n",
    "diff = datetime1-datetime2\n",
    "print(diff)\n",
    "print(diff.total_seconds())"
   ]
  },
  {
   "cell_type": "code",
   "execution_count": null,
   "id": "654045f1-423b-497d-9667-88689a15d09c",
   "metadata": {},
   "outputs": [],
   "source": []
  }
 ],
 "metadata": {
  "kernelspec": {
   "display_name": "Python 3 (ipykernel)",
   "language": "python",
   "name": "python3"
  },
  "language_info": {
   "codemirror_mode": {
    "name": "ipython",
    "version": 3
   },
   "file_extension": ".py",
   "mimetype": "text/x-python",
   "name": "python",
   "nbconvert_exporter": "python",
   "pygments_lexer": "ipython3",
   "version": "3.11.7"
  }
 },
 "nbformat": 4,
 "nbformat_minor": 5
}
