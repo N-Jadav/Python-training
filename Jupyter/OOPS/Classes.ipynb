{
 "cells": [
  {
   "cell_type": "code",
   "execution_count": 44,
   "id": "5e1f8507-2849-41fc-a09b-029d34a93988",
   "metadata": {},
   "outputs": [],
   "source": [
    "# Classes are used for creating user defined objects.\n",
    "## Everything in Python is an object\n",
    "class Dog():\n",
    "\n",
    "    # Class Object Attribute\n",
    "    # Same for any instance of the class\n",
    "    species = 'mammal'\n",
    "\n",
    "    # Self connects the method to the instance of class\n",
    "    def __init__(self, breed, name):\n",
    "        self.breed = breed\n",
    "        self.name = name\n",
    "\n",
    "    # Operations/ Actions --> Methods\n",
    "    def bark(self):\n",
    "        print(\"WOOF! My name is {}\".format(self.name))"
   ]
  },
  {
   "cell_type": "code",
   "execution_count": 45,
   "id": "2e8c0ec1-be25-42e9-bf67-d58da3caffcd",
   "metadata": {},
   "outputs": [],
   "source": [
    "my_dog = Dog('Lab','Tom')"
   ]
  },
  {
   "cell_type": "code",
   "execution_count": 46,
   "id": "b86fc341-bc28-401f-a91c-d86508ac73e9",
   "metadata": {},
   "outputs": [
    {
     "data": {
      "text/plain": [
       "__main__.Dog"
      ]
     },
     "execution_count": 46,
     "metadata": {},
     "output_type": "execute_result"
    }
   ],
   "source": [
    "type(my_dog)"
   ]
  },
  {
   "cell_type": "code",
   "execution_count": 47,
   "id": "0f1110a5-7e00-41b0-8581-020744fd5f66",
   "metadata": {},
   "outputs": [
    {
     "data": {
      "text/plain": [
       "'Tom'"
      ]
     },
     "execution_count": 47,
     "metadata": {},
     "output_type": "execute_result"
    }
   ],
   "source": [
    "my_dog.name"
   ]
  },
  {
   "cell_type": "code",
   "execution_count": 48,
   "id": "e54994ca-8ebe-4762-a9c6-0dc4831f08a2",
   "metadata": {},
   "outputs": [
    {
     "data": {
      "text/plain": [
       "'mammal'"
      ]
     },
     "execution_count": 48,
     "metadata": {},
     "output_type": "execute_result"
    }
   ],
   "source": [
    "my_dog.species"
   ]
  },
  {
   "cell_type": "code",
   "execution_count": 49,
   "id": "c2adb384-18d0-4c74-a08a-f9599bc4fe46",
   "metadata": {},
   "outputs": [
    {
     "name": "stdout",
     "output_type": "stream",
     "text": [
      "WOOF! My name is Tom\n"
     ]
    }
   ],
   "source": [
    "my_dog.bark()"
   ]
  },
  {
   "cell_type": "code",
   "execution_count": 62,
   "id": "74104a0f-1f8a-4b1c-86a0-603169263b39",
   "metadata": {},
   "outputs": [],
   "source": [
    "class Circle():\n",
    "\n",
    "    # Class object attribute\n",
    "    pi = 3.14\n",
    "\n",
    "    # providing radius a default value\n",
    "    def __init__(self, radius=1):\n",
    "        \n",
    "        self.radius = radius\n",
    "        self.area = radius*radius*Circle.pi\n",
    "        \n",
    "    # Method \n",
    "    def get_circumference(self):\n",
    "        \n",
    "        return 2*self.pi*self.radius"
   ]
  },
  {
   "cell_type": "code",
   "execution_count": 63,
   "id": "ec151dcb-e03c-4599-8a2f-c147e2c7d7fc",
   "metadata": {},
   "outputs": [],
   "source": [
    "my_circle = Circle(2)"
   ]
  },
  {
   "cell_type": "code",
   "execution_count": 64,
   "id": "cf399c8c-aa3d-4e88-a8a4-d2dd7db71860",
   "metadata": {},
   "outputs": [
    {
     "data": {
      "text/plain": [
       "12.56"
      ]
     },
     "execution_count": 64,
     "metadata": {},
     "output_type": "execute_result"
    }
   ],
   "source": [
    "my_circle.get_circumference()"
   ]
  },
  {
   "cell_type": "code",
   "execution_count": 65,
   "id": "3298c995-1337-43f1-91a7-78359b8efaab",
   "metadata": {},
   "outputs": [
    {
     "data": {
      "text/plain": [
       "12.56"
      ]
     },
     "execution_count": 65,
     "metadata": {},
     "output_type": "execute_result"
    }
   ],
   "source": [
    "my_circle.area"
   ]
  },
  {
   "cell_type": "code",
   "execution_count": 66,
   "id": "80e881df-ef4d-4ea3-9108-3cd89b2031e8",
   "metadata": {},
   "outputs": [],
   "source": [
    "new_circle = Circle()"
   ]
  },
  {
   "cell_type": "code",
   "execution_count": 67,
   "id": "a2a86ce8-c51c-4498-8f3b-8038a764365c",
   "metadata": {},
   "outputs": [
    {
     "data": {
      "text/plain": [
       "6.28"
      ]
     },
     "execution_count": 67,
     "metadata": {},
     "output_type": "execute_result"
    }
   ],
   "source": [
    "new_circle.get_circumference()"
   ]
  },
  {
   "cell_type": "code",
   "execution_count": null,
   "id": "49cfdf38-1980-4668-bb13-0f9b805e0014",
   "metadata": {},
   "outputs": [],
   "source": []
  }
 ],
 "metadata": {
  "kernelspec": {
   "display_name": "Python 3 (ipykernel)",
   "language": "python",
   "name": "python3"
  },
  "language_info": {
   "codemirror_mode": {
    "name": "ipython",
    "version": 3
   },
   "file_extension": ".py",
   "mimetype": "text/x-python",
   "name": "python",
   "nbconvert_exporter": "python",
   "pygments_lexer": "ipython3",
   "version": "3.11.7"
  }
 },
 "nbformat": 4,
 "nbformat_minor": 5
}
