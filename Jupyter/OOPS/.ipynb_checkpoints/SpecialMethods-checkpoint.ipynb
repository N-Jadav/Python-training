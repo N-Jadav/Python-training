{
 "cells": [
  {
   "cell_type": "code",
   "execution_count": 1,
   "id": "11536fd0-cedc-4e1f-94b5-a35344f44fc2",
   "metadata": {},
   "outputs": [
    {
     "data": {
      "text/plain": [
       "3"
      ]
     },
     "execution_count": 1,
     "metadata": {},
     "output_type": "execute_result"
    }
   ],
   "source": [
    "mylist = [1,2,3]\n",
    "len(mylist)"
   ]
  },
  {
   "cell_type": "code",
   "execution_count": 13,
   "id": "15ea4163-d8fe-4373-a1be-67408323556f",
   "metadata": {},
   "outputs": [],
   "source": [
    "class Book():\n",
    "    \n",
    "    def __init__(self, title, author, pages):\n",
    "        self.title = title\n",
    "        self.author = author\n",
    "        self.pages = pages\n",
    "\n",
    "    ## inbuilt str method in python is implemented so that it works for user defined object as well\n",
    "    def __str__(self):\n",
    "        return f\"{self.title} by {self.author} has {self.pages} pages\"\n",
    "    ## inbuilt len method in python is implemented so that it works for user defined object as well\n",
    "    def __len__(self):\n",
    "        return self.pages"
   ]
  },
  {
   "cell_type": "code",
   "execution_count": 14,
   "id": "1afbc41d-7aa5-4b1a-b1f8-48acf05c2824",
   "metadata": {},
   "outputs": [],
   "source": [
    "b = Book('Python rocks', 'Jose', 65)"
   ]
  },
  {
   "cell_type": "code",
   "execution_count": 17,
   "id": "68167b0f-ff47-4111-ac75-1d0e9e4a5690",
   "metadata": {},
   "outputs": [
    {
     "name": "stdout",
     "output_type": "stream",
     "text": [
      "Python rocks by Jose has 65 pages\n"
     ]
    }
   ],
   "source": [
    "print(b)"
   ]
  },
  {
   "cell_type": "code",
   "execution_count": 18,
   "id": "92ec4960-5cd6-442c-9771-2a3d162f4264",
   "metadata": {},
   "outputs": [],
   "source": [
    "del b"
   ]
  },
  {
   "cell_type": "code",
   "execution_count": 19,
   "id": "e7ae851d-0da8-4c86-a34d-da09a6a4f142",
   "metadata": {},
   "outputs": [
    {
     "ename": "NameError",
     "evalue": "name 'b' is not defined",
     "output_type": "error",
     "traceback": [
      "\u001b[1;31m---------------------------------------------------------------------------\u001b[0m",
      "\u001b[1;31mNameError\u001b[0m                                 Traceback (most recent call last)",
      "Cell \u001b[1;32mIn[19], line 1\u001b[0m\n\u001b[1;32m----> 1\u001b[0m b\n",
      "\u001b[1;31mNameError\u001b[0m: name 'b' is not defined"
     ]
    }
   ],
   "source": [
    "b"
   ]
  },
  {
   "cell_type": "code",
   "execution_count": null,
   "id": "0e58d226-2435-42d2-a17d-3b5d4e7240b5",
   "metadata": {},
   "outputs": [],
   "source": []
  }
 ],
 "metadata": {
  "kernelspec": {
   "display_name": "Python 3 (ipykernel)",
   "language": "python",
   "name": "python3"
  },
  "language_info": {
   "codemirror_mode": {
    "name": "ipython",
    "version": 3
   },
   "file_extension": ".py",
   "mimetype": "text/x-python",
   "name": "python",
   "nbconvert_exporter": "python",
   "pygments_lexer": "ipython3",
   "version": "3.11.7"
  }
 },
 "nbformat": 4,
 "nbformat_minor": 5
}
