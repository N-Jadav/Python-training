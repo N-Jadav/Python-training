{
 "cells": [
  {
   "cell_type": "code",
   "execution_count": 1,
   "id": "590dc6a5-1402-4dd7-b0d8-7fdf72996e14",
   "metadata": {},
   "outputs": [],
   "source": [
    "\n",
    "class Animal():\n",
    "\n",
    "    def __init__(self):\n",
    "        print(\"Animal created\")\n",
    "\n",
    "    def who_am_i(self):\n",
    "        print(\"I am an animal\")\n",
    "\n",
    "    def eat(self):\n",
    "        print(\"I am eating\")"
   ]
  },
  {
   "cell_type": "code",
   "execution_count": 2,
   "id": "e8fcf617-ee5a-49cb-9ef1-495a6dd301c2",
   "metadata": {},
   "outputs": [
    {
     "name": "stdout",
     "output_type": "stream",
     "text": [
      "Animal created\n"
     ]
    }
   ],
   "source": [
    "my_animal = Animal()"
   ]
  },
  {
   "cell_type": "code",
   "execution_count": 3,
   "id": "762ce777-6972-4941-92b2-d247aa48cfa4",
   "metadata": {},
   "outputs": [
    {
     "name": "stdout",
     "output_type": "stream",
     "text": [
      "I am an animal\n"
     ]
    }
   ],
   "source": [
    "my_animal.who_am_i()"
   ]
  },
  {
   "cell_type": "code",
   "execution_count": 17,
   "id": "dae0fe30-ce0d-42cb-9748-914479b9807a",
   "metadata": {},
   "outputs": [],
   "source": [
    "# Dog class inherits Animal class\n",
    "class Dog(Animal):\n",
    "    def __init__(self):\n",
    "        # Calling the Animal init method\n",
    "        Animal.__init__(self)\n",
    "        print(\"Dog created\")\n",
    "    # Override the eat method in Animal    \n",
    "    def eat(self):\n",
    "        print(\"I love to eat bone\")\n",
    "    # New methods can be added\n",
    "    def bark(self):\n",
    "        print(\"Woof!!\")"
   ]
  },
  {
   "cell_type": "code",
   "execution_count": 18,
   "id": "e8722d0e-321c-4fcb-9c0f-9a99ef1fc321",
   "metadata": {},
   "outputs": [
    {
     "name": "stdout",
     "output_type": "stream",
     "text": [
      "Animal created\n",
      "Dog created\n"
     ]
    }
   ],
   "source": [
    "my_dog = Dog()"
   ]
  },
  {
   "cell_type": "code",
   "execution_count": 19,
   "id": "9b04f113-76e6-45e7-8168-11cfbd795e36",
   "metadata": {},
   "outputs": [
    {
     "name": "stdout",
     "output_type": "stream",
     "text": [
      "I am an animal\n"
     ]
    }
   ],
   "source": [
    "my_dog.who_am_i()"
   ]
  },
  {
   "cell_type": "code",
   "execution_count": 20,
   "id": "ba5cbe22-42cd-4e0a-a19b-42671c0440fb",
   "metadata": {},
   "outputs": [
    {
     "name": "stdout",
     "output_type": "stream",
     "text": [
      "I love to eat bone\n"
     ]
    }
   ],
   "source": [
    "my_dog.eat()"
   ]
  },
  {
   "cell_type": "code",
   "execution_count": null,
   "id": "daeb23f8-d3a6-40e3-9539-3b0982efdc2d",
   "metadata": {},
   "outputs": [],
   "source": []
  }
 ],
 "metadata": {
  "kernelspec": {
   "display_name": "Python 3 (ipykernel)",
   "language": "python",
   "name": "python3"
  },
  "language_info": {
   "codemirror_mode": {
    "name": "ipython",
    "version": 3
   },
   "file_extension": ".py",
   "mimetype": "text/x-python",
   "name": "python",
   "nbconvert_exporter": "python",
   "pygments_lexer": "ipython3",
   "version": "3.11.7"
  }
 },
 "nbformat": 4,
 "nbformat_minor": 5
}
